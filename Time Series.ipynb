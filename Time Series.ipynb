{
 "cells": [
  {
   "cell_type": "code",
<<<<<<< HEAD
   "execution_count": 1,
=======
   "execution_count": 55,
>>>>>>> 6c593edfd61dfedc4f221160443927b8f9020fad
   "metadata": {},
   "outputs": [],
   "source": [
    "import pandas as pd\n",
    "import numpy as np\n",
    "import seaborn as sns\n",
    "import matplotlib.pyplot as plt"
   ]
  },
  {
   "cell_type": "markdown",
   "metadata": {},
   "source": [
    "# READ CSV\n",
    "\n",
    "Se i 'value' che ho messo nei nomi delle colonne ti sembrano inutili toglili proprio."
   ]
  },
  {
   "cell_type": "code",
<<<<<<< HEAD
   "execution_count": 2,
   "metadata": {},
   "outputs": [],
   "source": [
    "block_height = pd.read_csv(\"data/bitcoin-block-height.csv\")\n",
    "difficulty_ribbon = pd.read_csv(\"data/bitcoin-difficulty-ribbon.csv\")\n",
    "market_cap_usd = pd.read_csv(\"data/bitcoin-market-cap-usd.csv\")\n",
    "hash_rate = pd.read_csv(\"data/bitcoin-mean-hash-rate.csv\")\n",
    "new_addresses = pd.read_csv(\"data/bitcoin-number-of-new-addresses.csv\")\n",
    "active_addresses = pd.read_csv(\"data/bitcoin-number-of-active-addresses.csv\")\n",
    "SOPR = pd.read_csv(\"data/bitcoin-spent-output-profit-ratio-sopr.csv\")\n",
    "stock_to_flow = pd.read_csv(\"data/bitcoin-stock-to-flow-ratio-usd.csv\")\n",
    "fees = pd.read_csv(\"data/bitcoin-total-transaction-fees-btc.csv\")"
=======
   "execution_count": 78,
   "metadata": {},
   "outputs": [],
   "source": [
    "block_height = pd.read_csv(\"data/bitcoin-block-height.csv\", index_col=0)\n",
    "block_height.index = pd.to_datetime(block_height.index.str.rstrip(\"T00:00:00.000Z\"))\n",
    "block_height.columns = ['BHvalue']\n",
    "\n",
    "difficulty_ribbon = pd.read_csv(\"data/bitcoin-difficulty-ribbon.csv\", index_col=0)\n",
    "difficulty_ribbon.index = pd.to_datetime(difficulty_ribbon.index.str.rstrip(\"T00:00:00.000Z\"))\n",
    "difficulty_ribbon.columns = ['DR128','DR14','DR200','DR25','DR40','DR60','DR9','DR90']\n",
    "\n",
    "market_cap_usd = pd.read_csv(\"data/bitcoin-market-cap-usd.csv\", index_col=0)\n",
    "market_cap_usd.index = pd.to_datetime(market_cap_usd.index.str.rstrip(\"T00:00:00.000Z\"))\n",
    "market_cap_usd.columns = ['MCvalue']\n",
    "\n",
    "hash_rate = pd.read_csv(\"data/bitcoin-mean-hash-rate.csv\", index_col=0)\n",
    "hash_rate.index = pd.to_datetime(hash_rate.index.str.rstrip(\"T00:00:00.000Z\"))\n",
    "hash_rate.columns = ['HRvalue']\n",
    "\n",
    "active_addresses = pd.read_csv(\"data/bitcoin-number-of-active-addresses.csv\", index_col=0)\n",
    "active_addresses.index = pd.to_datetime(active_addresses.index.str.rstrip(\"T00:00:00.000Z\"))\n",
    "active_addresses.columns = ['AAvalue']\n",
    "\n",
    "new_addresses = pd.read_csv(\"data/bitcoin-number-of-new-addresses.csv\", index_col=0)\n",
    "new_addresses.index = pd.to_datetime(new_addresses.index.str.rstrip(\"T00:00:00.000Z\"))\n",
    "new_addresses.columns = ['NAvalue']\n",
    "\n",
    "SOPR = pd.read_csv(\"data/bitcoin-spent-output-profit-ratio-sopr.csv\", index_col=0)\n",
    "SOPR.index = pd.to_datetime(SOPR.index.str.rstrip(\"T00:00:00.000Z\"))\n",
    "\n",
    "stock_to_flow = pd.read_csv(\"data/bitcoin-stock-to-flow-ratio-usd.csv\", index_col=0)\n",
    "stock_to_flow.index = pd.to_datetime(stock_to_flow.index.str.rstrip(\"T00:00:00.000Z\"))\n",
    "#stock_to_flow.columns = []   # vedi se ci sono 3 nomi che ti sembrano sensati\n",
    "\n",
    "fees = pd.read_csv(\"data/bitcoin-total-transaction-fees-btc.csv\", index_col=0)\n",
    "fees.index = pd.to_datetime(fees.index.str.rstrip(\"T00:00:00.000Z\"))\n",
    "fees.columns = ['TFvalue']"
>>>>>>> 6c593edfd61dfedc4f221160443927b8f9020fad
   ]
  },
  {
   "cell_type": "code",
<<<<<<< HEAD
   "execution_count": 3,
   "metadata": {},
   "outputs": [
    {
     "data": {
      "text/html": [
       "<div>\n",
       "<style scoped>\n",
       "    .dataframe tbody tr th:only-of-type {\n",
       "        vertical-align: middle;\n",
       "    }\n",
       "\n",
       "    .dataframe tbody tr th {\n",
       "        vertical-align: top;\n",
       "    }\n",
       "\n",
       "    .dataframe thead th {\n",
       "        text-align: right;\n",
       "    }\n",
       "</style>\n",
       "<table border=\"1\" class=\"dataframe\">\n",
       "  <thead>\n",
       "    <tr style=\"text-align: right;\">\n",
       "      <th></th>\n",
       "      <th>New Addresses/t</th>\n",
       "      <th>New Addresses/v</th>\n",
       "    </tr>\n",
       "  </thead>\n",
       "  <tbody>\n",
       "    <tr>\n",
       "      <th>0</th>\n",
       "      <td>2009-01-03</td>\n",
       "      <td>1</td>\n",
       "    </tr>\n",
       "    <tr>\n",
       "      <th>1</th>\n",
       "      <td>2009-01-04</td>\n",
       "      <td>0</td>\n",
       "    </tr>\n",
       "    <tr>\n",
       "      <th>2</th>\n",
       "      <td>2009-01-05</td>\n",
       "      <td>0</td>\n",
       "    </tr>\n",
       "    <tr>\n",
       "      <th>3</th>\n",
       "      <td>2009-01-06</td>\n",
       "      <td>0</td>\n",
       "    </tr>\n",
       "    <tr>\n",
       "      <th>4</th>\n",
       "      <td>2009-01-07</td>\n",
       "      <td>0</td>\n",
       "    </tr>\n",
       "    <tr>\n",
       "      <th>...</th>\n",
       "      <td>...</td>\n",
       "      <td>...</td>\n",
       "    </tr>\n",
       "    <tr>\n",
       "      <th>4983</th>\n",
       "      <td>2022-08-26</td>\n",
       "      <td>419006</td>\n",
       "    </tr>\n",
       "    <tr>\n",
       "      <th>4984</th>\n",
       "      <td>2022-08-27</td>\n",
       "      <td>372221</td>\n",
       "    </tr>\n",
       "    <tr>\n",
       "      <th>4985</th>\n",
       "      <td>2022-08-28</td>\n",
       "      <td>332740</td>\n",
       "    </tr>\n",
       "    <tr>\n",
       "      <th>4986</th>\n",
       "      <td>2022-08-29</td>\n",
       "      <td>390672</td>\n",
       "    </tr>\n",
       "    <tr>\n",
       "      <th>4987</th>\n",
       "      <td>2022-08-3</td>\n",
       "      <td>405289</td>\n",
       "    </tr>\n",
       "  </tbody>\n",
       "</table>\n",
       "<p>4988 rows × 2 columns</p>\n",
       "</div>"
      ],
      "text/plain": [
       "     New Addresses/t  New Addresses/v\n",
       "0         2009-01-03                1\n",
       "1         2009-01-04                0\n",
       "2         2009-01-05                0\n",
       "3         2009-01-06                0\n",
       "4         2009-01-07                0\n",
       "...              ...              ...\n",
       "4983      2022-08-26           419006\n",
       "4984      2022-08-27           372221\n",
       "4985      2022-08-28           332740\n",
       "4986      2022-08-29           390672\n",
       "4987       2022-08-3           405289\n",
       "\n",
       "[4988 rows x 2 columns]"
      ]
     },
     "execution_count": 3,
     "metadata": {},
     "output_type": "execute_result"
    }
   ],
   "source": [
    "new_addresses = pd.read_csv(\"data/bitcoin-number-of-new-addresses.csv\")\n",
    "new_addresses[\"New Addresses/t\"] = new_addresses[\"New Addresses/t\"].str.rstrip(\"T00:00:00.000Z\")\n",
    "new_addresses"
   ]
  },
  {
   "cell_type": "code",
   "execution_count": 4,
   "metadata": {},
   "outputs": [
    {
     "data": {
      "text/html": [
       "<div>\n",
       "<style scoped>\n",
       "    .dataframe tbody tr th:only-of-type {\n",
       "        vertical-align: middle;\n",
       "    }\n",
       "\n",
       "    .dataframe tbody tr th {\n",
       "        vertical-align: top;\n",
       "    }\n",
       "\n",
       "    .dataframe thead th {\n",
       "        text-align: right;\n",
       "    }\n",
       "</style>\n",
       "<table border=\"1\" class=\"dataframe\">\n",
       "  <thead>\n",
       "    <tr style=\"text-align: right;\">\n",
       "      <th></th>\n",
       "      <th>Active Addresses/t</th>\n",
       "      <th>Active Addresses/v</th>\n",
       "    </tr>\n",
       "  </thead>\n",
       "  <tbody>\n",
       "    <tr>\n",
       "      <th>0</th>\n",
       "      <td>2008-12-29</td>\n",
       "      <td>0</td>\n",
       "    </tr>\n",
       "    <tr>\n",
       "      <th>1</th>\n",
       "      <td>2009-01-05</td>\n",
       "      <td>0</td>\n",
       "    </tr>\n",
       "    <tr>\n",
       "      <th>2</th>\n",
       "      <td>2009-01-12</td>\n",
       "      <td>34</td>\n",
       "    </tr>\n",
       "    <tr>\n",
       "      <th>3</th>\n",
       "      <td>2009-01-19</td>\n",
       "      <td>63</td>\n",
       "    </tr>\n",
       "    <tr>\n",
       "      <th>4</th>\n",
       "      <td>2009-01-26</td>\n",
       "      <td>61</td>\n",
       "    </tr>\n",
       "    <tr>\n",
       "      <th>...</th>\n",
       "      <td>...</td>\n",
       "      <td>...</td>\n",
       "    </tr>\n",
       "    <tr>\n",
       "      <th>708</th>\n",
       "      <td>2022-07-25</td>\n",
       "      <td>4565989</td>\n",
       "    </tr>\n",
       "    <tr>\n",
       "      <th>709</th>\n",
       "      <td>2022-08-01</td>\n",
       "      <td>4505870</td>\n",
       "    </tr>\n",
       "    <tr>\n",
       "      <th>710</th>\n",
       "      <td>2022-08-08</td>\n",
       "      <td>4687324</td>\n",
       "    </tr>\n",
       "    <tr>\n",
       "      <th>711</th>\n",
       "      <td>2022-08-15</td>\n",
       "      <td>4662329</td>\n",
       "    </tr>\n",
       "    <tr>\n",
       "      <th>712</th>\n",
       "      <td>2022-08-22</td>\n",
       "      <td>4483301</td>\n",
       "    </tr>\n",
       "  </tbody>\n",
       "</table>\n",
       "<p>713 rows × 2 columns</p>\n",
       "</div>"
      ],
      "text/plain": [
       "    Active Addresses/t  Active Addresses/v\n",
       "0           2008-12-29                   0\n",
       "1           2009-01-05                   0\n",
       "2           2009-01-12                  34\n",
       "3           2009-01-19                  63\n",
       "4           2009-01-26                  61\n",
       "..                 ...                 ...\n",
       "708         2022-07-25             4565989\n",
       "709         2022-08-01             4505870\n",
       "710         2022-08-08             4687324\n",
       "711         2022-08-15             4662329\n",
       "712         2022-08-22             4483301\n",
       "\n",
       "[713 rows x 2 columns]"
      ]
     },
     "execution_count": 4,
     "metadata": {},
     "output_type": "execute_result"
    }
   ],
   "source": [
    "active_addresses\n",
    "active_addresses[\"Active Addresses/t\"] = active_addresses[\"Active Addresses/t\"].str.rstrip(\"T00:00:00.000Z\")\n",
    "active_addresses"
   ]
  },
  {
   "cell_type": "code",
   "execution_count": 5,
   "metadata": {},
   "outputs": [
    {
     "data": {
      "text/html": [
       "<div>\n",
       "<style scoped>\n",
       "    .dataframe tbody tr th:only-of-type {\n",
       "        vertical-align: middle;\n",
       "    }\n",
       "\n",
       "    .dataframe tbody tr th {\n",
       "        vertical-align: top;\n",
       "    }\n",
       "\n",
       "    .dataframe thead th {\n",
       "        text-align: right;\n",
       "    }\n",
       "</style>\n",
       "<table border=\"1\" class=\"dataframe\">\n",
       "  <thead>\n",
       "    <tr style=\"text-align: right;\">\n",
       "      <th></th>\n",
       "      <th>Block Height/t</th>\n",
       "      <th>Block Height/v</th>\n",
       "    </tr>\n",
       "  </thead>\n",
       "  <tbody>\n",
       "    <tr>\n",
       "      <th>0</th>\n",
       "      <td>2009-01-09</td>\n",
       "      <td>14</td>\n",
       "    </tr>\n",
       "    <tr>\n",
       "      <th>1</th>\n",
       "      <td>2009-01-1</td>\n",
       "      <td>75</td>\n",
       "    </tr>\n",
       "    <tr>\n",
       "      <th>2</th>\n",
       "      <td>2009-01-11</td>\n",
       "      <td>168</td>\n",
       "    </tr>\n",
       "    <tr>\n",
       "      <th>3</th>\n",
       "      <td>2009-01-12</td>\n",
       "      <td>262</td>\n",
       "    </tr>\n",
       "    <tr>\n",
       "      <th>4</th>\n",
       "      <td>2009-01-13</td>\n",
       "      <td>385</td>\n",
       "    </tr>\n",
       "    <tr>\n",
       "      <th>...</th>\n",
       "      <td>...</td>\n",
       "      <td>...</td>\n",
       "    </tr>\n",
       "    <tr>\n",
       "      <th>4977</th>\n",
       "      <td>2022-08-26</td>\n",
       "      <td>751304</td>\n",
       "    </tr>\n",
       "    <tr>\n",
       "      <th>4978</th>\n",
       "      <td>2022-08-27</td>\n",
       "      <td>751449</td>\n",
       "    </tr>\n",
       "    <tr>\n",
       "      <th>4979</th>\n",
       "      <td>2022-08-28</td>\n",
       "      <td>751610</td>\n",
       "    </tr>\n",
       "    <tr>\n",
       "      <th>4980</th>\n",
       "      <td>2022-08-29</td>\n",
       "      <td>751767</td>\n",
       "    </tr>\n",
       "    <tr>\n",
       "      <th>4981</th>\n",
       "      <td>2022-08-3</td>\n",
       "      <td>751929</td>\n",
       "    </tr>\n",
       "  </tbody>\n",
       "</table>\n",
       "<p>4982 rows × 2 columns</p>\n",
       "</div>"
      ],
      "text/plain": [
       "     Block Height/t  Block Height/v\n",
       "0        2009-01-09              14\n",
       "1         2009-01-1              75\n",
       "2        2009-01-11             168\n",
       "3        2009-01-12             262\n",
       "4        2009-01-13             385\n",
       "...             ...             ...\n",
       "4977     2022-08-26          751304\n",
       "4978     2022-08-27          751449\n",
       "4979     2022-08-28          751610\n",
       "4980     2022-08-29          751767\n",
       "4981      2022-08-3          751929\n",
       "\n",
       "[4982 rows x 2 columns]"
      ]
     },
     "execution_count": 5,
     "metadata": {},
     "output_type": "execute_result"
    }
   ],
   "source": [
    "block_height\n",
    "block_height[\"Block Height/t\"] = block_height[\"Block Height/t\"].str.rstrip(\"T00:00:00.000Z\")\n",
    "block_height"
   ]
  },
  {
   "cell_type": "code",
   "execution_count": 6,
   "metadata": {},
   "outputs": [
    {
     "data": {
      "text/html": [
       "<div>\n",
       "<style scoped>\n",
       "    .dataframe tbody tr th:only-of-type {\n",
       "        vertical-align: middle;\n",
       "    }\n",
       "\n",
       "    .dataframe tbody tr th {\n",
       "        vertical-align: top;\n",
       "    }\n",
       "\n",
       "    .dataframe thead th {\n",
       "        text-align: right;\n",
       "    }\n",
       "</style>\n",
       "<table border=\"1\" class=\"dataframe\">\n",
       "  <thead>\n",
       "    <tr style=\"text-align: right;\">\n",
       "      <th></th>\n",
       "      <th>Difficulty Ribbon/t</th>\n",
       "      <th>Difficulty Ribbon/o/ma128</th>\n",
       "      <th>Difficulty Ribbon/o/ma14</th>\n",
       "      <th>Difficulty Ribbon/o/ma200</th>\n",
       "      <th>Difficulty Ribbon/o/ma25</th>\n",
       "      <th>Difficulty Ribbon/o/ma40</th>\n",
       "      <th>Difficulty Ribbon/o/ma60</th>\n",
       "      <th>Difficulty Ribbon/o/ma9</th>\n",
       "      <th>Difficulty Ribbon/o/ma90</th>\n",
       "    </tr>\n",
       "  </thead>\n",
       "  <tbody>\n",
       "    <tr>\n",
       "      <th>0</th>\n",
       "      <td>2009-07-28</td>\n",
       "      <td>4.294967e+09</td>\n",
       "      <td>4.294967e+09</td>\n",
       "      <td>4.294967e+09</td>\n",
       "      <td>4.294967e+09</td>\n",
       "      <td>4.294967e+09</td>\n",
       "      <td>4.294967e+09</td>\n",
       "      <td>4.294967e+09</td>\n",
       "      <td>4.294967e+09</td>\n",
       "    </tr>\n",
       "    <tr>\n",
       "      <th>1</th>\n",
       "      <td>2009-07-29</td>\n",
       "      <td>4.294967e+09</td>\n",
       "      <td>4.294967e+09</td>\n",
       "      <td>4.294967e+09</td>\n",
       "      <td>4.294967e+09</td>\n",
       "      <td>4.294967e+09</td>\n",
       "      <td>4.294967e+09</td>\n",
       "      <td>4.294967e+09</td>\n",
       "      <td>4.294967e+09</td>\n",
       "    </tr>\n",
       "    <tr>\n",
       "      <th>2</th>\n",
       "      <td>2009-07-3</td>\n",
       "      <td>4.294967e+09</td>\n",
       "      <td>4.294967e+09</td>\n",
       "      <td>4.294967e+09</td>\n",
       "      <td>4.294967e+09</td>\n",
       "      <td>4.294967e+09</td>\n",
       "      <td>4.294967e+09</td>\n",
       "      <td>4.294967e+09</td>\n",
       "      <td>4.294967e+09</td>\n",
       "    </tr>\n",
       "    <tr>\n",
       "      <th>3</th>\n",
       "      <td>2009-07-31</td>\n",
       "      <td>4.294967e+09</td>\n",
       "      <td>4.294967e+09</td>\n",
       "      <td>4.294967e+09</td>\n",
       "      <td>4.294967e+09</td>\n",
       "      <td>4.294967e+09</td>\n",
       "      <td>4.294967e+09</td>\n",
       "      <td>4.294967e+09</td>\n",
       "      <td>4.294967e+09</td>\n",
       "    </tr>\n",
       "    <tr>\n",
       "      <th>4</th>\n",
       "      <td>2009-08-01</td>\n",
       "      <td>4.294967e+09</td>\n",
       "      <td>4.294967e+09</td>\n",
       "      <td>4.294967e+09</td>\n",
       "      <td>4.294967e+09</td>\n",
       "      <td>4.294967e+09</td>\n",
       "      <td>4.294967e+09</td>\n",
       "      <td>4.294967e+09</td>\n",
       "      <td>4.294967e+09</td>\n",
       "    </tr>\n",
       "    <tr>\n",
       "      <th>...</th>\n",
       "      <td>...</td>\n",
       "      <td>...</td>\n",
       "      <td>...</td>\n",
       "      <td>...</td>\n",
       "      <td>...</td>\n",
       "      <td>...</td>\n",
       "      <td>...</td>\n",
       "      <td>...</td>\n",
       "      <td>...</td>\n",
       "    </tr>\n",
       "    <tr>\n",
       "      <th>4777</th>\n",
       "      <td>2022-08-26</td>\n",
       "      <td>1.260632e+23</td>\n",
       "      <td>1.214978e+23</td>\n",
       "      <td>1.236215e+23</td>\n",
       "      <td>1.211172e+23</td>\n",
       "      <td>1.207706e+23</td>\n",
       "      <td>1.225194e+23</td>\n",
       "      <td>1.217692e+23</td>\n",
       "      <td>1.246465e+23</td>\n",
       "    </tr>\n",
       "    <tr>\n",
       "      <th>4778</th>\n",
       "      <td>2022-08-27</td>\n",
       "      <td>1.260674e+23</td>\n",
       "      <td>1.215521e+23</td>\n",
       "      <td>1.236572e+23</td>\n",
       "      <td>1.212304e+23</td>\n",
       "      <td>1.206846e+23</td>\n",
       "      <td>1.224322e+23</td>\n",
       "      <td>1.217692e+23</td>\n",
       "      <td>1.245728e+23</td>\n",
       "    </tr>\n",
       "    <tr>\n",
       "      <th>4779</th>\n",
       "      <td>2022-08-28</td>\n",
       "      <td>1.260717e+23</td>\n",
       "      <td>1.216064e+23</td>\n",
       "      <td>1.236929e+23</td>\n",
       "      <td>1.213437e+23</td>\n",
       "      <td>1.205986e+23</td>\n",
       "      <td>1.223450e+23</td>\n",
       "      <td>1.217692e+23</td>\n",
       "      <td>1.244990e+23</td>\n",
       "    </tr>\n",
       "    <tr>\n",
       "      <th>4780</th>\n",
       "      <td>2022-08-29</td>\n",
       "      <td>1.260759e+23</td>\n",
       "      <td>1.216607e+23</td>\n",
       "      <td>1.237285e+23</td>\n",
       "      <td>1.213741e+23</td>\n",
       "      <td>1.205126e+23</td>\n",
       "      <td>1.222577e+23</td>\n",
       "      <td>1.217692e+23</td>\n",
       "      <td>1.244252e+23</td>\n",
       "    </tr>\n",
       "    <tr>\n",
       "      <th>4781</th>\n",
       "      <td>2022-08-3</td>\n",
       "      <td>1.260801e+23</td>\n",
       "      <td>1.217149e+23</td>\n",
       "      <td>1.237642e+23</td>\n",
       "      <td>1.214045e+23</td>\n",
       "      <td>1.205833e+23</td>\n",
       "      <td>1.221705e+23</td>\n",
       "      <td>1.217692e+23</td>\n",
       "      <td>1.243514e+23</td>\n",
       "    </tr>\n",
       "  </tbody>\n",
       "</table>\n",
       "<p>4782 rows × 9 columns</p>\n",
       "</div>"
      ],
      "text/plain": [
       "     Difficulty Ribbon/t  Difficulty Ribbon/o/ma128  Difficulty Ribbon/o/ma14  \\\n",
       "0             2009-07-28               4.294967e+09              4.294967e+09   \n",
       "1             2009-07-29               4.294967e+09              4.294967e+09   \n",
       "2              2009-07-3               4.294967e+09              4.294967e+09   \n",
       "3             2009-07-31               4.294967e+09              4.294967e+09   \n",
       "4             2009-08-01               4.294967e+09              4.294967e+09   \n",
       "...                  ...                        ...                       ...   \n",
       "4777          2022-08-26               1.260632e+23              1.214978e+23   \n",
       "4778          2022-08-27               1.260674e+23              1.215521e+23   \n",
       "4779          2022-08-28               1.260717e+23              1.216064e+23   \n",
       "4780          2022-08-29               1.260759e+23              1.216607e+23   \n",
       "4781           2022-08-3               1.260801e+23              1.217149e+23   \n",
       "\n",
       "      Difficulty Ribbon/o/ma200  Difficulty Ribbon/o/ma25  \\\n",
       "0                  4.294967e+09              4.294967e+09   \n",
       "1                  4.294967e+09              4.294967e+09   \n",
       "2                  4.294967e+09              4.294967e+09   \n",
       "3                  4.294967e+09              4.294967e+09   \n",
       "4                  4.294967e+09              4.294967e+09   \n",
       "...                         ...                       ...   \n",
       "4777               1.236215e+23              1.211172e+23   \n",
       "4778               1.236572e+23              1.212304e+23   \n",
       "4779               1.236929e+23              1.213437e+23   \n",
       "4780               1.237285e+23              1.213741e+23   \n",
       "4781               1.237642e+23              1.214045e+23   \n",
       "\n",
       "      Difficulty Ribbon/o/ma40  Difficulty Ribbon/o/ma60  \\\n",
       "0                 4.294967e+09              4.294967e+09   \n",
       "1                 4.294967e+09              4.294967e+09   \n",
       "2                 4.294967e+09              4.294967e+09   \n",
       "3                 4.294967e+09              4.294967e+09   \n",
       "4                 4.294967e+09              4.294967e+09   \n",
       "...                        ...                       ...   \n",
       "4777              1.207706e+23              1.225194e+23   \n",
       "4778              1.206846e+23              1.224322e+23   \n",
       "4779              1.205986e+23              1.223450e+23   \n",
       "4780              1.205126e+23              1.222577e+23   \n",
       "4781              1.205833e+23              1.221705e+23   \n",
       "\n",
       "      Difficulty Ribbon/o/ma9  Difficulty Ribbon/o/ma90  \n",
       "0                4.294967e+09              4.294967e+09  \n",
       "1                4.294967e+09              4.294967e+09  \n",
       "2                4.294967e+09              4.294967e+09  \n",
       "3                4.294967e+09              4.294967e+09  \n",
       "4                4.294967e+09              4.294967e+09  \n",
       "...                       ...                       ...  \n",
       "4777             1.217692e+23              1.246465e+23  \n",
       "4778             1.217692e+23              1.245728e+23  \n",
       "4779             1.217692e+23              1.244990e+23  \n",
       "4780             1.217692e+23              1.244252e+23  \n",
       "4781             1.217692e+23              1.243514e+23  \n",
       "\n",
       "[4782 rows x 9 columns]"
      ]
     },
     "execution_count": 6,
     "metadata": {},
     "output_type": "execute_result"
    }
   ],
   "source": [
    "difficulty_ribbon\n",
    "difficulty_ribbon[\"Difficulty Ribbon/t\"] = difficulty_ribbon[\"Difficulty Ribbon/t\"].str.rstrip(\"T00:00:00.000Z\")\n",
    "difficulty_ribbon"
   ]
  },
  {
   "cell_type": "code",
   "execution_count": 7,
   "metadata": {},
   "outputs": [
    {
     "data": {
      "text/html": [
       "<div>\n",
       "<style scoped>\n",
       "    .dataframe tbody tr th:only-of-type {\n",
       "        vertical-align: middle;\n",
       "    }\n",
       "\n",
       "    .dataframe tbody tr th {\n",
       "        vertical-align: top;\n",
       "    }\n",
       "\n",
       "    .dataframe thead th {\n",
       "        text-align: right;\n",
       "    }\n",
       "</style>\n",
       "<table border=\"1\" class=\"dataframe\">\n",
       "  <thead>\n",
       "    <tr style=\"text-align: right;\">\n",
       "      <th></th>\n",
       "      <th>Market Cap/t</th>\n",
       "      <th>Market Cap/v</th>\n",
       "    </tr>\n",
       "  </thead>\n",
       "  <tbody>\n",
       "    <tr>\n",
       "      <th>0</th>\n",
       "      <td>2010-07-17</td>\n",
       "      <td>1.702649e+05</td>\n",
       "    </tr>\n",
       "    <tr>\n",
       "      <th>1</th>\n",
       "      <td>2010-07-18</td>\n",
       "      <td>2.959420e+05</td>\n",
       "    </tr>\n",
       "    <tr>\n",
       "      <th>2</th>\n",
       "      <td>2010-07-19</td>\n",
       "      <td>2.792690e+05</td>\n",
       "    </tr>\n",
       "    <tr>\n",
       "      <th>3</th>\n",
       "      <td>2010-07-2</td>\n",
       "      <td>2.589772e+05</td>\n",
       "    </tr>\n",
       "    <tr>\n",
       "      <th>4</th>\n",
       "      <td>2010-07-21</td>\n",
       "      <td>2.753102e+05</td>\n",
       "    </tr>\n",
       "    <tr>\n",
       "      <th>...</th>\n",
       "      <td>...</td>\n",
       "      <td>...</td>\n",
       "    </tr>\n",
       "    <tr>\n",
       "      <th>4423</th>\n",
       "      <td>2022-08-26</td>\n",
       "      <td>3.871251e+11</td>\n",
       "    </tr>\n",
       "    <tr>\n",
       "      <th>4424</th>\n",
       "      <td>2022-08-27</td>\n",
       "      <td>3.838172e+11</td>\n",
       "    </tr>\n",
       "    <tr>\n",
       "      <th>4425</th>\n",
       "      <td>2022-08-28</td>\n",
       "      <td>3.759987e+11</td>\n",
       "    </tr>\n",
       "    <tr>\n",
       "      <th>4426</th>\n",
       "      <td>2022-08-29</td>\n",
       "      <td>3.881729e+11</td>\n",
       "    </tr>\n",
       "    <tr>\n",
       "      <th>4427</th>\n",
       "      <td>2022-08-3</td>\n",
       "      <td>3.787287e+11</td>\n",
       "    </tr>\n",
       "  </tbody>\n",
       "</table>\n",
       "<p>4428 rows × 2 columns</p>\n",
       "</div>"
      ],
      "text/plain": [
       "     Market Cap/t  Market Cap/v\n",
       "0      2010-07-17  1.702649e+05\n",
       "1      2010-07-18  2.959420e+05\n",
       "2      2010-07-19  2.792690e+05\n",
       "3       2010-07-2  2.589772e+05\n",
       "4      2010-07-21  2.753102e+05\n",
       "...           ...           ...\n",
       "4423   2022-08-26  3.871251e+11\n",
       "4424   2022-08-27  3.838172e+11\n",
       "4425   2022-08-28  3.759987e+11\n",
       "4426   2022-08-29  3.881729e+11\n",
       "4427    2022-08-3  3.787287e+11\n",
       "\n",
       "[4428 rows x 2 columns]"
      ]
     },
     "execution_count": 7,
     "metadata": {},
     "output_type": "execute_result"
    }
   ],
   "source": [
    "market_cap_usd\n",
    "market_cap_usd[\"Market Cap/t\"] = market_cap_usd[\"Market Cap/t\"].str.rstrip(\"T00:00:00.000Z\")\n",
    "market_cap_usd"
   ]
  },
  {
   "cell_type": "code",
   "execution_count": 8,
   "metadata": {},
   "outputs": [
    {
     "data": {
      "text/html": [
       "<div>\n",
       "<style scoped>\n",
       "    .dataframe tbody tr th:only-of-type {\n",
       "        vertical-align: middle;\n",
       "    }\n",
       "\n",
       "    .dataframe tbody tr th {\n",
       "        vertical-align: top;\n",
       "    }\n",
       "\n",
       "    .dataframe thead th {\n",
       "        text-align: right;\n",
       "    }\n",
       "</style>\n",
       "<table border=\"1\" class=\"dataframe\">\n",
       "  <thead>\n",
       "    <tr style=\"text-align: right;\">\n",
       "      <th></th>\n",
       "      <th>Hash Rate/t</th>\n",
       "      <th>Hash Rate/v</th>\n",
       "    </tr>\n",
       "  </thead>\n",
       "  <tbody>\n",
       "    <tr>\n",
       "      <th>0</th>\n",
       "      <td>2009-01-09</td>\n",
       "      <td>1.281850e+05</td>\n",
       "    </tr>\n",
       "    <tr>\n",
       "      <th>1</th>\n",
       "      <td>2009-01-1</td>\n",
       "      <td>1.676938e+06</td>\n",
       "    </tr>\n",
       "    <tr>\n",
       "      <th>2</th>\n",
       "      <td>2009-01-11</td>\n",
       "      <td>4.679436e+06</td>\n",
       "    </tr>\n",
       "    <tr>\n",
       "      <th>3</th>\n",
       "      <td>2009-01-12</td>\n",
       "      <td>4.653054e+06</td>\n",
       "    </tr>\n",
       "    <tr>\n",
       "      <th>4</th>\n",
       "      <td>2009-01-13</td>\n",
       "      <td>6.070590e+06</td>\n",
       "    </tr>\n",
       "    <tr>\n",
       "      <th>...</th>\n",
       "      <td>...</td>\n",
       "      <td>...</td>\n",
       "    </tr>\n",
       "    <tr>\n",
       "      <th>4977</th>\n",
       "      <td>2022-08-26</td>\n",
       "      <td>2.484308e+20</td>\n",
       "    </tr>\n",
       "    <tr>\n",
       "      <th>4978</th>\n",
       "      <td>2022-08-27</td>\n",
       "      <td>2.043652e+20</td>\n",
       "    </tr>\n",
       "    <tr>\n",
       "      <th>4979</th>\n",
       "      <td>2022-08-28</td>\n",
       "      <td>2.245404e+20</td>\n",
       "    </tr>\n",
       "    <tr>\n",
       "      <th>4980</th>\n",
       "      <td>2022-08-29</td>\n",
       "      <td>2.218379e+20</td>\n",
       "    </tr>\n",
       "    <tr>\n",
       "      <th>4981</th>\n",
       "      <td>2022-08-3</td>\n",
       "      <td>2.274486e+20</td>\n",
       "    </tr>\n",
       "  </tbody>\n",
       "</table>\n",
       "<p>4982 rows × 2 columns</p>\n",
       "</div>"
      ],
      "text/plain": [
       "     Hash Rate/t   Hash Rate/v\n",
       "0     2009-01-09  1.281850e+05\n",
       "1      2009-01-1  1.676938e+06\n",
       "2     2009-01-11  4.679436e+06\n",
       "3     2009-01-12  4.653054e+06\n",
       "4     2009-01-13  6.070590e+06\n",
       "...          ...           ...\n",
       "4977  2022-08-26  2.484308e+20\n",
       "4978  2022-08-27  2.043652e+20\n",
       "4979  2022-08-28  2.245404e+20\n",
       "4980  2022-08-29  2.218379e+20\n",
       "4981   2022-08-3  2.274486e+20\n",
       "\n",
       "[4982 rows x 2 columns]"
      ]
     },
     "execution_count": 8,
     "metadata": {},
     "output_type": "execute_result"
    }
   ],
   "source": [
    "hash_rate\n",
    "hash_rate[\"Hash Rate/t\"] = hash_rate[\"Hash Rate/t\"].str.rstrip(\"T00:00:00.000Z\")\n",
    "hash_rate"
   ]
  },
  {
   "cell_type": "code",
   "execution_count": 9,
   "metadata": {},
   "outputs": [
    {
     "data": {
      "text/html": [
       "<div>\n",
       "<style scoped>\n",
       "    .dataframe tbody tr th:only-of-type {\n",
       "        vertical-align: middle;\n",
       "    }\n",
       "\n",
       "    .dataframe tbody tr th {\n",
       "        vertical-align: top;\n",
       "    }\n",
       "\n",
       "    .dataframe thead th {\n",
       "        text-align: right;\n",
       "    }\n",
       "</style>\n",
       "<table border=\"1\" class=\"dataframe\">\n",
       "  <thead>\n",
       "    <tr style=\"text-align: right;\">\n",
       "      <th></th>\n",
       "      <th>SOPR/t</th>\n",
       "      <th>SOPR/v</th>\n",
       "    </tr>\n",
       "  </thead>\n",
       "  <tbody>\n",
       "    <tr>\n",
       "      <th>0</th>\n",
       "      <td>2012-12-31</td>\n",
       "      <td>1.012306</td>\n",
       "    </tr>\n",
       "    <tr>\n",
       "      <th>1</th>\n",
       "      <td>2013-01-01</td>\n",
       "      <td>0.998396</td>\n",
       "    </tr>\n",
       "    <tr>\n",
       "      <th>2</th>\n",
       "      <td>2013-01-02</td>\n",
       "      <td>0.999711</td>\n",
       "    </tr>\n",
       "    <tr>\n",
       "      <th>3</th>\n",
       "      <td>2013-01-03</td>\n",
       "      <td>1.000494</td>\n",
       "    </tr>\n",
       "    <tr>\n",
       "      <th>4</th>\n",
       "      <td>2013-01-04</td>\n",
       "      <td>1.002167</td>\n",
       "    </tr>\n",
       "    <tr>\n",
       "      <th>...</th>\n",
       "      <td>...</td>\n",
       "      <td>...</td>\n",
       "    </tr>\n",
       "    <tr>\n",
       "      <th>3525</th>\n",
       "      <td>2022-08-26</td>\n",
       "      <td>0.996005</td>\n",
       "    </tr>\n",
       "    <tr>\n",
       "      <th>3526</th>\n",
       "      <td>2022-08-27</td>\n",
       "      <td>0.994730</td>\n",
       "    </tr>\n",
       "    <tr>\n",
       "      <th>3527</th>\n",
       "      <td>2022-08-28</td>\n",
       "      <td>0.999703</td>\n",
       "    </tr>\n",
       "    <tr>\n",
       "      <th>3528</th>\n",
       "      <td>2022-08-29</td>\n",
       "      <td>0.999248</td>\n",
       "    </tr>\n",
       "    <tr>\n",
       "      <th>3529</th>\n",
       "      <td>2022-08-3</td>\n",
       "      <td>0.992702</td>\n",
       "    </tr>\n",
       "  </tbody>\n",
       "</table>\n",
       "<p>3530 rows × 2 columns</p>\n",
       "</div>"
      ],
      "text/plain": [
       "          SOPR/t    SOPR/v\n",
       "0     2012-12-31  1.012306\n",
       "1     2013-01-01  0.998396\n",
       "2     2013-01-02  0.999711\n",
       "3     2013-01-03  1.000494\n",
       "4     2013-01-04  1.002167\n",
       "...          ...       ...\n",
       "3525  2022-08-26  0.996005\n",
       "3526  2022-08-27  0.994730\n",
       "3527  2022-08-28  0.999703\n",
       "3528  2022-08-29  0.999248\n",
       "3529   2022-08-3  0.992702\n",
       "\n",
       "[3530 rows x 2 columns]"
      ]
     },
     "execution_count": 9,
     "metadata": {},
     "output_type": "execute_result"
    }
   ],
   "source": [
    "SOPR\n",
    "SOPR[\"SOPR/t\"] = SOPR[\"SOPR/t\"].str.rstrip(\"T00:00:00.000Z\")\n",
    "SOPR"
   ]
  },
  {
   "cell_type": "code",
   "execution_count": 10,
   "metadata": {},
   "outputs": [
    {
     "data": {
      "text/html": [
       "<div>\n",
       "<style scoped>\n",
       "    .dataframe tbody tr th:only-of-type {\n",
       "        vertical-align: middle;\n",
       "    }\n",
       "\n",
       "    .dataframe tbody tr th {\n",
       "        vertical-align: top;\n",
       "    }\n",
       "\n",
       "    .dataframe thead th {\n",
       "        text-align: right;\n",
       "    }\n",
       "</style>\n",
       "<table border=\"1\" class=\"dataframe\">\n",
       "  <thead>\n",
       "    <tr style=\"text-align: right;\">\n",
       "      <th></th>\n",
       "      <th>Stock-to-Flow Ratio/t</th>\n",
       "      <th>Stock-to-Flow Ratio/o/daysTillHalving</th>\n",
       "      <th>Stock-to-Flow Ratio/o/ratio</th>\n",
       "      <th>Stock-to-Flow Ratio/o/price</th>\n",
       "    </tr>\n",
       "  </thead>\n",
       "  <tbody>\n",
       "    <tr>\n",
       "      <th>0</th>\n",
       "      <td>2010-01-02</td>\n",
       "      <td>1061</td>\n",
       "      <td>6.670565e-03</td>\n",
       "      <td>NaN</td>\n",
       "    </tr>\n",
       "    <tr>\n",
       "      <th>1</th>\n",
       "      <td>2010-01-03</td>\n",
       "      <td>1060</td>\n",
       "      <td>6.871941e-03</td>\n",
       "      <td>NaN</td>\n",
       "    </tr>\n",
       "    <tr>\n",
       "      <th>2</th>\n",
       "      <td>2010-01-04</td>\n",
       "      <td>1059</td>\n",
       "      <td>7.069041e-03</td>\n",
       "      <td>NaN</td>\n",
       "    </tr>\n",
       "    <tr>\n",
       "      <th>3</th>\n",
       "      <td>2010-01-05</td>\n",
       "      <td>1058</td>\n",
       "      <td>7.286633e-03</td>\n",
       "      <td>NaN</td>\n",
       "    </tr>\n",
       "    <tr>\n",
       "      <th>4</th>\n",
       "      <td>2010-01-06</td>\n",
       "      <td>1057</td>\n",
       "      <td>7.467272e-03</td>\n",
       "      <td>NaN</td>\n",
       "    </tr>\n",
       "    <tr>\n",
       "      <th>...</th>\n",
       "      <td>...</td>\n",
       "      <td>...</td>\n",
       "      <td>...</td>\n",
       "      <td>...</td>\n",
       "    </tr>\n",
       "    <tr>\n",
       "      <th>6445</th>\n",
       "      <td>2027-08-26</td>\n",
       "      <td>232</td>\n",
       "      <td>1.382379e+06</td>\n",
       "      <td>NaN</td>\n",
       "    </tr>\n",
       "    <tr>\n",
       "      <th>6446</th>\n",
       "      <td>2027-08-27</td>\n",
       "      <td>231</td>\n",
       "      <td>1.382488e+06</td>\n",
       "      <td>NaN</td>\n",
       "    </tr>\n",
       "    <tr>\n",
       "      <th>6447</th>\n",
       "      <td>2027-08-28</td>\n",
       "      <td>230</td>\n",
       "      <td>1.382598e+06</td>\n",
       "      <td>NaN</td>\n",
       "    </tr>\n",
       "    <tr>\n",
       "      <th>6448</th>\n",
       "      <td>2027-08-29</td>\n",
       "      <td>229</td>\n",
       "      <td>1.382707e+06</td>\n",
       "      <td>NaN</td>\n",
       "    </tr>\n",
       "    <tr>\n",
       "      <th>6449</th>\n",
       "      <td>2027-08-3</td>\n",
       "      <td>228</td>\n",
       "      <td>1.382817e+06</td>\n",
       "      <td>NaN</td>\n",
       "    </tr>\n",
       "  </tbody>\n",
       "</table>\n",
       "<p>6450 rows × 4 columns</p>\n",
       "</div>"
      ],
      "text/plain": [
       "     Stock-to-Flow Ratio/t  Stock-to-Flow Ratio/o/daysTillHalving  \\\n",
       "0               2010-01-02                                   1061   \n",
       "1               2010-01-03                                   1060   \n",
       "2               2010-01-04                                   1059   \n",
       "3               2010-01-05                                   1058   \n",
       "4               2010-01-06                                   1057   \n",
       "...                    ...                                    ...   \n",
       "6445            2027-08-26                                    232   \n",
       "6446            2027-08-27                                    231   \n",
       "6447            2027-08-28                                    230   \n",
       "6448            2027-08-29                                    229   \n",
       "6449             2027-08-3                                    228   \n",
       "\n",
       "      Stock-to-Flow Ratio/o/ratio  Stock-to-Flow Ratio/o/price  \n",
       "0                    6.670565e-03                          NaN  \n",
       "1                    6.871941e-03                          NaN  \n",
       "2                    7.069041e-03                          NaN  \n",
       "3                    7.286633e-03                          NaN  \n",
       "4                    7.467272e-03                          NaN  \n",
       "...                           ...                          ...  \n",
       "6445                 1.382379e+06                          NaN  \n",
       "6446                 1.382488e+06                          NaN  \n",
       "6447                 1.382598e+06                          NaN  \n",
       "6448                 1.382707e+06                          NaN  \n",
       "6449                 1.382817e+06                          NaN  \n",
       "\n",
       "[6450 rows x 4 columns]"
      ]
     },
     "execution_count": 10,
     "metadata": {},
     "output_type": "execute_result"
    }
   ],
   "source": [
    "stock_to_flow\n",
    "stock_to_flow[\"Stock-to-Flow Ratio/t\"] = stock_to_flow[\"Stock-to-Flow Ratio/t\"].str.rstrip(\"T00:00:00.000Z\")\n",
    "stock_to_flow"
   ]
  },
  {
   "cell_type": "code",
   "execution_count": 11,
   "metadata": {},
   "outputs": [
    {
     "data": {
      "text/html": [
       "<div>\n",
       "<style scoped>\n",
       "    .dataframe tbody tr th:only-of-type {\n",
       "        vertical-align: middle;\n",
       "    }\n",
       "\n",
       "    .dataframe tbody tr th {\n",
       "        vertical-align: top;\n",
       "    }\n",
       "\n",
       "    .dataframe thead th {\n",
       "        text-align: right;\n",
       "    }\n",
       "</style>\n",
       "<table border=\"1\" class=\"dataframe\">\n",
       "  <thead>\n",
       "    <tr style=\"text-align: right;\">\n",
       "      <th></th>\n",
       "      <th>Fees (Total)/t</th>\n",
       "      <th>Fees (Total)/v</th>\n",
       "    </tr>\n",
       "  </thead>\n",
       "  <tbody>\n",
       "    <tr>\n",
       "      <th>0</th>\n",
       "      <td>2009-01-03</td>\n",
       "      <td>0.000000</td>\n",
       "    </tr>\n",
       "    <tr>\n",
       "      <th>1</th>\n",
       "      <td>2009-01-04</td>\n",
       "      <td>0.000000</td>\n",
       "    </tr>\n",
       "    <tr>\n",
       "      <th>2</th>\n",
       "      <td>2009-01-05</td>\n",
       "      <td>0.000000</td>\n",
       "    </tr>\n",
       "    <tr>\n",
       "      <th>3</th>\n",
       "      <td>2009-01-06</td>\n",
       "      <td>0.000000</td>\n",
       "    </tr>\n",
       "    <tr>\n",
       "      <th>4</th>\n",
       "      <td>2009-01-07</td>\n",
       "      <td>0.000000</td>\n",
       "    </tr>\n",
       "    <tr>\n",
       "      <th>...</th>\n",
       "      <td>...</td>\n",
       "      <td>...</td>\n",
       "    </tr>\n",
       "    <tr>\n",
       "      <th>4983</th>\n",
       "      <td>2022-08-26</td>\n",
       "      <td>11.316777</td>\n",
       "    </tr>\n",
       "    <tr>\n",
       "      <th>4984</th>\n",
       "      <td>2022-08-27</td>\n",
       "      <td>8.786083</td>\n",
       "    </tr>\n",
       "    <tr>\n",
       "      <th>4985</th>\n",
       "      <td>2022-08-28</td>\n",
       "      <td>7.495430</td>\n",
       "    </tr>\n",
       "    <tr>\n",
       "      <th>4986</th>\n",
       "      <td>2022-08-29</td>\n",
       "      <td>11.008258</td>\n",
       "    </tr>\n",
       "    <tr>\n",
       "      <th>4987</th>\n",
       "      <td>2022-08-3</td>\n",
       "      <td>12.100508</td>\n",
       "    </tr>\n",
       "  </tbody>\n",
       "</table>\n",
       "<p>4988 rows × 2 columns</p>\n",
       "</div>"
      ],
      "text/plain": [
       "     Fees (Total)/t  Fees (Total)/v\n",
       "0        2009-01-03        0.000000\n",
       "1        2009-01-04        0.000000\n",
       "2        2009-01-05        0.000000\n",
       "3        2009-01-06        0.000000\n",
       "4        2009-01-07        0.000000\n",
       "...             ...             ...\n",
       "4983     2022-08-26       11.316777\n",
       "4984     2022-08-27        8.786083\n",
       "4985     2022-08-28        7.495430\n",
       "4986     2022-08-29       11.008258\n",
       "4987      2022-08-3       12.100508\n",
       "\n",
       "[4988 rows x 2 columns]"
      ]
     },
     "execution_count": 11,
     "metadata": {},
     "output_type": "execute_result"
    }
   ],
   "source": [
    "fees\n",
    "fees[\"Fees (Total)/t\"] = fees[\"Fees (Total)/t\"].str.rstrip(\"T00:00:00.000Z\")\n",
    "fees"
=======
   "execution_count": 81,
   "metadata": {},
   "outputs": [
    {
     "name": "stdout",
     "output_type": "stream",
     "text": [
      "2009-01-09 00:00:00\n",
      "2009-07-28 00:00:00\n",
      "2010-07-17 00:00:00\n",
      "2009-01-09 00:00:00\n",
      "2008-12-29 00:00:00\n",
      "2012-12-31 00:00:00\n",
      "2010-01-02 00:00:00\n",
      "2009-01-03 00:00:00\n"
     ]
    }
   ],
   "source": [
    "print(block_height.index[0])\n",
    "print(difficulty_ribbon.index[0])\n",
    "print(market_cap_usd.index[0])\n",
    "print(hash_rate.index[0])\n",
    "print(active_addresses.index[0]) #non abbiamo new_address\n",
    "print(SOPR.index[0])\n",
    "print(stock_to_flow.index[0])\n",
    "print(fees.index[0])\n",
    "# del sopr abbiamo i dati solo dal 2012 in avanti. tagliamo anche tutti gli altri al 2012?"
>>>>>>> 6c593edfd61dfedc4f221160443927b8f9020fad
   ]
  },
  {
   "cell_type": "markdown",
   "metadata": {},
   "source": [
    "# VISUALIZATION"
   ]
  },
  {
   "cell_type": "code",
<<<<<<< HEAD
   "execution_count": 12,
   "metadata": {},
   "outputs": [
    {
     "data": {
      "text/plain": [
       "<AxesSubplot:>"
      ]
     },
     "execution_count": 12,
     "metadata": {},
     "output_type": "execute_result"
    },
    {
     "data": {
      "image/png": "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\n",
      "text/plain": [
       "<Figure size 432x288 with 1 Axes>"
      ]
     },
     "metadata": {
      "needs_background": "light"
     },
     "output_type": "display_data"
    }
   ],
   "source": [
    "new_addresses[\"New Addresses/v\"].plot()"
   ]
  },
  {
   "cell_type": "code",
   "execution_count": 13,
=======
   "execution_count": 69,
>>>>>>> 6c593edfd61dfedc4f221160443927b8f9020fad
   "metadata": {},
   "outputs": [
    {
     "data": {
      "text/plain": [
       "<AxesSubplot:xlabel='Active Addresses/t'>"
      ]
     },
<<<<<<< HEAD
     "execution_count": 13,
=======
     "execution_count": 69,
>>>>>>> 6c593edfd61dfedc4f221160443927b8f9020fad
     "metadata": {},
     "output_type": "execute_result"
    },
    {
     "data": {
      "image/png": "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\n",
      "text/plain": [
       "<Figure size 432x288 with 1 Axes>"
      ]
     },
     "metadata": {
      "needs_background": "light"
     },
     "output_type": "display_data"
    }
   ],
   "source": [
<<<<<<< HEAD
    "active_addresses[\"Active Addresses/v\"].plot()"
=======
    "new_addresses[\"NAvalue\"].plot()"
>>>>>>> 6c593edfd61dfedc4f221160443927b8f9020fad
   ]
  },
  {
   "cell_type": "code",
<<<<<<< HEAD
   "execution_count": 14,
=======
   "execution_count": 70,
>>>>>>> 6c593edfd61dfedc4f221160443927b8f9020fad
   "metadata": {},
   "outputs": [
    {
     "data": {
      "text/plain": [
       "<AxesSubplot:xlabel='Difficulty Ribbon/t'>"
      ]
     },
<<<<<<< HEAD
     "execution_count": 14,
=======
     "execution_count": 70,
>>>>>>> 6c593edfd61dfedc4f221160443927b8f9020fad
     "metadata": {},
     "output_type": "execute_result"
    },
    {
     "data": {
<<<<<<< HEAD
      "image/png": "iVBORw0KGgoAAAANSUhEUgAAAlwAAAFlCAYAAAA+gTZIAAAAOXRFWHRTb2Z0d2FyZQBNYXRwbG90bGliIHZlcnNpb24zLjUuMiwgaHR0cHM6Ly9tYXRwbG90bGliLm9yZy8qNh9FAAAACXBIWXMAAAsTAAALEwEAmpwYAABAOUlEQVR4nO3dd3xb9b3/8ffHdpwJMRmEkAQSQhiBMkIgrLLCCKPQ3tIWSiGltLRcun70XhpKC7SUFmiBQik7FLi0jLJbZggJOyEmOyHD2c6ysxxneMnf3x86kiVZsoZ1LNl+PR8PPyJ9z9HRkeXovPWd5pwTAAAA/FOQ6xMAAADo6AhcAAAAPiNwAQAA+IzABQAA4DMCFwAAgM8IXAAAAD4ryvUJtKRfv35u6NChuT4NAACApD7//PNNzrn+8bbldeAaOnSoSktLc30aAAAASZnZqkTbaFIEAADwGYELAADAZwQuAAAAnxG4AAAAfEbgAgAA8BmBCwAAwGcELgAAAJ8RuAAAAHxG4AIAAPAZgQsAAMBnBC4AAACfEbgAACmrrK7Vtl11uT4NoN3J68WrAQD55djb3pUkrbz9/ByfCdC+UMMFAADgMwIXAACAzwhcAAAAPiNwAQAA+IzABQAA4DMCFwAAgM8IXAAAAD4jcAEAAPiMwAUAAOAzAhcAAIDPCFwAAAA+I3ABAAD4jMAFAADgMwIXAACAzwhcAAAAPksauMzscTOrMLP5cbb9wsycmfXz7puZ3WdmZWY218xGRew73syWej/js/syAAAA8lcqNVxPSBoXW2hmQySdLWl1RPG5kkZ4P1dLetDbt4+kmyWNkXScpJvNbK/WnDgAAEB7kTRwOec+kLQlzqZ7JF0vyUWUXSTpKRc0TVKJmQ2UdI6kSc65Lc65rZImKU6IAwAA6Igy6sNlZhdJWuucmxOzaZCkNRH3y72yROXxjn21mZWaWWllZWUmpwcAAJBX0g5cZtZD0q8k3ZT905Gcc48450Y750b379/fj6cAAABoU5nUcA2XNEzSHDNbKWmwpJlmto+ktZKGROw72CtLVA4AANDhpR24nHPznHN7O+eGOueGKtg8OMo5t0HSa5Ku8EYrHi+pyjm3XtLbks42s728zvJne2UAAAAdXirTQjwj6VNJB5tZuZld1cLub0haLqlM0qOS/luSnHNbJN0qaYb38zuvDAAAoMMrSraDc+7SJNuHRtx2kq5NsN/jkh5P8/wAAADaPWaaBwAA8BmBCwAAwGcELgAAAJ8RuAAAAHxG4AIAAPAZgQsAAMBnBC4AAACfEbgAAAB8RuACAADwGYELAADAZwQuAAAAnxG4AAAAfEbgAgAA8BmBCwAAwGcELgAAAJ8RuAAAAHxG4AIAAPAZgQsAAMBnBC4AAACfEbgAAAB8RuACAADwGYELAADAZwQuAAAAnxG4AAAAfEbgAgAA8BmBCwAAwGcELgAAAJ8RuAAAAHxG4AIAAPAZgQsAAMBnBC4AAACfJQ1cZva4mVWY2fyIsj+Z2SIzm2tmL5tZScS2G8yszMwWm9k5EeXjvLIyM5uQ9VcCAACQp1Kp4XpC0riYskmSDnfOHSFpiaQbJMnMRkq6RNJh3mMeMLNCMyuU9DdJ50oaKelSb18AAIAOL2ngcs59IGlLTNk7zrkG7+40SYO92xdJetY5V+ucWyGpTNJx3k+Zc265c65O0rPevgAAAB1eNvpwfU/Sm97tQZLWRGwr98oSlTdjZlebWamZlVZWVmbh9AAAAHKrVYHLzG6U1CDpH9k5Hck594hzbrRzbnT//v2zdVgAAICcKcr0gWb2XUkXSBrrnHNe8VpJQyJ2G+yVqYVyAACADi2jGi4zGyfpekkXOud2RWx6TdIlZtbVzIZJGiHpM0kzJI0ws2FmVqxgx/rXWnfqAAAA7UPSGi4ze0bSaZL6mVm5pJsVHJXYVdIkM5Okac65HznnFpjZ85IWKtjUeK1zLuAd58eS3pZUKOlx59wCH14PAABA3kkauJxzl8YpntjC/rdJui1O+RuS3kjr7AAAADoAZpoHAADwGYELAADAZwQuAAAAnxG4AAAAfEbgAgAA8BmBCwAAwGcELgAAAJ8RuAAAAHxG4AIAAPAZgQsAAMBnBC4AAACfEbgAAAB8RuACAADwGYELAADAZwQuAAAAnxG4AAAAfEbgAgAA8BmBCwAAwGcELgAAAJ8RuAAAAHxG4AIAAPAZgQsAAMBnBC4AAACfEbgAAAB8RuACAADwGYELAADAZwQuAAAAnxG4AAAAfEbgAgAA8BmBCwAAwGdJA5eZPW5mFWY2P6Ksj5lNMrOl3r97eeVmZveZWZmZzTWzURGPGe/tv9TMxvvzcgAAAPJPKjVcT0gaF1M2QdJk59wISZO9+5J0rqQR3s/Vkh6UggFN0s2Sxkg6TtLNoZAGAADQ0SUNXM65DyRtiSm+SNKT3u0nJX01ovwpFzRNUomZDZR0jqRJzrktzrmtkiapeYgDAADokDLtwzXAObfeu71B0gDv9iBJayL2K/fKEpUDAAB0eK3uNO+cc5JcFs5FkmRmV5tZqZmVVlZWZuuwAAAAOZNp4NroNRXK+7fCK18raUjEfoO9skTlzTjnHnHOjXbOje7fv3+GpwcAAJA/Mg1cr0kKjTQcL+nViPIrvNGKx0uq8poe35Z0tpnt5XWWP9srAwAA6PCKku1gZs9IOk1SPzMrV3C04e2SnjezqyStkvRNb/c3JJ0nqUzSLklXSpJzbouZ3Spphrff75xzsR3xAQAAOqSkgcs5d2mCTWPj7OskXZvgOI9LejytswMAAOgAmGkeAADAZwQuAEBKgo0YADJB4AIAAPAZgQsAkBIquIDMEbgAAAB8RuACAKSECi4gcwQuAAAAnxG4AAApYZQikDkCFwAAgM8IXACAlFC/BWSOwAUAAOAzAhcAICV04QIyR+ACAADwGYELAJASRy8uIGMELgAAAJ8RuAAAKaEPF5A5AhcAAIDPCFwAAAA+I3ABAAD4jMAFAEgJfbiAzBG4AAAAfEbgAgCkhHm4gMwRuAAAAHxG4AIAAPAZgQsAkBI6zQOZI3ABAAD4jMAFAEgJFVxA5ghcAAAAPiNwAQBS4ujEBWSMwAUAAOAzAhcAICXUbwGZa1XgMrP/Z2YLzGy+mT1jZt3MbJiZTTezMjN7zsyKvX27evfLvO1Ds/IKAAAA8lzGgcvMBkn6qaTRzrnDJRVKukTSHZLucc4dKGmrpKu8h1wlaatXfo+3HwCgnaALF5C51jYpFknqbmZFknpIWi/pDEkveNuflPRV7/ZF3n1528eambXy+QEAAPJexoHLObdW0p8lrVYwaFVJ+lzSNudcg7dbuaRB3u1BktZ4j23w9u8be1wzu9rMSs2stLKyMtPTAwBkGzVcQMZa06S4l4K1VsMk7Supp6RxrT0h59wjzrnRzrnR/fv3b+3hAAAAcq41TYpnSlrhnKt0ztVLeknSSZJKvCZGSRosaa13e62kIZLkbe8taXMrnh8A0IZcRBVXZXVtDs8EaH9aE7hWSzrezHp4fbHGSlooaYqki719xkt61bv9mndf3vb3HLPoAUBeO+Ouqbrobx83K//z24tzcDZA+9WaPlzTFez8PlPSPO9Yj0j6paTrzKxMwT5aE72HTJTU1yu/TtKEVpw3AKANLK/cqTlrtkmKHqX4XOkaBRr5zgykqij5Lok5526WdHNM8XJJx8XZt0bSN1rzfACA/NHQ2KjCgsJcnwbQLjDTPAAgJbH1WY2NOTkNoF0icAEAMhKgGy6QMgIXACAlseOc6MMFpI7ABQDIyDOfrc71KQDtBoELAJCS2Pqs299clJPzANojAhcAAIDPCFwAAAA+I3ABAFLCoEQgcwQuAAAAnxG4AAApcc26zQNIFYELAADAZwQuAEBqqOACMkbgAgAA8BmBCwCQEiq4gMwRuAAAAHxG4AIApIR5uIDMEbgAAAB8RuACAKQkdh6uA/fulaMzAdofAhcAICNlFTtUXVOf69MA2gUCFwB0YFW76lXX0JiVY8Xrw/Xbfy/MyrGBjo7ABQAd2JG/e0fff6rUt+Nv2Vnn27GBjoTABQAd3AdLKrNynHiDFOsD2ak9Azo6AhcAICUuTptitporgY6OwAUASEm8PlxMzQWkhsAFAEjJog3VuT4FoN0icAEAkirfuks/iNP53nJwLkB7ROACACT17znr45YbiQtICYELAJAUwQpoHQIXACAp8hbQOgQuAEBS1HABrUPgAgAkZQnquBKVA4jWqsBlZiVm9oKZLTKzL8zsBDPrY2aTzGyp9+9e3r5mZveZWZmZzTWzUdl5CQAAvyWq4aLmC0hNa2u47pX0lnPuEElHSvpC0gRJk51zIyRN9u5L0rmSRng/V0t6sJXPDQAA0C5kHLjMrLekUyRNlCTnXJ1zbpukiyQ96e32pKSvercvkvSUC5omqcTMBmb6/ACAtmMJqrKo4QJS05oarmGSKiX93cxmmdljZtZT0gDnXGjClg2SBni3B0laE/H4cq8sipldbWalZlZaWZmdBVcBAK1DrgJapzWBq0jSKEkPOueOlrRTTc2HkiQXXOk0raW2nHOPOOdGO+dG9+/fvxWnBwCd24pNO7N2LGqygNZpTeAql1TunJvu3X9BwQC2MdRU6P1b4W1fK2lIxOMHe2UAAB+c/uepWTtWorzFKEUgNRkHLufcBklrzOxgr2ispIWSXpM03isbL+lV7/Zrkq7wRiseL6kqoukRAJDHEvXhApCaolY+/ieS/mFmxZKWS7pSwRD3vJldJWmVpG96+74h6TxJZZJ2efsCANoBpoUAWqdVgcs5N1vS6DibxsbZ10m6tjXPBwDIDXIV0DrMNA8ASI6qLKBVCFwAgKSIW0DrELgAAElRwQW0DoELAJAxRi8CqSFwAUAntmVnnYJjmlqWaL4t4haQGgIXAHRSa7ft1qhbJ+mBqcuS7ktFFtA6BC4A6KTWb9stSXpvUUWSPRMjiAGpIXABAAD4jMAFAB1Q+dZdSfcJ9dyikgrwH4ELADqghkDyjvChvvKpNAsm6ldPWANSQ+ACgA6oMYWRhwDaDoELADqgbMctl/UjAp0LgQsAOqC2quAqLKBREUgFgQsAOqDddYGsHi9RgCNwAakhcAFAB/TA1LKk+4RmmE80i3wqigq4jACp4H8KAHRAu+uT13CFK61SGaWYoLxrFy4jQCr4nwIAHUzVrnpNXVzZJs/VrUthmzwP0N4RuACgg9lYXdOsbFddQ+sOGqcTV79eXduscz7Q3hG4AKATmLIo+zVewQlTSVxAKghcANDBxOuS1dDY2KwsndqpeLtamscAOjMCFwB0MPGW6nlvUUWzstBkpuVbUlh3MSJY3Xfp0Zo4frQKzAhcQIoIXADQ4TRPXK/OXpdw73VVzft8xaoPNNWQXXjkvhp76ACZsYQQkCoCFwB0Eg2B5s2KIS5JcOrqjUb8/snDwmUmenABqSJwAUAnUdPQUuBq+bGhOrOLjhrUVEaTIpAyAhcAdDDx+nBJUl0LgStZ02B4VvqYY7OoNZAaAhcAdBLNQpWL3Jbssc3LjDZFIGUELgDoYBKt1NNSLVayGq54283IW0CqCFwA0FkkruBK/tA4OxeYMUoRSBGBCwA6iZaaDTOp4WIeLiB1BC4A6GAsQa/5lpsUWz5m6KGRh2YeLiB1rQ5cZlZoZrPM7D/e/WFmNt3MyszsOTMr9sq7evfLvO1DW/vcAIDUxYajyLu19YG0HivRpAikIxs1XD+T9EXE/Tsk3eOcO1DSVklXeeVXSdrqld/j7QcAyLJEneZbykYvz1rb4jFDNWAWcfRCM8VZohFAHK0KXGY2WNL5kh7z7pukMyS94O3ypKSvercv8u7L2z7WEtV7AwAylihXtVQb1ZCkTTHRKEVquIDUtLaG6y+SrpcU+o7TV9I251yDd79cUmha4kGS1kiSt73K2x8A0AZiM1XkpKXJclO8iU9pUgRSl3HgMrMLJFU45z7P4vnIzK42s1IzK62srMzmoQGgU0i0LmJL4SjZjPHxKsAKCyxpZ3sAQa2p4TpJ0oVmtlLSswo2Jd4rqcTMirx9BksKdQxYK2mIJHnbe0vaHHtQ59wjzrnRzrnR/fv3b8XpAUDnlCgDbd9dH72fi387nsa4NVw0KQKpyjhwOeducM4Nds4NlXSJpPecc5dJmiLpYm+38ZJe9W6/5t2Xt/09l2x5egBA2hJ9sn7tgU+i7keGp0P22aPFY8Zf2ocaLiBVfszD9UtJ15lZmYJ9tCZ65RMl9fXKr5M0wYfnBgC00Dx4/QtztGRjtaToEYfJ5+FyzR5TYFIjiQtISVHyXZJzzk2VNNW7vVzScXH2qZH0jWw8HwAgsZbaDp4vLdes1ds06bpTYzrNpz9KMdiHi8AFpIKZ5gGgg0k1AtXUN02ilayiKjwPV9RM8wQuIFUELgDoYFLNQD94qjTiMZmspSgmPgVSROACgA4m2RQP8aacjlfD9UnZpqZjhmeab0KTIpA6AhcAdDCRGeirR+2b2mPihLRNO+vCtwONTHwKtAaBCwA6mFAGGjlwT939zaNSeky8Gq6igqZ01RS4msqYFgJIHYELADqYUG3VT8eOUEFBakvWxuvDFRm4whOfRmxn4lMgdQQuAMhAxfYa3fTqfDUE8q/XeKgje1GKYUuKH5y6FBY02x5Zw1VIkyKQMgIXAGTgxlfm66lPV2nq4vxb87XOC4FFhfEDl6l5ebzRhoVRTYqhx0Ycx4xRikCKCFwAkIF8nmG93ktHxYWpf8TvqG1oVhYZ2P5VukYSaykCmSJwAUAHM7d8mySpS1HqH/E3v7agWVlkk2KDFzALIpsUmRYCSBmBCwA6mD+8sUhSdGDKRLIuYAWMUgRSRuACgA4ksqkznU7z8cSrvIpe2ie/m1aBfELgAoAOZF3V7vDtRJ3mUxUvSkWOUiwqsHBTI4CWEbiAdmhXXYOufqpU6yMuroAkXfP0zPDthkD8MBRvaZ944tVeRVaaFRUW5OW0GMiO+kCj/vLuEu2uC+T6VDoEAhfQDr0xb4PeWbhRf3prca5PBXlm2+6m5XhaW/v01LRVzcoip5ToUmiqp4arw3r2s9X6y7tLdehNb+X6VDoEAhfQDrWuoQjZlG9xY82WplrPw/fdM+PjOOf0+tz1zcoja8eKCqjhymetfW+21zSfKgSZI3AB7Vi+XeyRX4paMUox0WwPkWG/qNASNlsit95esEEH3vimFm3YnvExGBCRXQQuoB0K1TLEW/8Obasj1ja+Pne9Fm+sjr8x4gV3KSxQPVPN56VJCzdKkuaWV2V8jACfL1lVlOsTAJC+cODK7Wmgg7r2nzMTbiuIGaVY29ComvqAunUpbItTQxuihiu7qOEC2qF4a+Ghc3HOac2WXVFl1TX14dunHNQ/fHv8Cftn7XmjmxQL5Jx0yG/oVN0RUcOVXQQuoB3j87Dzer50jb585xTdPWmJlnjNf3dGjFode8je4dvnHL5P1p43ch6uLq2cWBX+yUbtFOMhsovABbQjzjm9OnutAlT1d3rvLaqQJN03eanOvucDSVJtQ9N8SQURYagg1Ym3UhBbw4X89NKstZKk2obMUxPrZGYX/1uAduSV2Wv1s2dn67GPVkiiD1dn9vaCjc3KCiNC1hkRNVy9u3fJ2vNaVKd5arjy3W9emZ/xY/lil10ELqAd2bwjOKnlph21khiliGiV1U2Tnu7bu1v49qEDo+fjWrs18xUKYpf2Qcc1rF/PXJ9Ch0LgAtqh0GWOuIVIpxzUL3zbYpoR++/RNXy7urZBNfWZLdcSGbJoUuzYSnoEa0ZH7VeS2xPpIPjfAgAdxE2vLkh530yX/YlstoxsUqS2teOhSTG7CFxAO2RUcSHGHW8tanF7bB6qT6MzdfeIObYiA1dhQdMlhLzV8YQ6zcfWliIzBC6gHQrNw+VIXPA8OHVZi9sjRzBK0r2Tl4Zvj9i7V4uPjbzeFlqCGq5UTjIPNTY6aucSCE0LQVe97CBwAe0Y14nOaeWmnWk/JnZ6gLnl28K3DxqwR1TNVazIaSUip5soiqjhaq9TCBz3h8m67vk5uT6NvBSay4uJlrODwIV2Z155lTZU1USVfbpsc7NZtzsyavg7t+8/VZr2Y/br0yPqfuSa02bB/jqJanoS/bkVRdRwtdfAtWlHrV725qxCtPBM83zeZAWBC+3OV+7/SCfd8V5U2aWPTtOX75ySozNqe+EuXO3zGodWim0eTEWP4ui1DgMRi06HarcS9pFOcMGN7jSf9inllUN/85ae/GRlrk8jr4T7cOX4PDqKjAOXmQ0xsylmttDMFpjZz7zyPmY2ycyWev/u5ZWbmd1nZmVmNtfMRmXrRaDz6eyjZ0KdWOnD1Tk1ZjB5eGwgaoio4gr1y0r0/yrRTPVFHajT/O76gG5+LfVRnp1BuEmRxJUVranhapD0C+fcSEnHS7rWzEZKmiBpsnNuhKTJ3n1JOlfSCO/nakkPtuK5Aaj9X+SQmYYMEldsOI9sAizpUSwpceBKdMEtiuo0zx9jRxOgD1dWZRy4nHPrnXMzvdvVkr6QNEjSRZKe9HZ7UtJXvdsXSXrKBU2TVGJmAzN9fgDorDJZH69ZDZd3Me3bs1gDvVnpAy5+P65El9suhZGd5tM7nz+/vVhDJ7yedyMEV2/epflrq3J6DjX1Af36lXnaurMu+c5J7LNntxa3Bxqdzr7nfb29YEPzbaEuXOStrMhKHy4zGyrpaEnTJQ1wzq33Nm2QNMC7PUjSmoiHlXtlsce62sxKzay0srIyG6cHdDihD8D8ulShrdTWpx+4BvbuHnV/eWVwpOPwvXuFRx4GAi5urWniJsXMO83fP6VMUv7V0p7ypym64K8f5fQcXpxZrqenrdY97y6Ju33Tjlrd+daicJNfS049qH/49tzybZq5emvU9mWVO7Rk4w79z7+aj9QMHT+bi593Zq0OXGbWS9KLkn7unNseuc0Fv7qk9d/JOfeIc260c250//79kz8A6ITCgSvPLladkd9vwfeemKGhE16PKkvWaf7D609vVnbXN4+Mu2+BSaGWwYBr3jB436VHJ6zhiKzhSvdvMXTMXI5uTCWw5MKu2uD72yXB0kk3vDRPD0xdpo+XbUp6rIhudrrw/o/1Xw98ErX91y8HF7eurmlQRXX06O+Aow9XNrUqcJlZFwXD1j+ccy95xRtDTYXevxVe+VpJQyIePtgrA5AmYzXFTuO9RRXNypLlhNgRiZLUu3uXuPt+9ahBKvQu7PGmhjh75AA9+J1j4j62KAtL++Qy8+TrVBa7vXUuI2f4D1m0YbsmLdwoKbXBQ8lmiY8M78fdNjlqW2cfnJRtrRmlaJImSvrCOXd3xKbXJI33bo+X9GpE+RXeaMXjJVVFND0CQLuUyy//3zl+Px0dZ2Hh4qLUP9q/deyQqFGKL82M/h5cYKZjh/bR8z88Qc/84PiobdETn6Zx4mr6veUy9ATyNHDtqvMCV5zg/MqsdeHbqZx9slniW1pT07G0T1YVteKxJ0m6XNI8M5vtlf1K0u2SnjezqyStkvRNb9sbks6TVCZpl6QrW/HcQKdGk2LnFTnBb4HFHz+WTuAys3BfrLcXbGg2NULogn3csD7NHpuNxatz+TecyfQabSEUQovipKXNO2qb7mThdxc5PUis0NI+xK3syDhwOec+UuL3YWyc/Z2kazN9PgBNaFDsnBobXdQEvwVmcTs0Fyfo+5NIqNN8vHmoWlrypyjied6Yt16XnzA05ec0M8k5arjiaCm8HjRgj6b9UvgESPYS6wOJU2e+/n7aK2aaB9qh8MSnfCB2Kh+WNe8kHa+1J90moHg1Kakcq0vE4z4u25zWc+ZDk2K+9uFqyX59m5ZoSnT6r81panaM12LonNPrc9fruRmrtbyFdTlDgwreX8KMAdnQmiZFAEAbuvudxVH3g02KwejSt2exNu+s0w9PPSDl44XyUkGyjj4JRNZw7axryOgYOe00n6edwh/9cIWk+GE68ktWfYLmwJ8+Myvu/iGTv6jQtf+cmfQ8qOHKLmq4gCyra2jUztroi0+g0elLt7yt52esSfCo9NCk2DnNKY+ekPPa04eHL8rfOjY4CPzoIXulfLxQc+EncWrOUtGaxaub+iG27V/xR0s3hYNWS6Pw8jWMRZ7Wj57+XA9MLWtxDcjPVmxpVrZ1V2oTqkY+Nl9/H+0JgQvIsm8+/KkOu/ntqLLahoCqaxp002vzs/MkdJqHpL69uuqS44JB67snDtXHE87QuMP3Sbj/K9eeFDURZqj/V9Xu+oyeP7KvWKZTCLTldfydBRv0nYnT9fjHK5I+d77W7sT+nu98a7Fufm2BllXuiLt/vCbDVJucP1/VNElqfb6OMGhHCFxAls1es61ZWUG4z1V2niNeDZdzTve/t1Qbt9fEewh80laX5USB5mtHD9bK28/X3nt206CS7nH3CTlqSInGHNA02jDUd6uljvEt6RoxGjLd63GoKbQt+1Gt9kZ4rttWk/S583UOqtja85CWagqXVe7QEbc0fQnM5N2uy2A5KUQjcAFtKGuBK8431MUbq/Xnd5bo2n8k75uB/NUQaIx7cfvR059n5fiBiH4/ob5bXxrUO6NjRf4dpl0jlIOZ5uu8EXldiprmHUskXwPXhJfmxS1vafmdsXe9r+01TUHt4wyakJ/LUneIzozABbSB0DUllWHcqQjXcEVcrEI1Bpk2DyEz2Z6jaNy9H+qgX7/ZrDw0u3hrRU50GarhuvKkYRkf7xSviTLTgNKWLXeh5yqwFAJXHjQppnMK6dRSvjQr8SIvd7+zWGP+8G6z8lT7fSExAheQorfmb9AtceYpSkXoW3z2arial4UmoWxp5mjkv7KK+H1xsqUhou0vNMotnYlSYxW2sqYqF1MzTFlUoT+88YU270wcIgItTAjaVtIJfdn6Nd73Xpk2bg9OrnpwxJxffXt21dAJr+vNeSwQkykCF5CiHz39uZ5oYTRQS1zMv9kS+SEbWuiWvhbtz5adddoUOYN4Ci49bkjyneKIDOQ7EvQHSkeoZqU91HCFLNpQrUc+WK6rnypNuE+iTuhtKZ2RgS190Yq3/FMqIidFXep9EQgNOED6CFxAG3DhGq5sNSkmbj5oYDRRuzPq1kka/fvoZpy/J7mw/fG/jsjoub4zZv+MHpdIKs1z8eTDxKcV1YlDbj70WUqntrrROd348jwNnfB6s2179SjO6PnrIgKXy3ItfWfExKdAG8h2DVd4DqM4R0w0GSLal9/+e6H27NYl68cd0qeHRu1Xopmrt2XleKHAlWlwytcLeKYTuWZTOjVcgUanf0xfnXBbusoqqlW+dXezY+Tp29UuELiANuC8L4rZvrhEHi90u6W10dC+/OJfc3w5bu/u2Qty3YsLJbVc6xqP5WCUYjrqGtr+vOoaGvXg1GXh++n04Zq6OPHyO5n8jm9/c1HU/X99Xi6J5cRag8AFtIFsjU5sdtyIw4Y+VAlcSKZrUWHSfab/aqw270g+Mu3mr4zUy7PW6vRD9k7rHJrm4UrrYW0mF03zz85YrXveXRK+H/tfuaWwc8dbixJu+2L99rTP5d0vKiQFJ7eNbFrM1/erPaAPF9AG2uJLYegpOmIXrmWVOzS3fFuuTyOu9nj9SfYFYPwJ+2vAnt00ct89kx6rpEdxq0Y5tmUNVzpremc6N1lr1NQHou5X7a5XQ0TYyXRgwqYUgnMioRrMkPb4954vCFxAG/DrQyrywhn69psP8wdl29i73teF93+c69PwXSoX1E8mnKG3fv7lVj1PvKf5XsRcXDecd2haxys00+otO/WNhz5R1a7U5oHL1VqKscYM6xO3PDZo5MIzn63Wz56bHb7v55QvBw3oFbe8R8zvYU6clTSQGgIX0Aay9S0+9jCNrvntfJ0huz0bOuF1/fbfmc3BlkxkrcZ5936YdP99S7rrkH2S1zy1JN6f401fGRm+3a1LemFjd31Ab8zboBkrt+r1mHma1lft1tAJrye8UOf6z7VHcaFujBMwa+vbvqo4Xj+41+c2/T79/L+dqA9e5ALlaB0CF+CTyG/ufnWW3xU1koqg5ae/f7wy6T7OOc1fW9Ws1mbCi3N1zdOfN2sykoKLD4cs3ljd6vNMjX9/K7ETnn+4NLiMzNPTVkWV52JaiHihokdxkX5wygHNmhvvnbw07vuVLc45vTyrPK0+l+nWcB0+qHXBXJIG7tny+pxIHYELSFPkUO3tNfUaOuF1/au0+Zw9USMI41zgfvH8HF3nNRc0NrqUhoDHTgcxf+12vRgePZTqK0A2RV6nPy7brAv++pGuf2FuuKx05RY9O2ON3py/QYf85q2ox67btjutiSRb25QYEvpTu+sbRzbbdsz+e6V9vOH9e4Zvx67pF1o+KLapO7QOY677HLa0ZM27X2RnOaV4XpuzTv/vuTk66fb3wmXJ+pjtSnOqiqKC1C7xw/r11Mkj+sXdlunC5miOwAWkKfIb+bptwXlqHvuw+UWzodFp8hcbg7UdEdeamvqAzrz7fb04szy8ptlhN7+tcfd+kNH5hC4KuW6agVRRXSMpOIQ+VDty8UOfxt3XOacTIy62yTx39fGtbkoM6ep1cu/TK3pCzCW/P1fP//CEtI83vH9T/5/Y0JBsJvq2rOGK98Xnk2WbJcVfEzPUrPh86RrNWLklq+cSWvO0oro25abCP7+9JPlOEYpSDEtT/uc03XDuIXG3mSVe1WDBuipVbK9J65w6MwIXkKbIb+rhWbbjXDSe+GSFrnqyVP+eu167I5omPluxpdl6ebvrA1qyMVhW2xDQ3ZOWtNicEfl0TRMSkrj8kErNY9Xuen3r4U+1IeLis2bLrrg1EtU19SqrqNZrc9YlPN4f/+tLuu/So6PKxhzQN42zbtnvv3q4rjltuE4Z0T+qvLioIKMajchlcJrXcAUvMw2NTs+XrtEny4JNjE0LsKf9dJKkyV9s1KrNO9N6TCrrI550YNPv+Rf/mqMPllTq+hfm6hsJgnOmIn9LqTYrvrNgQ1rPkU7/q6LCxHEgtqYs1GR+/n0f6Yy73k/rnDozAheQpoN//VZ4XpvwLNtxLsofLAleWDZW1ejUP00Nl1/x+GdR+324NHrCwqenrdZ9k5fqofeXRZVX19Rr+abmF5jQU9Ok6I9URn2+PX+Dpq/YEtUfa/POOj3ywfJm+37plnd05t0f6GfPzk54vG8cM1gXHrlvRuebir69uuqX4w7JWnPRssqmv8vYVqzQdTwQcLr+hbn69qPTgwXeU2c639VVT5bq9D9PTesxK1oIaKEmzonjj40q/+Obiee3ag2LCKbx+mbFNu1WVNeEZ7//coLmv1ipNimGPP/DE6Kah4PnKV19ygFRZZ+v2hq+nY31ODsLAheQgthANWlhsBkvdMGK1yzyUVkwcNUnuaBcPrEpgN348jxN/DB4kd4dU8P1ncem65/e0h2Rzxb6trmBqv2sWrhuuyq21zRr7lm9eZdmrm664GysrtH1L86NfbgueWSa/vLu0rSf98C9ezWrbbj/20cn2Dv/vL+4Uje/Oj98P/SlJDZUhBZbb81UB+k+9KWZa5uVHebNNXbelwZGnVdIJpOGpiKyJrA+zoLzxx/QNF1FfaBRx902Ofx6exanNmf5tacfmHDbV+IE+uOG9Qn/HkJOOrCfhvTpEVXWrUsho6EzQOACYjjntGVndEfaN+dHV+WHAlboI7OlWpDIWo9k/jF9tdZVBYPT7Ji17uaUV8V9TKNzKt+6S1f+fUbKz9MZVO2q19TFFRk//rz7PtSpf5qqXXVNwffTZZt1yp+m6L8e+ERlXjPaP6bFX78uXa//9GR9eP3peum/TwyXfXj96Xrl2pN0wRH+1XZlw0PfOSZ8+5XZ6/Tkp6ua7ROI+eIR+rISL2y0pcfGj5YUHEDw2a/Gtljrt75qd8Jt6Yp8mtCXs1AI23uPrrrurIMlSYP36t7sy1fv7l30zx+MkST169U14cSzfXslXrR6tFeDdvR+JVHl15w2PHz74wln6EenDFesukCjfv/6woTHRnwELiDGwx8s16hbJ6l8665wWWxfnFC+8nN29+krmjrpPh8zCjKyf1fASW/OS69vh59Wb96V1qK7rbWztkHfevhTLY2ZUuGaf3yu7/59hrbuTG+W7fpAoy6fGGz22l0f0Py1TUH3u39vqo1ctTn497EwhRqQP3/jSB24d/yJJX9x1kGa/quxOmzf3hrSp0fUgtVD+vTQUUNK0jr/XIg3sjH0NxD6chLbfaqLlzhqM1iKKpuTpQ7sHZz2oLioQHvv2a3FfS8LNYdKWl65Q1t31sk5p8UbqqP+TlIRWcP1k2dmSWoacPDSf5+owgLTBUcMVPnW3TrilneiHuvkdOLwflp5+/kq/fWZCWubWvo1FRWapvzPafq/q8ZElfcoLtKiW8dp5m/O0qCS7irw3qe+PZvC2z2TlqQ0TQqiEbjQJv5VukY/e3ZWzmeVTqS6pj48wizUMXXpxsQdgcOzunsfdGu37dbtby7K+uurqK7R+qrdUdMMSFL51qZv2qUrt+i2N77I6vNmaunGap3ypyl6MKb/mZ+mr9is6Su26Kx7PlBtQ1MQXe71K4qtHXDO6Z5JS8IdvZ1zKo0YgTZ7zbbw3FFSdJ+72hRrYw7ZZ4+o+xcdta8evWJ0VFlRgen6cQfrJ2NHaECSC32+i7wYh9R470WoyTC2hivUbBqvhmv+2ir98c0vEv5/qo9IbwvXpdbkF9kx/T8/OVmS0l6SKPT/rqY+oDPuel9n3fOBHv5guc75ywe64K8faUNVGs36cSrSGrzXFVpcvHuCCWh7xDQpxpu4VYo/kGaUV6N14vB+Gtavp3p1bd482a1LofrEvKdv/fwU3XrRYZIU9f9DUsqrC3R2BC60if99Ya5enb1Ob83Pbk3Mba8v1NAJr2f8+E+WbVJlda3G3vW+jrttsjbtqNVMrykvMsTENjOEmhAjLwgPvb9Mw254I+NziWdHTYPWbWv5QzyyyStS1a561bVBc832mqYP23JvmozPVmR3CH2sZz5brTVbgjVMkX1uIgc0hEZoLYmp+aqortW9k5fq+0+WSgo241780KcaOuF1vbtwY6s7Ad960WH622WjwveX/P5cdSks0LB+PbXy9vM1cfxoPXHlsSr7w3n679MS97FpTwriNMOF/i5DX0o+Ltsctb3a+7upjzNy8OsPfqKH31+eMOBGNvl/6+HEowcrq2t14f0f6c1566NqoA4f1FvzbjlbM39zVtzH/fP7Y+KW1wUa9dLMcv34nzMlSZt21IanlZCka/85U8N/9UaLAWTzjlpJzb/ENQQaw585ob/p2GAT8r/nHBx1/3snNy3LVNKjqYa0pHvzIDzmgL5aefv5GtavZ7NtLem/R9eEa2uuy2JTa0dG4EKb+mWczsWt8Wic+a9SEQpK3350ui68/yNVVAc/BEf//t3wPmUVO3T5xOl6YGpZs7mFQjX4dSk2h6z443laetu5aZ/nGXe9r68/+Enaj5OkI3/3jn7wVGlGj03VrNVbdcQt7zQF6TQr+BZt2J5282NtQ0A3vDRPFz8U/L00xFywz733Q727cGN4DqLv/n1GVDD+1LtA7qht0KYdtfr1K00dvL//VGlGfeFOOai/Ft06TitvP1+XnzBUw/v30qED99Sgku7NalHGHjpApx28d9rPke9OPzh6iomdtQ06794P447GnLV6q7Z6oWTu2m3NtoeCVqKpUW55rWmZperaBq3YtDOq2X9HbYOmLKrQsbe9q7nlVbrmHzP1tQeCfy93fP1LkqQ9unWJW7sjSSce2E/nfWmfuNuue36O3v2iqW/gJ2VNoejzVVsVaHS6JWIZqN11gXBA/GjpJh3z+3f1wZLKZjV+kUE/FLgSDYTpmeC8JemMQ4J/W8VFBdqnd7dwTVVJjy4qMOnrowYlfGwysSExpKXJY9GEwAXfRTbXxI6AyYWz73lfw254Q396Ozjce30LzQAfLt2kO99a3OyiUdfQqJ8+M0vn3/dR0ufbo1uRzEyFER9WK28/X7d97fCm57n+9DRfRctCtX7vLwlOOfHyrHJfFp2d59UafLos+pt4shmzpeCkieP+8qEemFrW4n6xfbNCNSIbt9dq1uqt+t8X5jR7zAufl0fVjlz66DQ9X7pGR/72Hf3cm92/sro2KmDHOmSfPTT2kL31y3GH6N8/PrnFofi/Pv/QZusPvvmzL+vjCWe0+No6kge/c4zOGjkgfP/UP01N2L8tMuQ+/P5yXfXEDA2d8LqWV+6ICllH3zpJNfUBPV+6Jio0zynfFnW80/88VSNvejt8/3t/n6Ern4gfnGOb4xJ54LJjku+k+KMsX561VjNWbtGKTTt16E1vadStkzRp4UZ9x+sbeMXjn2na8uha4NkR/z9bM13HHV8/Qj889QC97A2+CE0v8tzVJ2j5H8/XgXvv0dLDW3T0fvFXIfh2RN+2eOoDjRn363x62qpwd49Y33zoU1322DRJwZrD0GfFczNWa+iE17U7Qe1/rqT2lwe0QuTSJc/OWBMcgXN2sEr8k7JN6tWtSEcMLmmTc1m5aWd4gtG/Tcm8n9HEj1quWbv5KyP1/pJK/fbCw7SH1wm6oMD02BWjdcjA4Afet4/bT6ce1F+9uhappEex/vOTk1VUaHIuWEuTTf/vuWAoWXn7+ZKk8q27VFldm/ADNFWxXWzSmXy10qtV/Gzl1oT7fLpssy59dFpUWUNErWKo1iLWWzETRE5bvqXZBS7S0L49tHJz0yCJ2752uC4bs3/UPv931Rht2Vmn9xZV6CtHDpTJVNsQCL+/nV23LoV65PJj9HHZ5nCwSGRBTL+ryYuCNUaxk2g6p/BySP+es043XTBSIwbskfBL0sl3vBfVvzHReaZqWL+eWhFn7rtUxE6UGlvb/PKs6CkqvhunZvXIwb0Tjk6O9cXvxsksWDt2w7lNfbp+dd6hOv+IgTp4n8yDVqT9+/YIDxiJVVldq7KKHTphePQkvSNufFP/dfQg3f2to7RpR602VNXo8EG9FWh0KrDoOckilW/dpV+/Ml8vz1qrF685MWpbXUOjPov4Mn/Vk6WavWabZv3mLP3yxXmSpCuf+Ex3ffModSk07b1H7vtJUsOFrKiortHyyh3NyodOeF1vxIygu++9snA/hm8/Nl0X3v9xm5yjJFXX+D9J3769u+nKk4bpiSuP0/59e0Z1Pj1z5AAN3is4p42ZafBePVTSI7j98EG9dcg+e+rQgXs2+3CRpJMP7KeHvjNK+/ft0WybJP3kjPj9gSJriEK1ByffMUVfe+ATfbE+2KS3YtNOzV9bpeuemx0VaFLlJN3x1iKt3NT8gzhex+dXZ68NX2BCS5xs2lGr3XUBBbx1Jdds2dWshmTdtt3hoJZN7/3iNN3ylZHh+7FhK6RPz2JdfMxgdS0qVHFRAWErhpmpW5f4l5Wfjh3RqmN/uHSTzrrngxb7bCYLW1LiJYbiee6Hx6e8rx8mfvfYZmV/uviIuPt2Ly6MGyaLiwp07NA+cR6RmdMTNIdf8fhnuvTRabr00WmatXqrzr33Qy2r3KGdXlPpS7PW6uIHP9Ho37+rC/76kZZX7tDwX72hHzz1ubburNMzn60Of1Y0Njrd9c5irfb6aa7ZskvOOd3/3lKVVQQ/zyID7Li/fBCuIRwfMZJ42vItOun293TcbZOz9vpbw/J11JgkjR492pWW+tsHBdlx0I1vqi7QqBk3nqn/zF2n7544VOuqaqIWZv3uiUP1xCcr4z4+VPOSitAH7icTzmi2Ft2o/Ur06BWj1bdXV23aUau73lmsm79ymLp1KVRFdY1+9++F+s/c9em/wBSU3XZusOkwS7N33/nWIj0wdZm6FJq+OXqIbvval8LbPi7bpEkLN+rnZ47QUb+bpJMP7Kenvz9G88qr9JX7kzdzpuqMQ/ZWRXWNLjl2P+1b0k0FZurXq6sKC0wH7t1LlzwyLWrW6UgXHbWv5pVXhWfH37d3t/AcY36I98173GH76EenDdc7CzaEf5dzbj5bPYqLtKO2QbvrAtq6q04HDdhDNfUB/c+/5uj6cw7RfglCLZJzzunxj1fq1v8E52l6+PJj1KdnsY4d2keNjU4H/Cp7A0t+d9FhuunVBS3uc81pwzXxwxXh/pYPX36Mzjksfv+seO5/b6lKehTryyP66bf/Xqj3FjWf261Pz2KV3nimht/4RtorPrx73Sk68+6mdVT/8LUv6dtj9gvfD33enXpQfz1w2agW+2+1hfpAozZU1ai4qEB9ehZrxI1vZu3YBw3opYnjj9WX75wSVd6zuFDP/fAEXfDXj1RYYCq98UwdfeuktI79P2cfpG+MHuL7iGAz+9w5NzrutrYOXGY2TtK9kgolPeacuz3RvgSu1DnnFGh0La6H5Yea+oCckw69KVjtf+LwvlGjdkKuOW24Lhuzn75855QWP5COGlKiieNH699z1mmvnsW66KjmHTxDH0AjB+4Zt4/IxccM1nHD+oSnUrjta4frrJEDUvqW03+PrjpycIlG7V+iy47bX717dNGcNdt00d+CtXB7divSHt26aO223frluEP0rWOHaOnGas1es00/PLX5BIFtYdGG7Rrat6e6dSlUbUNA3350ur5xzGBNeGleTs4nFyb/4tSoBZSRe845Nbrm/ZF21Dbouudmq1fXIl12/P56f3GF/jZ1WVTN07FD99I1pw3Xk5+sCvdDjPX9k4fpxvMP1aSFG/WzZ2c3m/4jJPRlbsriCn26bHOrlzQKva7ahoAe+3CFyrfu0tWnDNeBe/dSbUNAi9ZX6/Y3F+nT5c0/B6XgAJo7316sv3+8Qo9/91idOLxf+DPtgP49Nfm6U6Oa2OaVV8ksWAOejz4u26TLHmu5CTmfpPPlPhN5E7jMrFDSEklnSSqXNEPSpc65uFPWtnXg2lXXIJOpe3Hqbfz54i/vLtFf3l2qJb8/NzwqKvTemplmrNyiTdW1qqiu1WVj9osKZoFGl9YH0KIN29WvV1dt3F6TUqfxFX88L+oDpKY+EO6XkY6+PYu1Oc1JLBO57qyDdPekJepZXKhXf3yyzrz7fd359SP0zWOHJHzMx2WbdPA+e6hfr65asWmnhvbtkbDvQT6YuXqrpi6q0PtLKjWnvEq/Pv9Q1dQHNH3FFjknnXJQP80pr9KkhRt9mT6iX6+uOmb/Eo0Z1lczVm5R+dbdGrBnNy3ftCM8R9bTV43Rqi07dePL8/W/5xyss0cO0MCS7lq5aae6dSlUj+JC7VvSXdU19dpR26AeXYq0q75BJd2LVRdoDM9XhI5jy846lXTvooICU2OjU12gUV2LClTpfX4N7N1NXYoKoiaIlYLTf0xfsUWXHx+/Obit1Qca9eLn5Xp6+iq9eM2Jemb6ap08ol/CTuvbdtWFuxe0N/83bZV+EzEQIp4bzzvUl/kCX7n2JF326DTtrAtozLA++taxQ7Rg3XZdNmY/XfH4Zwo0unCfv/369NAHWR6gFCufAtcJkm5xzp3j3b9Bkpxzf4y3f1sEru88Nj28IOgsb/6l2KUO2oPQuXctKgjPlVK2cYe6dinQph3NQ8rhg/ZUUUGBFm+o1u76gI4aUiKz4BDmqt3B+Zv26d1NRQWmRhdchiLgnBobU5tZO+TVa0/SkQlmyn5r/nr9+J+zWrWWWiYW/u4c9Sgu0oJ1VRo5cM+8Dk35JlGtRSZq6gNpdWAG0L5EfumPVV1Tr911AX28bJMGlfTQEYN7a8G67dqys06nHtRfRQWmO99erEP22UND+/XU56u26rwv7aMPlwa7U/zwlAN01JCSlFp1qnbVa3tNvfr0LPa9STafAtfFksY5577v3b9c0hjn3I8j9rla0tWStN9++x2zalXzNbmy6Yf/VxqeoC80yVyqK7Hnk8rqWi3aUK3iogKNGRbsILloQ7Uqq2vVtaig2QSCxw3to27FhVq/bbeWVuwIv2bnpDlrtmlov57as3uRuhQWyKTwRdYUHFFUXFSguoZG9etVrF11Af34jAN18ajBkoIjkE4e0a/ZIrCpqg80qq6hUQ0Bp1VbdirQ6LShqkb79e2hnsVFqmkIqKjAVB9wOnTgnnLOqT7gVFxUoO019WpsdNq+u0ElPbuoZ3FR1vpUAQDQkpYCV95NC+Gce0TSI1Kwhsvv53v48ri/F7RCsvXIkulSWBAOa0f0KEm6v5mpuCgYqkLNDO21ah4A0DG19bQQayVFdpIZ7JUBAAB0WG0duGZIGmFmw8ysWNIlkl5r43MAAABoU23apOicazCzH0t6W8FpIR53zrU8iQoAAEA71+Z9uJxzb0jK3sx3AAAAeY6lfQAAAHxG4AIAAPAZgQsAAMBnBC4AAACfEbgAAAB8RuACAADwGYELAADAZwQuAAAAnxG4AAAAfGbOuVyfQ0JmVilpVRs8VT9Jm9rgeZAe3pf8w3uSn3hf8hPvS/7x+z3Z3znXP96GvA5cbcXMSp1zo3N9HojG+5J/eE/yE+9LfuJ9yT+5fE9oUgQAAPAZgQsAAMBnBK6gR3J9AoiL9yX/8J7kJ96X/MT7kn9y9p7QhwsAAMBn1HABAAD4rFMHLjMbZ2aLzazMzCbk+nw6OjN73MwqzGx+RFkfM5tkZku9f/fyys3M7vPem7lmNiriMeO9/Zea2fhcvJaOwsyGmNkUM1toZgvM7GdeOe9LDplZNzP7zMzmeO/Lb73yYWY23fv9P2dmxV55V+9+mbd9aMSxbvDKF5vZOTl6SR2KmRWa2Swz+493n/clx8xspZnNM7PZZlbqleXX55hzrlP+SCqUtEzSAZKKJc2RNDLX59WRfySdImmUpPkRZXdKmuDdniDpDu/2eZLelGSSjpc03SvvI2m59+9e3u29cv3a2uuPpIGSRnm395C0RNJI3pecvy8mqZd3u4uk6d7v+3lJl3jlD0m6xrv935Ie8m5fIuk57/ZI77Otq6Rh3mdeYa5fX3v/kXSdpH9K+o93n/cl9+/JSkn9Ysry6nOsM9dwHSepzDm33DlXJ+lZSRfl+Jw6NOfcB5K2xBRfJOlJ7/aTkr4aUf6UC5omqcTMBko6R9Ik59wW59xWSZMkjfP95Dso59x659xM73a1pC8kDRLvS055v98d3t0u3o+TdIakF7zy2Pcl9H69IGmsmZlX/qxzrtY5t0JSmYKffciQmQ2WdL6kx7z7Jt6XfJVXn2OdOXANkrQm4n65V4a2NcA5t967vUHSAO92oveH980nXnPH0QrWpvC+5JjXbDVbUoWCH/zLJG1zzjV4u0T+jsO/f297laS+4n3xw18kXS+p0bvfV7wv+cBJesfMPjezq72yvPocK8rWgYDWcs45M2PYbA6YWS9JL0r6uXNue/BLeBDvS2445wKSjjKzEkkvSzokt2cEM7tAUoVz7nMzOy3Hp4NoJzvn1prZ3pImmdmiyI358DnWmWu41koaEnF/sFeGtrXRq8qV92+FV57o/eF9yzIz66Jg2PqHc+4lr5j3JU8457ZJmiLpBAWbPkJflCN/x+Hfv7e9t6TN4n3JtpMkXWhmKxXshnKGpHvF+5Jzzrm13r8VCn5BOU559jnWmQPXDEkjvNElxQp2aHwtx+fUGb0mKTQSZLykVyPKr/BGkxwvqcqrGn5b0tlmtpc34uRsrwwZ8PqTTJT0hXPu7ohNvC85ZGb9vZotmVl3SWcp2L9uiqSLvd1i35fQ+3WxpPdcsBfwa5Iu8UbLDZM0QtJnbfIiOiDn3A3OucHOuaEKXjPec85dJt6XnDKznma2R+i2gp8/85Vvn2O5HlmQyx8FRyosUbBvxI25Pp+O/iPpGUnrJdUr2DZ+lYL9GSZLWirpXUl9vH1N0t+892aepNERx/megp1MyyRdmevX1Z5/JJ2sYN+HuZJmez/n8b7k/H05QtIs732ZL+kmr/wABS/MZZL+JamrV97Nu1/mbT8g4lg3eu/XYknn5vq1dZQfSaepaZQi70tu34sDFBz1OUfSgtD1PN8+x5hpHgAAwGeduUkRAACgTRC4AAAAfEbgAgAA8BmBCwAAwGcELgAAAJ8RuAAAAHxG4AIAAPAZgQsAAMBn/x9ichw7ZMEzywAAAABJRU5ErkJggg==\n",
=======
      "image/png": "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\n",
>>>>>>> 6c593edfd61dfedc4f221160443927b8f9020fad
      "text/plain": [
       "<Figure size 720x432 with 1 Axes>"
      ]
     },
     "metadata": {
      "needs_background": "light"
     },
     "output_type": "display_data"
    }
   ],
   "source": [
<<<<<<< HEAD
    "plt.figure(figsize=(10,6))\n",
    "fees[\"Fees (Total)/v\"].plot()"
=======
    "plt.figure(figsize=(16,8))\n",
    "difficulty_ribbon[\"DR9\"].plot()\n",
    "difficulty_ribbon[\"DR14\"].plot()\n",
    "difficulty_ribbon[\"DR25\"].plot()\n",
    "difficulty_ribbon[\"DR40\"].plot()\n",
    "difficulty_ribbon[\"DR60\"].plot()\n",
    "difficulty_ribbon[\"DR90\"].plot()\n",
    "difficulty_ribbon[\"DR128\"].plot()\n",
    "difficulty_ribbon[\"DR200\"].plot()"
>>>>>>> 6c593edfd61dfedc4f221160443927b8f9020fad
   ]
  },
  {
   "cell_type": "code",
<<<<<<< HEAD
   "execution_count": 15,
=======
   "execution_count": 71,
>>>>>>> 6c593edfd61dfedc4f221160443927b8f9020fad
   "metadata": {},
   "outputs": [
    {
     "data": {
      "text/plain": [
       "<AxesSubplot:xlabel='Market Cap/t'>"
      ]
     },
<<<<<<< HEAD
     "execution_count": 15,
=======
     "execution_count": 71,
>>>>>>> 6c593edfd61dfedc4f221160443927b8f9020fad
     "metadata": {},
     "output_type": "execute_result"
    },
    {
     "data": {
<<<<<<< HEAD
      "image/png": "iVBORw0KGgoAAAANSUhEUgAAAYkAAAD4CAYAAAAZ1BptAAAAOXRFWHRTb2Z0d2FyZQBNYXRwbG90bGliIHZlcnNpb24zLjUuMiwgaHR0cHM6Ly9tYXRwbG90bGliLm9yZy8qNh9FAAAACXBIWXMAAAsTAAALEwEAmpwYAAAp00lEQVR4nO3deXwV5dn/8c/FvgmE1bCERSPILkTApYoboFih1t1WVCq1WqtPW/eFujxWa61b1ZZf9RGsliKILEUREbVWUQJIWAIS1iQsAUJYDEuW6/fHuWmPNIGAhJOcfN+v13ll5jozc193COc6M3PPjLk7IiIiJakW6wRERKTiUpEQEZFSqUiIiEipVCRERKRUKhIiIlKqGrFO4Ghr1qyZt2/fPtZpiIhUKvPmzdvi7s0PjMddkWjfvj2pqamxTkNEpFIxs7UlxXW4SURESqUiISIipVKREBGRUqlIiIhIqVQkRESkVCoSIiJSKhUJEREplYqEiEgll7Utn4enLqGwqPiobzvuLqYTEakqioqd1z5bw9PvLwfg0lPa0L1No6PahoqEiEgllJaVx4PvLGZh1nbO6dScR4d1o01CvaPejoqEiEglsj2/gN/NWMabX66jWYPavHD1KVzcIxEzK5f2VCRERCoBd2da2gYenrqUbfn7uOH0DtxxQTIN69Qs13ZVJEREKrjM3HweeGcxH3+9mR5tGvHaDafSrfXRPfdQGhUJEZEKqqComFc+Xc1zH6ygmsGo73fhutPaU71a+RxaKomKhIhIBTRv7Tbun7SIZRt3MrBLS35zSVdaNa57zPNQkRARqUB27S3kqfeWMXbOWo5vWIfRP+7DwK7HxywfFQkRkQpiVvomHnhnMRt37GH4ae359aBONKgd249pFQkRkRjbvHMvD09dwrS0DZzUsgEvXns6vZMSYp0WoCIhIhIz7s6EeVk89o90du8r4pcXnMTNZ59ArRoV545Jh8zEzDqZ2VdRrx1mdoeZNTGzmWa2IvxMCMubmT1vZhlmlmZmvaO2NTwsv8LMhkfF+5jZorDO8xauCimtDRGRym7t1m/40StfcOeENJJbNGD67Wfyi/OSK1SBgDIUCXdf7u693L0X0AfIByYB9wCz3D0ZmBXmAS4EksNrJPAyRD7wgVFAP6AvMCrqQ/9l4Kao9QaHeGltiIhUSoVFxYz+ZCWDnv2EhZnbeXRYN8b/9DRObHFcrFMr0eEebjoPWOnua81sKDAgxMcAHwF3A0OBse7uwBwza2xmiWHZme6eC2BmM4HBZvYR0NDd54T4WGAY8G7YVkltiIhUOkvX7+CuiQtZnL2D809uyaPDupLY6NgPaz0ch1skrgL+FqZbuvuGML0RaBmmWwOZUetkhdjB4lklxA/WxreY2Ugiey0kJSUdXo9ERMpZQVExL81eyQsfrqBxvVq8dG1vLux2fLndb+loKnORMLNawCXAvQe+5+5uZn40EzucNtx9NDAaICUlpVzzEBE5HJ9lbOGxf6SzdMMOLunZiocv6UpC/VqxTqvMDmdP4kJgvrtvCvObzCzR3TeEw0k5IZ4NtI1ar02IZfOfQ0f74x+FeJsSlj9YGyIiFVpGzk4emZbOJ19vJrFRHf70o94M7pYY67QO2+GcRr+a/xxqApgC7B+hNByYHBW/Loxy6g9sD4eMZgADzSwhnLAeCMwI7+0ws/5hVNN1B2yrpDZERCqk7bsLeGTqUgY/+0++WreNB4aczOxfD6iUBQLKuCdhZvWBC4CfRoWfAMab2QhgLXBFiE8HLgIyiIyEugHA3XPN7FFgbljukf0nsYFbgNeAukROWL97iDZERCqUomLnzS/X8ezMr8nN38dVpybx64En0bRB7Vin9p1YZBBS/EhJSfHU1NRYpyEiVciyjTu4e+IiFmbm0a9DEx68uMsxu5X30WJm89w95cC4rrgWETlCewqKeH7WCkZ/sopGdWvy3FW9uKRnq0oxaqmsVCRERI7AZyu3cN/bi1izNZ/L+rTh/otOrlSjlspKRUJE5DDk5e/j8enpjE/Nol3Terzxk36ccWKzWKdVblQkRETKwN2ZmraBR6YuYVt+ATeffQJ3nJ9MnZrVY51auVKREBE5hMzcfB6cvJiPlm+mZ5tGjLmxL11bVa4T00dKRUJEpBT5+wr544cZ/OXT1dSoZjx0cReGn35snzEdayoSIiIl+Pjrzdw/aRFZ23bzg1Nac+egTjF5xnSsqUiIiETZsmsvj05byuSv1nNC8/qM/+lp9O3QJNZpxYyKhIgIkRPTb83L4vHp6Xyzt5Dbz0vmlnNOoHaN+D4xfSgqEiJS5a3cvIv73l7EF6tzObV9Ao//oDvJLSvmQ4CONRUJEamy9hYW8dLslbz80Urq1KzGE5d254qUtlSrQiemD0VFQkSqpM9XbuX+dxaxavM3DO3VigeGdKH5cZX7ZnzlQUVCRKqUbd9Erph+a14WSU3qMfbGvpx1UvNYp1VhqUiISJXg7kxakM1j/0hnx+4CfjbgBH5xbjJ1a1XtE9OHoiIhInFv9ZZveOCdRfwrYyu9kxrz+KXd6Xx8w1inVSmoSIhI3NpXWMyfP17JC7MzqF29Go8O68a1fZN0YvowqEiISFyauyaXe99eREbOLob0SGTUxV1o0bBOrNOqdMr0jGsza2xmE8xsmZmlm9lpZtbEzGaa2YrwMyEsa2b2vJllmFmamfWO2s7wsPwKMxseFe9jZovCOs+HZ11TWhsiIqXZnl/APRPTuPxPn7N7XxH/d/2pvHhNbxWII1SmIgE8B7zn7p2BnkA6cA8wy92TgVlhHuBCIDm8RgIvQ+QDHxgF9AP6AqOiPvRfBm6KWm9wiJfWhojIt7g7k7/K5rw/fMRb87IYeVZHZv7yLM7p3CLWqVVqhzzcZGaNgLOA6wHcfR+wz8yGAgPCYmOAj4C7gaHAWI88PHtO2AtJDMvOdPfcsN2ZwGAz+who6O5zQnwsMAx4N2yrpDZERP5t9ZZveGjyYv65YkuVu5V3eSvLOYkOwGbg/8ysJzAPuB1o6e4bwjIbgZZhujWQGbV+VogdLJ5VQpyDtPEtZjaSyF4LSUlJZeiSiMSDwqJiRv9zFc9+sILa1avx8CVd+VH/dlXqVt7lrSxFogbQG7jN3b8ws+c44LCPu7uZeXkkWJY23H00MBogJSWlXPMQkYph6fod3DVxIYuzdzC46/E8MrSrzjuUg7IUiSwgy92/CPMTiBSJTWaW6O4bwuGknPB+NtA2av02IZbNfw4d7Y9/FOJtSlieg7QhIlXUvsJi/jg7g5dmZ9C4Xk1eurY3F3VPjHVaceuQJ67dfSOQaWadQug8YCkwBdg/Qmk4MDlMTwGuC6Oc+gPbwyGjGcBAM0sIJ6wHAjPCezvMrH8Y1XTdAdsqqQ0RqYLSsvL4/guf8vysFVzSsxUz/+dsFYhyVtbrJG4D3jCzWsAq4AYiBWa8mY0A1gJXhGWnAxcBGUB+WBZ3zzWzR4G5YblH9p/EBm4BXgPqEjlh/W6IP1FKGyJShewpKOL5WSv48yeraN6gNq9en8K5nUs8RSlHmUUGIcWPlJQUT01NjXUaInKUzF+3jbsmpJGRs4srU9py/8Un07BOzVinFXfMbJ67pxwY1xXXIlIh7dxTwFMzlvP6nLUkNqzDmBv7crbu1nrMqUiISIXi7sxYspFRU5aQs3Mvw09rz68HdaJBbX1cxYJ+6yJSYazP281Dk5fwQfomuiQ2ZPSPU+jZtnGs06rSVCREJOaKip3XP1/DUzOWU+xw30WdufGMDtSoXtY7B0l5UZEQkZj6etNO7p6YxoJ1eZx9UnMeG9aNtk3qxTotCVQkRCQmduwp4KXZK3nl01UcV6cmz13Vi0t6tiLcBFoqCBUJETmmCouKGTc3k2dmfs3Wb/bxw95tuH/IyTSpXyvWqUkJVCRE5JiZv24bD0xazNINO+jXoQmvDelC9za6W2tFpiIhIuVu++4Cnnh3GePmrqPlcXV46dreXNjteB1aqgRUJESkXL23eCMPTV7Mll17GXFGB+644CRd81CJ6F9KRMpFzs49jJq8hHcXb+TkxIa8MvxUHVqqhFQkROSocncmLcjm4alL2V1QxJ2DOjHyrI7U1DUPlZKKhIgcNevzdnPfpEV8tHwzfdol8OQPe3BiiwaxTku+AxUJEfnOioudv81dx2+nL6Oo2Bn1/S5cd1p7PUY0DqhIiMh3snbrN9w9MY05q3I548SmPHFpD10xHUdUJETkiBQXO2M+X8Pv3ltOjWrGE5d258pT22pYa5xRkRCRw7Zuaz6/nrCQL1fnck6n5jx+aXcSG9WNdVpSDso03MDM1pjZIjP7ysxSQ6yJmc00sxXhZ0KIm5k9b2YZZpZmZr2jtjM8LL/CzIZHxfuE7WeEde1gbYhIbBQXO2M/X8OgZz8hff0OnrqsB69ef6oKRBw7nDFp57h7r6jH290DzHL3ZGBWmAe4EEgOr5HAyxD5wAdGAf2AvsCoqA/9l4GbotYbfIg2ROQYy8zN59q/fMFDk5dwaocmvP/Ls7g8RYeX4t13Gbg8FBgTpscAw6LiYz1iDtDYzBKBQcBMd891923ATGBweK+hu8/xyAO3xx6wrZLaEJFjxN1544u1DH72ExZlb+eJS7sz5gbtPVQVZT0n4cD7ZubAn919NNDS3TeE9zcCLcN0ayAzat2sEDtYPKuEOAdp41vMbCSRvRaSkpLK2CUROZTsvN3cMzGNf67YwhknNuXJH/agTYJGLlUlZS0SZ7p7tpm1AGaa2bLoN93dQwEpNwdrIxSt0QApKSnlmodIVeDujE/N5NFp6RS789iwblzbL0mHlqqgMhUJd88OP3PMbBKRcwqbzCzR3TeEQ0Y5YfFsoG3U6m1CLBsYcED8oxBvU8LyHKQNESknG7bv5p6Ji/j4683079iEpy7rqeseqrBDnpMws/pmdtz+aWAgsBiYAuwfoTQcmBympwDXhVFO/YHt4ZDRDGCgmSWEE9YDgRnhvR1m1j+MarrugG2V1IaIHGWRey5lMfCZT/hydS4PX9KVN3/SXwWiiivLnkRLYFLYzawBvOnu75nZXGC8mY0A1gJXhOWnAxcBGUA+cAOAu+ea2aPA3LDcI+6eG6ZvAV4D6gLvhhfAE6W0ISJHUda2fB6ZupT3l26iT7sEnr68J+2b1Y91WlIBWGRAUfxISUnx1NTUWKchUikUFzuvz1nLk+8twx1uPz+Zm77XUfdcqoLMbF7UJQ7/piuuRaqo1Vu+4a4JC5m7ZhtnndScx3/QTSOX5L+oSIhUMYVFxbz6r9U8/f7X1K5Rjd9f3pMf9m6tkUtSIhUJkSrk6007ufOthSzM2s4FXVry6NBuHN+oTqzTkgpMRUKkCigoKmb0J6t47oMVNKhTgxeuPoWLeyRq70EOSUVCJM4tWb+duyaksWT9Di7qfjyPDO1Gswa1Y52WVBIqEiJxam9hEX/8MIOXP1pJ43q1ePna3lzYPTHWaUkloyIhEocWrNvGXRPSWJGzi0t7t+ahi7vQuF6tWKcllZCKhEgc2b2viKffX86r/1pNy4Z1+L/rT+Wczi1inZZUYioSInFizqqt3D0xjbVb87mmXxL3XtiZ4+rUjHVaUsmpSIhUcrv2FvLEu+n8dc46kprU482b+nH6Cc1inZbECRUJkUps9rIcHnhnMeu372bEmR341cCTqFdL/63l6NFfk0gltHnnXh6ZtpSpC9dzYosGTLj5dPq00yPg5ehTkRCpRCK3887mkWlLyd9bxP+cfxI3D+hI7RrVY52axCkVCZFKYvWWb3jwncV8mrGF3kmN+d1lPTmxRYNYpyVxTkVCpILbW1jEnz9exR9nZ1C7ejUeHdaNa/om6XbeckyoSIhUYPPW5nL3xEVk5OxiSI9ERl3chRYNdUM+OXZUJEQqoF17C3nqvWWMnbOWVo3q6qI4iRkVCZEKZlb6Jh54ZzEbd+xh+GntuXNQJ+rX1n9ViY1qZV3QzKqb2QIzmxbmO5jZF2aWYWZ/N7NaIV47zGeE99tHbePeEF9uZoOi4oNDLMPM7omKl9iGSDzavHMvt745nxFjUmlYpyYTf3Y6v7mkqwqExFSZiwRwO5AeNf8k8Iy7nwhsA0aE+AhgW4g/E5bDzLoAVwFdgcHAS6HwVAdeBC4EugBXh2UP1oZI3CgudsbPzeT8P3zMzCWb+NUFJzH1tjPpnaTrHiT2ylQkzKwNMAT4S5g34FxgQlhkDDAsTA8N84T3zwvLDwXGufted18NZAB9wyvD3Ve5+z5gHDD0EG2IxIV1W/O5cvTn3DUxjU4tj2P67d/jtvOSqVXjcL6/iZSfsu7HPgvcBRwX5psCee5eGOazgNZhujWQCeDuhWa2PSzfGpgTtc3odTIPiPc7RBvfYmYjgZEASUlJZeySSOy4O2/Pz2bUlCWYwe9+2IPL+rShmoa1SgVzyCJhZhcDOe4+z8wGlHtGR8DdRwOjAVJSUjzG6YgcVM7OPdz39iI+SM/h1PYJPHNlL9ok1It1WiIlKsuexBnAJWZ2EVAHaAg8BzQ2sxrhm34bIDssnw20BbLMrAbQCNgaFd8vep2S4lsP0oZIpTR14XoenLyY3fuKeGDIydxwRgddFCcV2iEPfLr7ve7ext3bEznx/KG7XwvMBi4Liw0HJofpKWGe8P6H7u4hflUY/dQBSAa+BOYCyWEkU63QxpSwTmltiFQqud/s49Y35nPb3xbQrml9/vGL7/GT73VUgZAK77uMrbsbGGdmjwELgFdC/BXgdTPLAHKJfOjj7kvMbDywFCgEbnX3IgAz+zkwA6gOvOruSw7Rhkil4O68u3gjD01ezPbdBdw5qBM/PasjNarrxLRUDhb5wh4/UlJSPDU1NdZpiLA+bzcPTV7MB+k5dG3VkN9f3pOTExvGOi2REpnZPHdPOTCuq3REjrLiYueNL9by5HvLKSwu5v6LTuaGM9pr70EqJRUJkaNo+cad3Pt2GvPX5fG95GY8/oPutG2ikUtSealIiBwFewqK+OOHGfzp45UcV6cGT1/ek0t7tyZyTahI5aUiIfIdfbZyC/dPWszqLd9wae/WPDCkC03q6zZjEh9UJESO0NZde/nf6em8PT+bpCb1+OuIfpyZ3CzWaYkcVSoSIoepqNj525freGrGcvL3FXLrOSfw83OSqVtLz5mW+KMiIXIY0jfs4N63F/FVZh79Ozbh0aHdSG553KFXFKmkVCREymBPQRHPz1rB6E9W0ahuTZ65sifDeunEtMQ/FQmRQ/gsYwv3TVrEmq35XN6nDfdddDIJOjEtVYSKhEgp8vL38fj0dManZtGuaT3e/Ek/Tj9RJ6alalGREDmAuzMtbQMPT13Ktvx93Hz2CdxxfjJ1aurEtFQ9KhIiUbK25fPQ5CV8uCyH7q0bMebGU+naqlGs0xKJGRUJESLDWl/7bA1Pv78cgAcv7sLw09rpfktS5alISJW3avMufv3WQuavy2NAp+Y8NqybnhQnEqhISJVVXOyM/XwNT7y3jNo1qvPslb0Y2quVhrWKRFGRkCopO283d761kM9WbmVAp+Y8+cMetGxYJ9ZpiVQ4KhJSpbg7b8/P5jdTllDszm8v7c5Vp7bV3oNIKQ55Vs7M6pjZl2a20MyWmNnDId7BzL4wswwz+3t4PjXhGdZ/D/EvzKx91LbuDfHlZjYoKj44xDLM7J6oeIltiByJvPx93PrmfH711kI6Jx7Hu7efxdV9k1QgRA6iLEM39gLnuntPoBcw2Mz6A08Cz7j7icA2YERYfgSwLcSfCcthZl2IPO+6KzAYeMnMqptZdeBF4EKgC3B1WJaDtCFyWD7L2MLgZ//JzKWbuHtwZ8aNPI2kpjo5LXIohywSHrErzNYMLwfOBSaE+BhgWJgeGuYJ759nka9qQ4Fx7r7X3VcDGUDf8Mpw91Xuvg8YBwwN65TWhkiZ7Css5rfT07n2lS+oV7s6k245g58NOIHq1bT3IFIWZTonEb7tzwNOJPKtfyWQ5+6FYZEsoHWYbg1kArh7oZltB5qG+JyozUavk3lAvF9Yp7Q2DsxvJDASICkpqSxdkipg5eZd3DHuKxZlb+eafkk8OKSLbuctcpjKVCTcvQjoZWaNgUlA5/JM6nC5+2hgNEBKSorHOB2JMXdn3NxMHpm6lNo1q/HnH/dhUNfjY52WSKV0WKOb3D3PzGYDpwGNzaxG+KbfBsgOi2UDbYEsM6sBNAK2RsX3i16npPjWg7QhUqK8/H3cPTGNGUs2ccaJTfnDFb00tFXkOyjL6KbmYQ8CM6sLXACkA7OBy8Jiw4HJYXpKmCe8/6G7e4hfFUY/dQCSgS+BuUByGMlUi8jJ7SlhndLaEPkvC9ZtY8jzn/LhshzuvbAzr9/YTwVC5Dsqy55EIjAmnJeoBox392lmthQYZ2aPAQuAV8LyrwCvm1kGkEvkQx93X2Jm44GlQCFwaziMhZn9HJgBVAdedfclYVt3l9KGyL+5O6/+aw1PvJtOi+Pq8NbNp9OrbeNYpyUSFyzyhT1+pKSkeGpqaqzTkGNkx54C7norjfeWbOT8k1vy9OU9aVSvZqzTEql0zGyeu6ccGNcV11JpLVm/nVvemE/2tt3cf9HJ/OR7HXRhnMhRpiIhldKEeVncN2kRCfVqMm5kf1LaN4l1SiJxSUVCKpWiYue309P5y6erOa1jU1645hSaNagd67RE4paKhFQa23cX8Iu/LeDjrzcz/LR2PHBxF2rqoUAi5UpFQiqFVZt38ZOxqazbms/jP+jONf10Zb3IsaAiIRXe1IXruWdiGrVqVOOvP+lH/45NY52SSJWhIiEV1t7CIv73H+mM/XwtvZMa88dretOqcd1YpyVSpahISIWUmZvPLW/MZ1H2dm76XgfuGtxZ5x9EYkBFQiqc95ds5FdvLQTQzflEYkxFQiqMgqJinnx3GX/5dDXdWzfixWt668FAIjGmIiEVwrqt+dzx9wXMX5fHdae14/4hJ1O7hp79IBJrKhISU+7OW6lZ/GbqEqqb8cLVp/D9nq1inZaIBCoSEjM79xRw36TFTF24nv4dm/D0Fb1ordFLIhWKioTExOLs7fz8zflkbtvNnYM6cfPZeu60SEWkIiHHVFGx88qnq/j9jK9pUr8W40b251TdnE+kwlKRkGMmLSuP+yYtYnH2DgZ1bclvL+1Bk/q1Yp2WiByEioSUu5yde3h6xteMn5dJ8wa1+eM1pzCke6Ke/SBSCZTlGddtzWy2mS01syVmdnuINzGzmWa2IvxMCHEzs+fNLMPM0sysd9S2hoflV5jZ8Kh4HzNbFNZ53sKnR2ltSOXg7vx97jrOe/pj3l6QxY1ndOCDX53NxT1aqUCIVBJluc9BIfArd+8C9AduNbMuwD3ALHdPBmaFeYALgeTwGgm8DJEPfGAU0A/oC4yK+tB/Gbgpar3BIV5aG1LBZebm8+NXvuTuiYs4ObEhM+44iwcv7kLDOnq0qEhlcsjDTe6+AdgQpneaWTrQGhgKDAiLjQE+Au4O8bEeeXj2HDNrbGaJYdmZ7p4LYGYzgcFm9hHQ0N3nhPhYYBjw7kHakAqqqNgZ89kanpqxnOrVjMeGdeOavklU08glkUrpsM5JmFl74BTgC6BlKCAAG4GWYbo1kBm1WlaIHSyeVUKcg7RxYF4jiey1kJSk5wzESkbOTu6akMb8dXkM6NScx3/QXXdtFankylwkzKwBMBG4w913RB9Tdnc3My+H/MrUhruPBkYDpKSklGse8t/2FRbz549X8sKHGdSrXZ1nruzJsF6tdd5BJA6UqUiYWU0iBeINd387hDeZWaK7bwiHk3JCPBtoG7V6mxDL5j+HjvbHPwrxNiUsf7A2pIL4KjOPeyamsWzjTi7ukcio73el+XF65rRIvCjL6CYDXgHS3f0PUW9NAfaPUBoOTI6KXxdGOfUHtodDRjOAgWaWEE5YDwRmhPd2mFn/0NZ1B2yrpDYkxvL3FfLotKVc+tK/yMsv4P9dl8Ifr+mtAiESZ8qyJ3EG8GNgkZl9FWL3AU8A481sBLAWuCK8Nx24CMgA8oEbANw918weBeaG5R7ZfxIbuAV4DahL5IT1uyFeWhsSQ/9csZn7Ji0iM3c31/ZL4u4LO2vUkkicssggpPiRkpLiqampsU4jLuXl7+PRaelMnJ9Fx2b1+e2l3emn502LxAUzm+fuKQfGdcW1HJK7My1tAw9PXcK2/AJuPecEbjs3mTo19bwHkXinIiEHtT5vNw++s5hZy3Lo3roRY27sS9dWjWKdlogcIyoSUqLiYueNL9by5HvLKSp2HhhyMtef3p4a1ctykb6IxAsVCfkvGTm7uPftNOau2caZJzbjt5d2p20TPWtapCpSkZB/+2ZvIS98mMErn66iXq0a/P7ynvywty6KE6nKVCQEd2fKwvU8Pj2dTTv2clmfNtw9uLOueRARFYmqLn3DDkZNWcKXq3Pp3roRL/+oD72TdEd2EYlQkaiitucX8IeZy3l9zloa1a3Jby/tzhUpbfWcaRH5FhWJKqa42BmfmsnvZiwnL38fP+rfjl9ecBKN6+kxoiLy31QkqpCl63dw36RFfJWZx6ntE3j4kn50adUw1mmJSAWmIlEFFBYV8+Lslbzw4Qoa1a3JH67oyQ9O0aglETk0FYk4t3tfEbe+OZ8Pl+UwtFcrfvP9riTU16ElESkbFYk4lvvNPkaMmcvCzDweG9aNH/VvF+uURKSSUZGIU+u25nP9a1+StW03L13bh8Hdjo91SiJSCalIxKG5a3IZOTaVYoe/juhH3w5NYp2SiFRSKhJxpKAo8qzp52atoG1CPV65/lQ6NKsf67REpBJTkYgTqzbv4hfjFrA4ewdDeiTy+LDuNKqnp8WJyHdTlmdcv2pmOWa2OCrWxMxmmtmK8DMhxM3MnjezDDNLM7PeUesMD8uvMLPhUfE+ZrYorPN8eM51qW3If5u7JpdLX/6M9Xl7+NOPevPiNb1VIETkqCjLwwFeAwYfELsHmOXuycCsMA9wIZAcXiOBlyHygQ+MAvoBfYFRUR/6LwM3Ra03+BBtSFBc7Iz+ZCVXj55DQr1aTLrldAZ3S4x1WiISRw5ZJNz9EyD3gPBQYEyYHgMMi4qP9Yg5QGMzSwQGATPdPdfdtwEzgcHhvYbuPscjD9see8C2SmpDgM0793L9a3N5fPoyzju5Be/ccgbtmur8g4gcXUd6TqKlu28I0xuBlmG6NZAZtVxWiB0snlVC/GBtVHmfr9zKbX9bwM49BTw2rBvX9kvS1dMiUi6+84lrd3cz86ORzJG2YWYjiRzeIikpqTxTiSl35//+tYbHp6fTrmk9/vqTvnQ+XvdeEpHyc6QPLN4UDhURfuaEeDbQNmq5NiF2sHibEuIHa+O/uPtod09x95TmzZsfYZcqtuJi54F3FvPItKUM6NSCSbeeoQIhIuXuSIvEFGD/CKXhwOSo+HVhlFN/YHs4ZDQDGGhmCeGE9UBgRnhvh5n1D6OarjtgWyW1UeXsKSjitnELeOOLddx89gn8v+v60LCORi+JSPk75OEmM/sbMABoZmZZREYpPQGMN7MRwFrgirD4dOAiIAPIB24AcPdcM3sUmBuWe8Td958Mv4XICKq6wLvhxUHaqFI2bN/NzX+dT1pWHvdd1JmRZ50Q65REpAqxyKCi+JGSkuKpqamxTuOo+GzlFm57cwF7Cop4+opeuv+SiJQbM5vn7ikHxnXFdQXk7oz+ZBVPvreMjs0b8Kcf9eHEFg1inZaIVEEqEhXMnoIi7pqQxpSF6xnSPZEnL+tBg9r6ZxKR2NCnTwXz8zfn80F6DncN7sTPzj5B1z+ISEypSFQQRcXOi7Mz+CA9hzsHdeKWASfGOiURERWJiiAzN59fjv+KuWu28f2erRhxZodYpyQiAqhIxJS7Mz41k8empQPwzJU9GdartQ4xiUiFoSIRI9/sLeTuiWlMS9tA/45NeOqynrRtUi/WaYmIfIuKRAys2ryLm/86j4ycXdw9uDM/Pasj1app70FEKh4ViWNo/+Glh6cupXaNarw+oh9nnNgs1mmJiJRKReIY2VtYxL1vL+Lt+dmc1rEpf7iyJ4mN6sY6LRGRg1KROAYyc/P5n79/RerabdxxfjK/ODdZh5dEpFJQkShH7s47X2Xz0DtLcOCFq0/h+z1bxTotEZEyU5EoBwVFxcxdncuYz9cwY8kmUtol8MyVvTR6SUQqHRWJo2T3viI+WbGZGUs2Mis9h+27C6hbszp3De7EyO91pEb1I310h4hI7KhIHKE9BUUsWJfHgsxtzFuzjX+t3MKegmIa1qnB+Se3ZGDXlpx1UnPq1dKvWEQqL32CHYb8fYXMXLqJ95ds4qPlOXyzrwiADs3qc0VKWwZ2OZ5+HZtQU3sNIhInVCTKYPvuAsZ8toZX/7WavPwCmjWozSW9WnNe5xb0aZdAQv1asU5RRKRcqEgcxJZde3nl09W8/vladu0t5LzOLbjprI6c2r4J1TWEVUSqgApfJMxsMPAcUB34i7s/Ud5tbti+mz9/vIpxc9ext7CYi7oncuuAE+nSqmF5Ny0iUqFU6CJhZtWBF4ELgCxgrplNcfel5dHe2q3f8KePVzJhXhbuMOyU1vxswAmc0FyPDhWRqqlCFwmgL5Dh7qsAzGwcMBQ46kXivkmLGPflOmpUr8ZVpybx07M70iZB1zWISNVW0YtEayAzaj4L6HfgQmY2EhgJkJSUdEQNtU2ox01ndWTEGR1o0bDOEW1DRCTeVPQiUSbuPhoYDZCSkuJHso2fDTjhqOYkIhIPKvqA/mygbdR8mxATEZFjoKIXiblAspl1MLNawFXAlBjnJCJSZVTow03uXmhmPwdmEBkC+6q7L4lxWiIiVUaFLhIA7j4dmB7rPEREqqKKfrhJRERiSEVCRERKpSIhIiKlUpEQEZFSmfsRXXtWYZnZZmDtEa7eDNhyFNOpDNTnqkF9rjqOtN/t3L35gcG4KxLfhZmluntKrPM4ltTnqkF9rjqOdr91uElEREqlIiEiIqVSkfi20bFOIAbU56pBfa46jmq/dU5CRERKpT0JEREplYqEiIiUSkUiMLPBZrbczDLM7J5Y5/NdmNmrZpZjZoujYk3MbKaZrQg/E0LczOz50O80M+sdtc7wsPwKMxsei76UhZm1NbPZZrbUzJaY2e0hHrd9BjCzOmb2pZktDP1+OMQ7mNkXoX9/D7fZx8xqh/mM8H77qG3dG+LLzWxQjLpUJmZW3cwWmNm0MB/X/QUwszVmtsjMvjKz1BA7Nn/f7l7lX0RuQ74S6AjUAhYCXWKd13foz1lAb2BxVOx3wD1h+h7gyTB9EfAuYEB/4IsQbwKsCj8TwnRCrPtWSn8Tgd5h+jjga6BLPPc55GtAgzBdE/gi9Gc8cFWI/wn4WZi+BfhTmL4K+HuY7hL+5msDHcL/heqx7t9B+v1L4E1gWpiP6/6GnNcAzQ6IHZO/b+1JRPQFMtx9lbvvA8YBQ2Oc0xFz90+A3APCQ4ExYXoMMCwqPtYj5gCNzSwRGATMdPdcd98GzAQGl3vyR8DdN7j7/DC9E0gn8nz0uO0zQMh/V5itGV4OnAtMCPED+73/9zEBOM/MLMTHufted18NZBD5P1HhmFkbYAjwlzBvxHF/D+GY/H2rSES0BjKj5rNCLJ60dPcNYXoj0DJMl9b3Svk7CYcUTiHyrTru+xwOvXwF5BD5T78SyHP3wrBIdB/+3b/w/nagKZWr388CdwHFYb4p8d3f/Rx438zmmdnIEDsmf98V/qFDcvS5u5tZ3I19NrMGwETgDnffEfnSGBGvfXb3IqCXmTUGJgGdY5tR+TGzi4Ecd59nZgNinM6xdqa7Z5tZC2CmmS2LfrM8/761JxGRDbSNmm8TYvFkU9jlJPzMCfHS+l6pfidmVpNIgXjD3d8O4bjuczR3zwNmA6cRObyw/wtgdB/+3b/wfiNgK5Wn32cAl5jZGiKHhM8FniN++/tv7p4dfuYQ+TLQl2P0960iETEXSA6jJGoROck1JcY5HW1TgP2jGYYDk6Pi14UREf2B7WEXdgYw0MwSwqiJgSFW4YTjzK8A6e7+h6i34rbPAGbWPOxBYGZ1gQuInI+ZDVwWFjuw3/t/H5cBH3rkjOYU4KowGqgDkAx8eUw6cRjc/V53b+Pu7Yn8H/3Q3a8lTvu7n5nVN7Pj9k8T+btczLH6+471WfuK8iIyIuBrIsd07491Pt+xL38DNgAFRI47jiByLHYWsAL4AGgSljXgxdDvRUBK1HZuJHJSLwO4Idb9Okh/zyRyzDYN+Cq8LornPodcewALQr8XAw+FeEciH3oZwFtA7RCvE+Yzwvsdo7Z1f/h9LAcujHXfytD3AfxndFNc9zf0b2F4Ldn/+XSs/r51Ww4RESmVDjeJiEipVCRERKRUKhIiIlIqFQkRESmVioSIiJRKRUJEREqlIiEiIqX6/z7r8Wl8RepPAAAAAElFTkSuQmCC\n",
=======
      "image/png": "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\n",
>>>>>>> 6c593edfd61dfedc4f221160443927b8f9020fad
      "text/plain": [
       "<Figure size 432x288 with 1 Axes>"
      ]
     },
     "metadata": {
      "needs_background": "light"
     },
     "output_type": "display_data"
    }
   ],
   "source": [
<<<<<<< HEAD
    "block_height[\"Block Height/v\"].plot()\n",
    "#FIX THIS VIS LIKE GLASSNODE"
=======
    "plt.figure(figsize=(8,5))\n",
    "market_cap_usd[\"MCvalue\"].plot()"
>>>>>>> 6c593edfd61dfedc4f221160443927b8f9020fad
   ]
  },
  {
   "cell_type": "code",
   "execution_count": 16,
   "metadata": {},
   "outputs": [
    {
     "data": {
      "text/plain": [
       "<AxesSubplot:xlabel='Active Addresses/t'>"
      ]
     },
     "execution_count": 16,
     "metadata": {},
     "output_type": "execute_result"
    },
    {
     "data": {
<<<<<<< HEAD
      "image/png": "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\n",
=======
      "image/png": "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\n",
>>>>>>> 6c593edfd61dfedc4f221160443927b8f9020fad
      "text/plain": [
       "<Figure size 1152x576 with 1 Axes>"
      ]
     },
     "metadata": {
      "needs_background": "light"
     },
     "output_type": "display_data"
    }
   ],
   "source": [
<<<<<<< HEAD
    "plt.figure(figsize=(16,8))\n",
    "difficulty_ribbon[\"Difficulty Ribbon/o/ma9\"].plot()\n",
    "difficulty_ribbon[\"Difficulty Ribbon/o/ma14\"].plot()\n",
    "difficulty_ribbon[\"Difficulty Ribbon/o/ma25\"].plot()\n",
    "difficulty_ribbon[\"Difficulty Ribbon/o/ma40\"].plot()\n",
    "difficulty_ribbon[\"Difficulty Ribbon/o/ma60\"].plot()\n",
    "difficulty_ribbon[\"Difficulty Ribbon/o/ma90\"].plot()\n",
    "difficulty_ribbon[\"Difficulty Ribbon/o/ma128\"].plot()\n",
    "difficulty_ribbon[\"Difficulty Ribbon/o/ma200\"].plot()\n",
    "\n",
    "#ADD LEGEND"
=======
    "active_addresses[\"AAvalue\"].plot()"
>>>>>>> 6c593edfd61dfedc4f221160443927b8f9020fad
   ]
  },
  {
   "cell_type": "code",
<<<<<<< HEAD
   "execution_count": 17,
=======
   "execution_count": 73,
>>>>>>> 6c593edfd61dfedc4f221160443927b8f9020fad
   "metadata": {},
   "outputs": [
    {
     "data": {
      "text/plain": [
       "<AxesSubplot:xlabel='Hash Rate/t'>"
      ]
     },
<<<<<<< HEAD
     "execution_count": 17,
=======
     "execution_count": 73,
>>>>>>> 6c593edfd61dfedc4f221160443927b8f9020fad
     "metadata": {},
     "output_type": "execute_result"
    },
    {
     "data": {
      "image/png": "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\n",
      "text/plain": [
       "<Figure size 1152x576 with 1 Axes>"
      ]
     },
     "metadata": {
      "needs_background": "light"
     },
     "output_type": "display_data"
    }
   ],
   "source": [
    "plt.figure(figsize=(16,8))\n",
    "hash_rate[\"HRvalue\"].plot()"
   ]
  },
  {
   "cell_type": "code",
<<<<<<< HEAD
   "execution_count": 18,
=======
   "execution_count": 75,
>>>>>>> 6c593edfd61dfedc4f221160443927b8f9020fad
   "metadata": {},
   "outputs": [
    {
     "data": {
      "text/plain": [
       "<Figure size 864x432 with 0 Axes>"
      ]
     },
<<<<<<< HEAD
     "execution_count": 18,
=======
     "execution_count": 75,
>>>>>>> 6c593edfd61dfedc4f221160443927b8f9020fad
     "metadata": {},
     "output_type": "execute_result"
    },
    {
     "data": {
      "text/plain": [
       "<Figure size 864x432 with 0 Axes>"
      ]
     },
     "metadata": {},
     "output_type": "display_data"
    }
   ],
   "source": [
    "plt.figure(figsize=(12,6))\n",
    "#SOPR[\"SOPRvalue\"].plot()"
   ]
  },
  {
   "cell_type": "code",
<<<<<<< HEAD
   "execution_count": 19,
=======
   "execution_count": 76,
>>>>>>> 6c593edfd61dfedc4f221160443927b8f9020fad
   "metadata": {},
   "outputs": [
    {
     "data": {
      "text/plain": [
       "<AxesSubplot:xlabel='Fees (Total)/t'>"
      ]
     },
<<<<<<< HEAD
     "execution_count": 19,
=======
     "execution_count": 76,
>>>>>>> 6c593edfd61dfedc4f221160443927b8f9020fad
     "metadata": {},
     "output_type": "execute_result"
    },
    {
     "data": {
<<<<<<< HEAD
      "image/png": "iVBORw0KGgoAAAANSUhEUgAAAeMAAAE6CAYAAAAlRjrfAAAAOXRFWHRTb2Z0d2FyZQBNYXRwbG90bGliIHZlcnNpb24zLjUuMiwgaHR0cHM6Ly9tYXRwbG90bGliLm9yZy8qNh9FAAAACXBIWXMAAAsTAAALEwEAmpwYAAA1uklEQVR4nO3deZRcdZ3//+e7ll7SnXRn6SxkIQmEPRAghiCriBjAAfSrAqKig2YYl9Fh1C8qgoIio7/vqDMDKirjiCMgOCpCAEFABA0kYQsJSchGSCBJZ096reXz+6OWrqqurbur61ZVXo9z+uTWvbduffrmnH7V53M/iznnEBEREe/4vC6AiIjIwU5hLCIi4jGFsYiIiMcUxiIiIh5TGIuIiHhMYSwiIuIxT8PYzO4ws+1m9koR555pZs+bWdjM3p+yf46Z/c3MVpjZy2Z26fCWWkREpLS8rhn/HFhQ5LmbgI8Bv8rY3wl81Dl3bPxa3zez1hKVT0REZNgFvPxw59xTZjY9dZ+ZHQbcCrQRC9pPOudWOec2xo9HM66xJmX7TTPbHn/vnmEtvIiISIl4GsY53A5c7Zx7zcxOAW4DzinmjWY2D6gD1g1j+UREREqqosLYzJqBtwP3mllid32R750E3Alc6ZyLFjpfRESkUlRUGBN7hr3HOTdnIG8ys1HAg8BXnXOLh6NgIiIiw8XrDlxpnHP7gA1m9gEAizkh33vMrA74LfAL59x9ZSimiIhISZmXqzaZ2V3A2cA4YBtwA/A48ENgEhAE7nbO3WhmbyMWuqOBbmCrc+5YM/sw8F/AipRLf8w592K5fg8REZGh8DSMRUREpMKaqUVERA5GCmMRERGPedabety4cW769OlefbyIiEjZLVu2bIdzri1zv2dhPH36dJYuXerVx4uIiJSdmb2ebb+aqUVERDymMBYREfGYwlhERMRjCmMRERGPKYxFREQ8pjAWERHxmMJYRETEYwpjERERjymMRUREPKYwFhGRqrCvO8Tzm3Z7XYxhoTAWEZGqsPAXS3nfbX+lOxTxuiglpzAWEZGqsPLNfQAKYxEREa/UB/0AdIeiHpek9BTGIiJSFfxmAESc87gkpacwFhGRquCLZTHRqMJYRESk7F7YtBtL1IxrMIwDXhdAREQkn4df2crVv1yWfK1mahERkTLbuLMj7XVnj3pTi4iIlFVmRfjynyz2piDDSGEsIiIVzZGexgd6wh6VZPgojEVERDxWMIzN7A4z225mr+Q4foWZvWxmy83sr2Z2QumLKSIiB6sa7K/VTzE1458DC/Ic3wCc5ZybDdwE3F6CcomIiBw0Cg5tcs49ZWbT8xz/a8rLxcCUEpRLREQkqw+cXHsxU+pnxlcBD5X4miIichBzGe3UNTjnR+km/TCzdxAL49PznLMQWAgwbdq0Un20iIjUsMxnxtEafIhckpqxmR0P/BS42Dm3M9d5zrnbnXNznXNz29raSvHRIiJSwVZt3cdfXmsf0jUyo7cWw3jINWMzmwb8L/AR59yaoRdJRERqxYLv/wWAjbdcWLJrHpRzU5vZXcDZwDgz2wzcAAQBnHM/Aq4HxgK3xSfxDjvn5g5XgUVEpPp09IRpqh9c/S+zIlyDFeOielNfXuD4J4BPlKxEIiJSc8KR0iVoLdaMNQOXiIgMu1A0Ouj3Zk6HqVWbREREBmEoNeOecHqQZw51qgUKYxERGXahyOBrxh0ZC0OomVpERGQQwkMI0Mz31mAWK4xFRGT4DaVmHM54by2OM1YYi4hISb25p4vfvbAlbd/QwrgvfI+f0lKTzdQlmw5TREQE4PKfLOb1nZ2cP3tict9QOnDVB/3J7Zc37x1S2SqVasYiIlJS2/f1ALGOVj6L7QsPYWhTajP1yEFOHFLpFMYiIlJS/ngCh6Mu2dlqKC3LqU3c9cFYbO3vDg3+ghVIYSwiIiVl8dpwJKVpOjqENA6lXGfHgV4AVm/dP+jrVSKFsYiIlFRqzThhKLNm9Wbp/JUI/FqhMBYRkZLyx5OyqzeS3DeU0UiZQ5sA/uuZjYO/YAVSGIuIyLA4/wdPJbeHMhwplKUn9gMvvzXo61UihbGIiAyLjpSacSTqWNd+YFDXSTRTHz6+uSTlqkQKYxERKalsM2T98Ml1vPP//ZmVb+4b8PXCkShnzBrHY9ecVYriVSSFsYiIlNTuzv7DjpZt2g3Apl0dA75eKOII+ms7rmr7txMRkYqQ6NTVO4iZuEKRKAFfjXWfzlCbU5mIiEhFSTz39Q9wTFJPOMKqrftZlWVcsXMOq5ExTqoZi4hI2Qy0tXlvlibvhJdqaJ5qhbGIiJTEmm37Oeu7T+Q9xzfAmmy+mm9dDT1Hrp3fREREPHXrE2t5fWdn3nP8A3z2m3n6TRcfm9weyuITlUZhLCIiJVHMvB5/W7dzQNfMvOT8mWOT2+EaWtdYYSwiIiVRzGIQP316w8CumTFmedaEkcltN5Q5NiuMwlhEREoi22QfQ75mvCX6M+84vN+xGspihbGIiJTGUOafziUxhebUMY39jtVQK7XCWERESqMzZS7qhI+eemja6w+cPGVA17zip88CYPTv+DUcNXGvKIxFRKQkesP9eze/46jxaa8Hu9jDfc9v7revhrJYYSwiIqXh+vV9pt80loNtWt6UZciUOnCJiIgUIXP6y8E2LV//d8f026dnxiIiIhmy5awvo2Y82Npsa2Ow376D6pmxmd1hZtvN7JUcx83M/t3M1prZy2Z2UumLKSIi1Shzxq3B1mazTYtZO1FcXM3458CCPMfPB2bFfxYCPxx6sUREpNpkC8fMuagHWpk9fkoLALPj/wJ87T2xJuuDqmbsnHsK2JXnlIuBX7iYxUCrmU0qVQFFRKR69a8ZDyxAT5o2mlENAZrr+1b8nXvoaEAduDJNBt5Ieb05vk9ERA4i2cIxc6GHgQaoc67fc+dEbbuGsri8HbjMbKGZLTWzpe3t7eX8aBER8UBmYA70mXHEuX5N3YmX6k2dbgswNeX1lPi+fpxztzvn5jrn5ra1tZXgo0VEpFJky8bMfcU0U7/0xh6mX/sgK97cS9T1r133hXHtpHEpwvh+4KPxXtXzgb3OubdKcF0REalymc3SxdRmH3plKwBPrm7HOdevJ3VfM3XthHGg0AlmdhdwNjDOzDYDNwBBAOfcj4BFwAXAWqAT+PhwFVZERCpXtmzM3FVMgCZqvH6fEY32nzgk8bKGsrhwGDvnLi9w3AGfLlmJRESkZmQGZjH5mVgX2W9G1Ll+zdSJmrGeGYuIiGTI+sw4JY3N+oI2n0j8PWaxwO3fTB37V8+MRUREijCxpSG5HfBZUbXZZM3YZ/GhTZlnxNJ4b1eI0255nG37uktUWu8ojEVEpOQ+e87hLPnquUwZPSK5z++zomqzkdRnxlmGNiVqxtf97hW27Oni7bc8XrqCe0RhLCIipZEStEG/j7aR9WmHAz5fUR24IvFlkX1m8aFN2XtTJ7zjyPQ1k6uRwlhEREoucxpMgIB/4M3UUefIXCMi83VLlhWdqo3CWERESiI1Zzft7Ox3PNE7upANOzuS57siasZZFnSqOgpjEREpue5wpN++qHNF1Yyf2xBbm6g+6Ms6tCkzfLNUwquOwlhEREoitdKbrZl6d2eIu57blPcaSzb2LRJY5/dl7cCVa0auaqYwFhGRkgsMsrr6gR/9LbkdddnHGYfC0bTXmcerUcEZuERERIrhUp4aZ6sZz5naysiG4mMn6hzRaP9m6sxe2jWQxaoZi4hI6WVrOi52nHFC1Dl6I1HqA+lR1VSfHui1MBGXwlhEREpi696+mbBSQ/exa87ie5eegN+MyAAmlN55oJeeUJT6gD/vecVMsVnpFMYiIlISOw70JrcnjmpMbh8+vpn3njgFnw+i0WzvzO7GB1by3MZdBAP5oyqSp2rsnBvQFwCvKIxFRKTkPjB3Sr99hZqp93eHsu4PFugMdt+yzTmPffG+lznsK4vyvr8SKIxFRKTkDmlt7LfPZ5a3FvvZu17Iuj9bZ7BM3aH+45qhL6grvSlbYSwiIkO2fX/hlZP8Pssbiqve2p91f8BfOIw7esJ5j2ebhKSSKIxFRGTIfvfCloLn+AvUjIOB7KHr77+GIp84fUba6+5w/ofR9yx5o2D5vKQwFhGRIRtRV3j8sM9nyRWZsgn6s0dStorxB+ZOTXudq5k64Rt/WFmwfF5SGIuIyJCNaaoreI7f8jdT18XDeERd+lCmbDXjIyeOTHtdKIwrncJYRESGrJiZtfy+/M3Uq7bGnhlnBnuuqTXvvGoe/3j2YQB0hwYwZqoCKYxFRGTIfvjkuoLn+Ap04ErIzGt/jg5cZ8xq44xZ4wDoLfDMeM7U1oKf6yWFsYiIDNlf1+0seI7f8k/QkTCqMZj2Ot+iE4F4E3auiT2OijdnH3vIqIKf6yWFsYiIlEWsA1fhMA5n9PLKN844MewpnGNqr0SnsIHMie0FhbGIiJRFoQ5cCeGMc/x5lmVK1JrDkdh7nHN09fZ15grFg73Sp8RUGIuISFkU6sCVkPn8N9czY+hrpk4E+A/+9BpHX/8wf17TTjgSTQnjwZa6PBTGIiJSFvnGGbuUkJ7Z1sRtV5yUfJ33mXFGM/X3H3sNgCvveI5bHlrF7s5Qv+tXouJXeRYREclhxrgmNuzo4Bd/P48TcvRc9lvuhSJCkb79t11xEiMb+jpxZRtn3HcsFsaL1+/kwtmT0o49vXYHuztjK0kVUyP3kmrGIiIyZIlVmubNGENLRm/oBH+eDlypIZ0axJC/ZhyMB/UvF2+iN6PafaAnnBwm9dSa9vy/gMcUxiIiMmSJ0MvT1wpfng5cmZ22UuXrTZ36PDlz4o/UWbkSzdWVSmEsIiJDlngm68uTxn5f7ubiSLyZ+qiMaS5j78tXM+479sauzrRj1TQrV1FhbGYLzGy1ma01s2uzHJ9mZk+Y2Qtm9rKZXVD6ooqISKVKVGzzLXaYb5xxogPWh06Z1u9YvnmnU4P6+4+tKfp9laZgGJuZH7gVOB84BrjczI7JOO064NfOuROBy4DbSl1QERGpXIkKb76acX3AT28kmrWpOhHS2WrB+7tzr1UcSOncldoJDPo3fVdyj+piasbzgLXOufXOuV7gbuDijHMckJhrrAV4s3RFFBGRSpfogJXvmfHI+gDOwYHe/uGaCM5snbVyLa0IfUObADbs6Mhbxp4C81d7qZgwngykrsq8Ob4v1deBD5vZZmAR8NlsFzKzhWa21MyWtrdXds82EREpnkuGcb5nxrFj+WvG/WMpX402tSa9KeOZcULbyPq0z6hEperAdTnwc+fcFOAC4E4z63dt59ztzrm5zrm5bW1tJfpoERHxmgPy9LMC+mrN2bL19Z2xIM1WM843r3Tq+TPbmrKeMz4exrs6evMX0EPFhPEWYGrK6ynxfamuAn4N4Jz7G9AAjCtFAUVEpPJFncv7vBj6Ondli9YP/+xZIPsz43wV2tTz17dnb6ZOvP+M7zyRt3xeKiaMlwCzzGyGmdUR66B1f8Y5m4B3ApjZ0cTCWO3QIiIHiajL33kL+pqw8zU7D7RmbGZ8ZP6heT93696uvMcrQcEwds6Fgc8AjwCvEus1vcLMbjSzi+Kn/QvwSTN7CbgL+Jir5G5rIiJSUlHn8o9rIqWZOs852WrG+WbgArjpkuNyNlFD+sIToQpdMaKouamdc4uIdcxK3Xd9yvZK4LTSFk1ERKqGK+KZceLUIpudEyaMaij48fUBf85jM9uaWb5lLwBb93YzdcyIgtcrN83AJSIiQ1bUM+NEM3WeunG2MP74aTMKfn4wxzKLI+r8abXhq3+5rOC1vKAwFhGRQXHOseNADxB7ZlygYpzWm3rx+p1s39fd75zUSTwmjmrgw/On5Z0OMyHXFwG/GV0pM3FtLDAW2SsKYxERGZRfPruJud98jNe27ccV0YHrz6tj/XqfXL2dy25fzIIf/KXfOanBu/gr7+Sbl8wuqiy58trvN1pTVpHq6I1U5DSZCmMRERmUZ9fvBGDlW/uIOpd39i2AF9/YA8ALm2L/Zhv3G8jR3FxIvppxYtKPhP96ZuOgPmM4KYxFRGRQ6gKxCAlFHM45fAWak/NN+pFQqHY90Pf5fcbN753NJXMOSe4LV2CPaoWxiIgMWVHPjCncgWuQWUyWWTQB6OqNMH5UA7f8n+MHd+EyURiLiMiQOYrpTR3799dLN+e+ziBnqMj12ft7wnmPV4qixhmLiIjk8tIbe/jl4k0FzysmDgc7X1SusE00pad2DNvdGRrUZwwn1YxFRGRI7lz8elHn5VrRKTWABzt1Y66KbzAewqmPs3vC6k0tIiKSJnVpw2zLKxaj2AlHoDKnxFQztYiIDIqlNDzPmzGm6Ek/MoUifQE8uqluUGXJVdv93Lmz+u07auKoQX3GcFLNWEREhiwUiSafz+aSq/YaisZqqhfMnsgRE0YO6vM7evqH8fqbL2DhmYclXz92zZkAjBlk4A8nhbGIiAxZOOIKrq4UydEEHY7XjOdNHzPoz+/sDffblznuuc4fW0wiPMim8OGkMBYRkSFbvmUvB3r6B2KqLXuyryucmIQjWKBmnc+69vQ5p4/MUsP2x2f3Guxz6eGkZ8YiIlISSzbuznv8tMPH8szanf329ybCONfMHQPwvhMnc9Mlx2WdVtMfbyZXzVhERA5a/3H5SVn3J5qpBzsvdapvXHwsTfWBrOsbJ8YaRwY7s8gwUhiLiEhZjKjrH5AA4XgHroB/6JGULYQTEs+0Q+HKG9qkMBYRkZK45l1H5D2ea2hTbzhWU60rQc04mOcajfEvA11aQlFERGpF5oIP/gK9qbMNbfr5Mxv6asYleGaca5YvgPqAD5/FFo+oNApjEREpiUKzYGU7/vU/rExO+lGKZ8b5mBkBv08duEREpHYVGmec6/C+rtjCDXUleGZcSMBnFbmesYY2iYhISWROspEpVxPydb97BRhaB67fffo01rcfKHie32cVWTNWGIuISEkMtpU5MRnIUJqp50xtZc7U1oLnBf2+nDOBeUnN1CIiUhL+ITYzl6OZulJrxgpjEREpCX+BDlwAf732nJzHhrsDF8TKGIlW3jNjhbGIiJTEro6egucc0tqY81gphjYV4jOowAm4FMYiIjJIGaH2xq7sC0EUK9+EHaViZlRgK7XCWEREBidzjuciWqnzCpbhmbEZuAqsGiuMRURkUDJ7JRcbxnd9cn7W/eV4Zuwzy6zQV4SiwtjMFpjZajNba2bX5jjng2a20sxWmNmvSltMERGpNJkVzBF1xY2WPfWwsSw8c2a//aVYQrEQn0G0AmvGBe+cmfmBW4F3AZuBJWZ2v3NuZco5s4AvA6c553ab2fjhKrCIiFSGB5e/lfb6U2cfVvR7Q1lmwQoGytFMXb3PjOcBa51z651zvcDdwMUZ53wSuNU5txvAObe9tMUUEZFKN6apruhzs028UWg6zVJIPDP+14dXcduTa4f984pVTBhPBt5Ieb05vi/VEcARZvaMmS02swWlKqCIiFSHfCsmZUosDpGqHB24fGY4Bz98ch3feXj1sH9esUr1mweAWcDZwOXAT8ysNfMkM1toZkvNbGl7e3uJPlpERKpNtsUaCi3BWAr7ukJpzeuPrdw27J9ZjGLCeAswNeX1lPi+VJuB+51zIefcBmANsXBO45y73Tk31zk3t62tbbBlFhGRKje2ud6Tz92+P31ikkerKIyXALPMbIaZ1QGXAfdnnPM7YrVizGwcsWbr9aUrpoiIVJpxzfU0BAfXwPr5c2dx48XHsvqb3j7VrJR5qgveRedcGPgM8AjwKvBr59wKM7vRzC6Kn/YIsNPMVgJPAF90zu0crkKLiIj3Aj6jMegf1Hsbgn4+eup06gODe3+pVMowp6IGhTnnFgGLMvZdn7LtgGviPyIichAIRx2+oU675bFKWU5RM3CJiMigRKJRZk9p8boYQ5I5padXFMYiIjIokahj+tgmytAJetiMG8DY6OFU3NxlIiIiGSJRR8BnPHPtObTvL7x8YiVqLHIKz+FWGaUQEZGqE446/D5jUksjk1pyr1NcyNVnHcbqrftKWLLi9YQjnnxuJoWxiIgMStS5kkzUce35R5WgNIPTG+4/+YgX9MxYREQGzDmXrBlXkwc+e3raa4WxiIhUrZ5wFOdi44WryXGTW1h/8wV8+fyjGD0iSG+WaTm9oDAWEZEB6+qNPWsd7KQfXvL5jH846zDaRtbTE1IYi4hIleoMxcJ4RF31hXFCXcCnmrGIiFSvZM24msPY79MzYxERqV6JMB5RIeN0B6MuoDAWEZEq1tkbBqq9mdpPj5qpRUSkWiWeGVd7M3VPqDIm/VAYi4jIgPU1U1dvGAd8VjFLKCqMRURkwDoTYRys3mfGfp9RISsoKoxFRGTgXtu2H6juZmoziFZIGiuMRURkwB59dRsAIxuqu2as9YxFRKRqnTmrDai+6TBT+c2IqGYsIiLVKuocrSOCXhdjSHw+UzO1iIhUr3DUEaiyFZsy+Qx14BIRkeoVrcLlEzNle2bsnOML977EX9ftKGtZFMYiIjJg4ajDb9Udxj7r30y9ryvMfcs286GfPFvWslRvNzgREfFMJOrw+6s7jDNrxpt3d3LLQ6s8KYtqxiIiMmDdoQgNgertSQ39a8Y//vN6Hnj5LW/K4smniohIVdvV0VvVw5ogHsbxLN68u5M7F7/uWVnUTC0iIgOyZtt+nt2wy+tiDJnfR3Kc8e9ffNPTsqhmLCIiA7J2+wGvi1ASvpRnxm0j69OO1QXKG48KYxERGZBqH9KUsHVvN73hKM456jPCt9yTgSiMRURkQHxVPqQpIdE0vWFHR9q0mJfOnVr2OasVxiIiMiCJKP78ubM8LcdQJWr49UE/4Uhf+E5sacC52AQg5VJUGJvZAjNbbWZrzezaPOf9HzNzZja3dEUUEZFKEo5GAXj3sRM9LsnQfOuS4wB4/vXdfOk3Lyf3J0J6+/6espWlYBibmR+4FTgfOAa43MyOyXLeSOBzQHmnLRERkbLqjdcig/7qblwNxMv/2bteSNv/6MrY8pCn3PynspWlmDs5D1jrnFvvnOsF7gYuznLeTcC/At0lLJ+IiFSYcCRWMw5W/Qxc2fdv3Vf+GCsmjCcDb6S83hzfl2RmJwFTnXMPlrBsIiJSgULxMA5Uec04W0e0b15yHI3xyUyOnjSqfGUZ6gXMzAf8G/AvRZy70MyWmtnS9vb2oX60iIh4IJRspq7umnG2ML70bVP5zw+dCMD4jLHHw1qWIs7ZAkxNeT0lvi9hJHAc8KSZbQTmA/dn68TlnLvdOTfXOTe3ra1t8KUWERHPJJupfdVdM359Z0e/fUG/j+OntDJxVAN/XlO+SmMxd3IJMMvMZphZHXAZcH/ioHNur3NunHNuunNuOrAYuMg5t3RYSiwiIp5K1IwDVV4zHj+qIeexxHPjcg1vKhjGzrkw8BngEeBV4NfOuRVmdqOZXTTcBRQRkcoSiiY6cFV3zfjw8c0Fz+kJR8tQkiIXinDOLQIWZey7Pse5Zw+9WCIiUqlC4doY2hQpYsrL3ki0LKtTadUmEREpWjTqCEWimFX/HNWps25lWnbduezrDjOqIViWsiiMRUSkaDO/EmskravyWjFANON58L1Xn5rcHttcz9jm8vWmVhiLiMiAZQZZNZo9pYUJo+q59UMncfKhozEPF8BQGIuISFH+uGJrcjtc5iUGh8OohiDPfuVcr4sBaNUmEREp0sI7lyW3a6GZupLoboqIyID1Rsoz5OdgoTAWERHxmMJYREQGbEGVr2VcaRTGIlLxPvOr57l36RuFT5Rh05syE9X7TprMrVec5GFpao/CWEQq3gMvv8UX73vZ62Ic1Dp6wsnt+oC/6if8qDQKYxERKagrFEluK4dLT2EsIiIFdfbGwri5PsAXzjvS49LUHoWxiFS0ci1hJ/l1xcP4e5fOYXRTncelqT0KYxGpaLUw01Mt+P2LWwCoDyg2hoPuqohUtHwr60j5/PTpDQDs7Qp5XJLapDAWkYoWjmqmp0owa3wzAGcd2eZxSWqTwlhEKto7/r8nk9vv/t5TyeZSKZ8Vb+7lte0HAMq2vu/BRmEsIhVtx4He5Pbqbfv5/D0veleYg9TGHZ1eF6HmKYxFpKqoc7XUIoWxiIjk1VTvB+Cfzjnc45LULoWxiIjklWiNOOfoCd4WpIYpjEVEJK/E2sUBzYM5bBTGIiKS100PrASgpVE9qYeLwlhERHLq6AmzeXcXAG0j6z0uTe1SGItIRZswSgHgpf3dfUsnNgT9HpaktimMRaSiNdUF+u2Lar7qsvna718B4P0nT/G4JLVNYSwiFS2SZWDx39bv9KAkpRGNuqpaiSox49aNFx/rcUlqm8JYRCpa1DkuOuGQtH0HesI5zq58M7+yiI/87Dmvi9FPNOroCUf67R9R52f0iCAjsrRQSOkojEWkokWjEPSn/6mq9pWcnl67gz+89KbXxUjzpd+8zJHXPdzvi05Hb1hBXAYKYxGpaJGoIyOLa2Ilp8/e9YLXRUj67QubuW/ZZgCOu+GRtC8K+7vDNNcrjIdbUWFsZgvMbLWZrTWza7Mcv8bMVprZy2b2JzM7tPRFFZGDUdQ5fJY+2cQX73vZo9KU3rcfepVn1u7w7PM7e8P88z0vpe17YtV2ILZa06Mrt1EXUL1tuBW8w2bmB24FzgeOAS43s2MyTnsBmOucOx64D/hOqQsqIgenqHP4fMZtV5zER0+Nfc/vDVd/zRhg+ea9/PjP67nip896VoY393T123f0pFEAfHvRKgDWtR8oa5kORsV83ZkHrHXOrXfO9QJ3AxennuCce8I5l1hjazGgPvAiUhKRqMNvxgWzJ/G5d87yujhDktmL+vlNuz0qSZ8nVrUntz919mEAfGvRq0y/9kF88ekvH/7cmZ6U7WBSTBhPBt5Ieb05vi+Xq4CHhlIoEZGEqIPElMjBlObSxFjjzt4we7tCXhRtwBJzPCeMbqpLbkc8Gjv9879uBOC2K07iSwuOojFlYo+n1sSCetrYEV4U7aBS0gcBZvZhYC7w3RzHF5rZUjNb2t7enu0UEZE0oUiUQLwHV11KT66bHlzJouVvccz1j3Dxfz7tVfEGpLMnfejQF+/te1Z71X8vYXdHb7mLxHtPjNWtLpg9CYCuUHoZR6rzVlkUE8ZbgKkpr6fE96Uxs3OBrwIXOed6sl3IOXe7c26uc25uW1vbYMorIgeR/d0hOnsjyTmRU1cN+q9nNvKp/3kegI07O7O+v9Js35/+p7En5dn3k6vbOfGmR7n1ibUDvu53Hl7FyTc9WvC8Ndv28/iqbWn7QtFozg5ak1oaePGG8wZcHhm4YsJ4CTDLzGaYWR1wGXB/6glmdiLwY2JBvL30xRSRg9G2fd1ALBQA/FW+hN/+7sLN6d99ZDW3P7VuQNe97cl17Ozo5duLXs16/KYHVvK7F7Zw3vee4u9/vpRXtuxNHguFXVqLw4nTWgH4xkXH8tg1Z1X9Pa8WBcPYORcGPgM8ArwK/No5t8LMbjSzi+KnfRdoBu41sxfN7P4clxMRKdrOA7Fm27FNsZqxmXHD38UGczRW4aIF++Jh/B+Xn5j3vJvjvZiL0Z5S2/7xU+uznvOzpzfw+XteTL5+z388zU//Ejv3N89vTpvo47efOo2Nt1zIlW+fTpOaqMumqGfGzrlFzrkjnHOHOee+Fd93vXPu/vj2uc65Cc65OfGfi/JfUUSksMSKQSMb+kLh46fNYPzI+n41tnCk8oc7JX6faWPSO0R979ITktsTRzUkjz+7fifX/W453aH+01QmvO1bjw2qLN98MNZjulo6v9U6jeQWkYq1Zvt+ID2MIfbstf+0jX2B9dd1O5jx5QdZ+ea+4S/kACTKM7a5Lm3/RSfEOlFdOHsSc6a20hCM/Wm+9PbF/HLxJo762sNZr5fa7H3OUeMBkjNpJYSK+JLyjYu0CITXFMYiUrHufi42qrKYRe037OgA4PWdHXzoJ8/iHHz+nsqZchL6mpEntTRy98L5XHv+UTz5hbPx+4xl153LDy6bw4g6P529/WvCWzIm5+gORZj99T8mXy84biIAX7j3pbTxzKnN0wDvO2kyf/nSO5Kvr7vwaC6fN23Iv5sMjcJYRCrWkRNHEvAZI+PL+CVcGB+Gk+rT8Z7Vu1KGB63ZVhkzR63auo9/++Pq5Gu/z5g/cyxXn3UY08c1ATC2uZ6A30djnZ+u3gjr2g9w+uHjku+58o70lZ5+83xfDfinH53L5NbG5OvUXtoPvvxW2vs+cfpMpo4ZwcZbLmTjLRfyiTNmarrLCqCn8yJSsbp6Ixw3uaXf/geX9wXMR+Yfyp2LX2fLni72doXY3Vn+sbqFLPj+X5LbH3v79LznNgb97Ozo5Z3/788AzJ7cwvIte1m7Pf2LRepkXqOb6jh60sjk6/3dYRriHdzmzRjDcxt28b1LT+C9J2pyxEqlr0MiUrH2dYdoaQzmPefC4/tqyfO+9Rh/XJE+jvb3L/abFoG39nYlh00Nt9RhRACHtDbkPX9txjzQy7fs5YgJzWn7nHNc97tXkq+PmzyKEXUB/u2DsY5ge7v6vpCMrA9w7CGjFMQVTmEsIhVrb1f2MP7nc49Ibs+fOTa5PamlgbuXvBHfPwaAz939Yr/3n/rtxznl5j8lhxoNp/f8R/rsYIW+XFw855B++xJB+vArW4H0zmobb7mQ+kCsFpwYirR0Y9+c1/t7wtSrGbri6X9IRCrSn17dxus7O3l4xdZ+x6aOaczyDtKeLd/6oZMKfsbTr5V/6cIpo/PP8/zeE6fw0g3nce/Vpyb3TWyJdWC7+pfL+Od7XuRDP1kMwCdOn5H23mMPia225DNjb2eI5Zv3suz13cyZOrqUv4IMAz0zFpGKdMP9K4C+2bdSZSxvzEnTWnl+0x6WpzQJj22uZ8a4Jjbs6GD6tQ/ywGdP7/f8uX1/1pl7h8W45jqCfl9aTT6XlsYgb5s+hrFNdbzz6PHU+fsmOPntC33N7idOSw/ZxNjrqHOccGNfT+vjJo8aavFlmKlmLCIVp31/D5t3x4byPHbNWf2OL9+cPn74V5+cz+Xz+qbQ/+EVsVrx36U8T/7Xh2OzWqWOPV755j6iUceZ33mi3/jcUkgdC/3kF9/B3778zgFNL7nsa+/iO+8/gVMPyx7gJx+aHsa++LeU3Z3pze8TRuV/Ti3eUxiLSMVJnVUq6O//ZyoxCUiiZ3JD0J82tGdsc6xZ98PzD03uS0yfuXpbXxjfs/QNvv3Qq2za1ckXUlZQKpVdB/o6UjUPYWrJMU11fO/SE9K+mHzhvCOYMCp9/HWixSDxxSNh7nQ1U1c6NVOLSMWanmMd3UTtclzKTFapYZeYwWr8qAZufu9svvLb5fxx5TY++YulPLoyvbf1T/6yoe/zrn0QgHOPnsCXFhxJQ8DPpNaGrF8IihGJjz/69vtmD+r9qRKduMY11/Ph+dP4zDmz+p3jy2i/v2TOIXzyzJnJDl5SuRTGIlJRUueYjqQOpk1x1ekz2Hmgh79P6cD0wbdN5et/WAnEJgtJ+NAp0/jKb5cDpAVxYvxuNo+9uo3HXo2dO665jiVfPRfLfFBdhI54M/XoEfl7UA/E0uvOzXksM4y/ftGxtI6oy3G2VBKFsYhUlPYDfZ2qIpHsYdxUH+AbFx+Xtm9EXYDH/yXWjJtZEzxxWisvbNqTtm98jik2WxqDaYsn7DjQS1cowoi6gf+5TIT9Ia3Ze3+XWubjaK26VD30PyUiFSMadZz13SeTr3PVjHOZ2dacdf+v/+FUZn31oeTr33/6NI45ZBSX3PoM17zrCOZMbWXNtgOcMLWFgM/HjgM9HNLayD1LNvF/f7Oc7ft6mD5uYH8u39jVyZf/N1YjPyxHuUrNl5LGf/znMwfdvC7lpzAWkYpx1PUP05syr/JHT51ekusG/T7W3XwBP/rzOj40bxqjm2JNtw/+0xnJc05t7qspJ2qyiQUq7nhmAzdm1MTzuXnRq9weXxRicmtj2Wqoqc3Uh+Z43i6VSWEsIhUjNYjX33xBv/HEQ+H3GZ9+x+EDes9ZR8SWJRxIMZZs3JUMYoAb/u6YAX3mUKSu1lSnWnFVURiLiGeiUYejr3f0IS0NhKOO+65+e1qTq1f8PqOpzk9gAMH2rQdfTW7fdMlxvOuYCcNRtKwSi0NcPm/qoDqciXcUxiLimav+ewlPrG5nw7cvAGBPV4jL501jWgU1sXb0RvjZ0xv42nuKq+EmhlttvOXC4SxWVkG/z5PPlaFTGIuIJ17evIcnVrcD8D/PbsI5R2dvhKNShiVVkvuWbebkQ0czdXQjUUfaGsBPrWnnlJlj2NsVYs22A5p+UgZMYSwiZXf3c5u4Nt7TGEhbDvC8YyZ6UaSczGJrB2fO0PXMtecwubWRO/+2ka/9fkXasXOOGl/OIkoNUBiLSNm9uacruT2yIcD+7tjkGGfMGkdLCSfIKIXJrY3JebJTnXbL45x9ZBtPxmv3CUdPGsX3PjinTKWTWqHudiJSdlv2dAPwh8+czriUIUV3fOxtXhUpp8euOYtZ47OPE04E8XtPnMyPP3IyG759AQ997oyK+0IhlU81YxEpq3Akym+ej62QNHtKC6H49JcXzJ5YkZNUNAT93Hv1qcy58VEAVt20gEjUcaAnzILvP8Wnzj6cT5450+NSSrVTGIvIsHn1rX1c9fMl3LVwPoeObWLbvm6u/33s+fCJ01oBuO2Kk/jl4tf59vuO97Ck+bWOqGP5189jT2coOXyoqT7AC9ef53HJpFaYG+B0c6Uyd+5ct3TpUk8+W0TKI7EKUjb3LJzPKTOzr9MrUqvMbJlzbm7m/sprExKRmrDg+0/lPf626WPKVBKRyqcwFpGS27q3m1Vb9wNw8ZxDuPLUQ6lPGZe7/uYLKmKGLZFKoWfGIlJSb+zq5IzvPAHAqTPH8oPLTgRia+vO+PIirjp9hoJYJIPCWEQGpTsU4Zm1OxjVGGTuoaPZ3xNm085O/uHOZQDUB3zctXB+8nwzY93NF/Rbc1dEFMYiUkA4EuXf//QaW/d1s/DMmSx7fTdLNu7mvmWbc77nn945i2vedUS//X4lsUhWRYWxmS0AfgD4gZ86527JOF4P/AI4GdgJXOqc21jaokote2pNOx+94znqAz6e/r/n8OjKbXT0hJk+rompYxqZNX6k/pAP0L7uED98ch2bdnXyrqMnEPAb45rrmT62iYDf6OgJs6ujl7qAj0jUsbOjl617u9m4s4NQ2LGns5fdnb2s2XaALfEZs369tC+AxzbVccrMMSxavhWAU2aM4aI5h/DuYyemTeQhIoUVHNpkZn5gDfAuYDOwBLjcObcy5ZxPAcc75642s8uA9zrnLs13XQ1tkoSHlr/FP/7P83nPGdNUx66OXia3NjK2uY793WGOmjiSaWNGMGV0I12hCE+v3cnGHR001weIRB37ukP4zGiuDzCmqY6JLQ2MHlFHS2OQKaMbOaS1kbqAj55whIDPx1t7uxg9oo5RjUFGNgQY1RD7tz7gwzmSzzlDkSi94Sgj6vw5l6lzzhGJOsJRx+7OXgyLLcdX76cx2Pe+cCRKZyhCV2+E5Zv3srcrxKSWBjbt6mTFm/voDkVorPOzryvE4eObMTN6wlFCkSih+L+9kSi9YZcsVygSZdv+bla8uY/Bjlxsrg/Q0hhkdFOQ0SPqOPfoCTy+ajsNQR8Lz5zJ7MmtBP2GmbG3K0T7/m4OH1+ZCzyIVJJcQ5uKqRnPA9Y659bHL3Q3cDGwMuWci4Gvx7fvA/7TzMyVaRDzzgM9LHt9NwCpH5j+6a7f/lznuiznpp6f69cq6hpZPzvl3OxFTl4vW3mK+ez062b/vPRy9j/HOdjZ0cPyLfvo6g1zxISRNAT9RJ3DZ7Gw8fuMhoAfn0FvJEpPOBYQPeEIPaEoPZEoPaFYgPSEInSFIry8eS8A37zkOG64fwWRqOOyt03l7CPb6OyNEI46Hlu5jec37WbqmEbWbu9gx4EeNuzoSP2tGNtUx9zpo+kOxWZ0mj2lhahzHOgOs3VfN0+u3k5vOEpHb4SBqvP7qA/6kmVPCPpjv2/ExYI3GnVEnMsbgj6LzeoUikQJRXKfOLI+QDDg40B3OO0zE+UJ+o1gwBff9lEXiO/z+2gI+ll4xkzmTG2lNxLlsLZmgn4fS1/fRSgcxcwYUednbHMdvWGH32eMaaqjrbmeyaMbs7ZCXPn26VnL2dIYpKVR0z+KDEUxYTwZeCPl9WbglFznOOfCZrYXGAvsSD3JzBYCCwGmTZs2yCL3t2rrfhbGO43I8Ar4jHA0FiDr2jvoCUXwmRF1sRAKR1zyuFmsE099wE9dwEd9wBf/15/cbmkM8ul3HMbHT5vBuOZ6Pjz/0Kyf+8G5U5Pbzjl6wlFWvLmXE6a0srOjl0A8TIpZUL07FOGtvd1s2HEAMyPgM0KRKBNGNdAdirCvK8y+7hD7ukLJ2um45noizlEfiNVs64M+unoj9EaidPVG8PuMgN/wx7+UpH45aWkMYgbRqONAT4TO3jBdvRECfh8j6vyMqPPTWOfnkNZG2prr2dcdYvzIBmaMa0qG4p7OXgL+2D0M+GzQC8cfWaHLE4oc7Mragcs5dztwO8SaqUt13ROmtvLAZ09Pvk79O2VY9v1W4Dj9z009kvtcy7G/f5ly/T1NL2f/6xX1+/Uvcs7PHkj5m+oDBP2xZ4y5nuFGoo6oc0MKjXzMjIagn5MPjU0aMWFUw4De3xD0M2NcEzPGNZW8bMOldUSd10UQkWFUTBhvAaamvJ4S35ftnM1mFgBaiHXkKovm+gDHTW4p18cJ+XvF+n2Gn9KHsIhIrSpmBq4lwCwzm2FmdcBlwP0Z59wPXBnffj/weLmeF4uIiFS7gjXj+DPgzwCPEBvadIdzboWZ3Qgsdc7dD/wMuNPM1gK7iAW2iIiIFKGoZ8bOuUXAoox916dsdwMfKG3RREREDg5aKEJERMRjCmMRERGPKYxFREQ8pjAWERHxmMJYRETEYwpjERERjymMRUREPFZwCcVh+2CzduD1El5yHBkLU8iw0v0uL93v8tG9Lq+D7X4f6pxry9zpWRiXmpktzbZGpAwP3e/y0v0uH93r8tL9jlEztYiIiMcUxiIiIh6rpTC+3esCHGR0v8tL97t8dK/LS/ebGnpmLCIiUq1qqWYsIiJSlWoijM1sgZmtNrO1Znat1+WpVmZ2h5ltN7NXUvaNMbNHzey1+L+j4/vNzP49fs9fNrOTUt5zZfz818zsSi9+l0pnZlPN7AkzW2lmK8zsc/H9ut/DwMwazOw5M3spfr+/Ed8/w8yejd/Xe8ysLr6/Pv56bfz49JRrfTm+f7WZvdujX6nimZnfzF4wswfir3Wv83HOVfUP4AfWATOBOuAl4Bivy1WNP8CZwEnAKyn7vgNcG9++FvjX+PYFwEOAAfOBZ+P7xwDr4/+Ojm+P9vp3q7QfYBJwUnx7JLAGOEb3e9jutwHN8e0g8Gz8Pv4auCy+/0fAP8a3PwX8KL59GXBPfPuY+N+YemBG/G+P3+vfrxJ/gGuAXwEPxF/rXuf5qYWa8TxgrXNuvXOuF7gbuNjjMlUl59xTwK6M3RcD/x3f/m/gkpT9v3Axi4FWM5sEvBt41Dm3yzm3G3gUWDDsha8yzrm3nHPPx7f3A68Ck9H9Hhbx+3Yg/jIY/3HAOcB98f2Z9zvx/3Af8E4zs/j+u51zPc65DcBaYn+DJIWZTQEuBH4af23oXudVC2E8GXgj5fXm+D4pjQnOubfi21uBCfHtXPdd/x8DFG+WO5FYbU33e5jEm01fBLYT+9KyDtjjnAvHT0m9d8n7Gj++FxiL7nexvg98CYjGX49F9zqvWghjKRMXaztS9/sSMrNm4DfA551z+1KP6X6XlnMu4pybA0whVsM6ytsS1SYzew+w3Tm3zOuyVJNaCOMtwNSU11Pi+6Q0tsWbQ4n/uz2+P9d91/9HkcwsSCyI/8c597/x3brfw8w5twd4AjiVWHN/IH4o9d4l72v8eAuwE93vYpwGXGRmG4k9NjwH+AG613nVQhgvAWbFe+rVEesAcL/HZaol9wOJHrpXAr9P2f/ReC/f+cDeePPqI8B5ZjY63hP4vPg+SRF/JvYz4FXn3L+lHNL9HgZm1mZmrfHtRuBdxJ7TPwG8P35a5v1O/D+8H3g83lJxP3BZvAfwDGAW8FxZfokq4Zz7snNuinNuOrG/x487565A9zo/r3uQleKHWE/TNcSeAX3V6/JU6w9wF/AWECL2fOYqYs9u/gS8BjwGjImfa8Ct8Xu+HJibcp2/J9bZYi3wca9/r0r8AU4n1gT9MvBi/OcC3e9hu9/HAy/E7/crwPXx/TOJ/YFfC9wL1Mf3N8Rfr40fn5lyra/G/x9WA+d7/btV8g9wNn29qXWv8/xoBi4RERGP1UIztYiISFVTGIuIiHhMYSwiIuIxhbGIiIjHFMYiIiIeUxiLiIh4TGEsIiLiMYWxiIiIx/5/OtU31BPJPKoAAAAASUVORK5CYII=\n",
=======
      "image/png": "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\n",
>>>>>>> 6c593edfd61dfedc4f221160443927b8f9020fad
      "text/plain": [
       "<Figure size 576x360 with 1 Axes>"
      ]
     },
     "metadata": {
      "needs_background": "light"
     },
     "output_type": "display_data"
    }
   ],
   "source": [
<<<<<<< HEAD
    "plt.figure(figsize=(8,5))\n",
    "market_cap_usd[\"Market Cap/v\"].plot()"
=======
    "plt.figure(figsize=(10,6))\n",
    "fees[\"TFvalue\"].plot()"
>>>>>>> 6c593edfd61dfedc4f221160443927b8f9020fad
   ]
  },
  {
   "cell_type": "code",
<<<<<<< HEAD
   "execution_count": 20,
=======
   "execution_count": 77,
>>>>>>> 6c593edfd61dfedc4f221160443927b8f9020fad
   "metadata": {},
   "outputs": [
    {
     "data": {
      "text/plain": [
       "<Figure size 1296x576 with 0 Axes>"
      ]
     },
<<<<<<< HEAD
     "execution_count": 20,
=======
     "execution_count": 77,
>>>>>>> 6c593edfd61dfedc4f221160443927b8f9020fad
     "metadata": {},
     "output_type": "execute_result"
    },
    {
     "data": {
      "text/plain": [
       "<Figure size 1296x576 with 0 Axes>"
      ]
     },
     "metadata": {},
     "output_type": "display_data"
    }
   ],
   "source": [
    "plt.figure(figsize=(18,8))\n",
    "#stock_to_flow[\"Stock-to-Flow Ratio/o/ratio\"].plot()"
   ]
  },
  {
   "cell_type": "markdown",
   "metadata": {},
   "source": [
    "# TO DO\n",
    "MAKE VISUALIZATION AS IN THE WORD DOCUMENT\n",
    "\n",
    "CLEAN DATA\n",
    "\n",
    "IMPORT PRICE BTC\n",
    "\n",
    "CONSIDERING OTHER INDICATORS..."
   ]
  },
  {
   "cell_type": "code",
   "execution_count": null,
   "metadata": {},
   "outputs": [],
   "source": []
  }
 ],
 "metadata": {
  "kernelspec": {
   "display_name": "Python 3 (ipykernel)",
   "language": "python",
   "name": "python3"
  },
  "language_info": {
   "codemirror_mode": {
    "name": "ipython",
    "version": 3
   },
   "file_extension": ".py",
   "mimetype": "text/x-python",
   "name": "python",
   "nbconvert_exporter": "python",
   "pygments_lexer": "ipython3",
   "version": "3.8.8"
  }
 },
 "nbformat": 4,
 "nbformat_minor": 4
}
