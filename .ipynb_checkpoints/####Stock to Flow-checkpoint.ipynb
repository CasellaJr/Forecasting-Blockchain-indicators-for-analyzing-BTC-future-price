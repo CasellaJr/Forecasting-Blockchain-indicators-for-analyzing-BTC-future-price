{
 "cells": [
  {
   "cell_type": "code",
   "execution_count": 1,
   "metadata": {},
   "outputs": [],
   "source": [
    "import pandas as pd\n",
    "import numpy as np\n",
    "import seaborn as sns\n",
    "import matplotlib.pyplot as plt\n",
    "import datetime\n",
    "\n",
    "#Statistics\n",
    "# Statistics\n",
    "import pmdarima as pm\n",
    "from statsmodels.tsa.statespace.sarimax import SARIMAX\n",
    "from statsmodels.tsa.api import ExponentialSmoothing, SimpleExpSmoothing\n",
    "from statsmodels.tsa.seasonal import seasonal_decompose\n",
    "from statsmodels.tsa.stattools import adfuller\n",
    "from statsmodels.stats.stattools import durbin_watson\n",
    "from statsmodels.graphics.tsaplots import plot_acf, plot_pacf\n",
    "from scipy.special import inv_boxcox\n",
    "from scipy.stats import boxcox\n",
    "from scipy.interpolate import interp1d\n",
    "\n",
    "from sklearn.metrics import mean_absolute_error\n",
    "from sklearn.metrics import mean_squared_error\n",
    "from sklearn.metrics import r2_score\n",
    "\n",
    "from dateutil.parser import parse \n",
    "import pickle"
   ]
  },
  {
   "cell_type": "markdown",
   "metadata": {},
   "source": [
    "# READ CSV AND DESCRIPTION OF SERIES\n"
   ]
  },
  {
   "cell_type": "code",
   "execution_count": 2,
   "metadata": {},
   "outputs": [
    {
     "data": {
      "text/html": [
       "<div>\n",
       "<style scoped>\n",
       "    .dataframe tbody tr th:only-of-type {\n",
       "        vertical-align: middle;\n",
       "    }\n",
       "\n",
       "    .dataframe tbody tr th {\n",
       "        vertical-align: top;\n",
       "    }\n",
       "\n",
       "    .dataframe thead th {\n",
       "        text-align: right;\n",
       "    }\n",
       "</style>\n",
       "<table border=\"1\" class=\"dataframe\">\n",
       "  <thead>\n",
       "    <tr style=\"text-align: right;\">\n",
       "      <th></th>\n",
       "      <th>Timestamp</th>\n",
       "      <th>Stock-to-Flow Ratio/o/daysTillHalving</th>\n",
       "      <th>Stock-to-Flow Ratio/o/ratio</th>\n",
       "      <th>Stock-to-Flow Ratio/o/price</th>\n",
       "    </tr>\n",
       "  </thead>\n",
       "  <tbody>\n",
       "    <tr>\n",
       "      <th>8</th>\n",
       "      <td>2010-01-01</td>\n",
       "      <td>1053</td>\n",
       "      <td>0.008259</td>\n",
       "      <td>NaN</td>\n",
       "    </tr>\n",
       "    <tr>\n",
       "      <th>0</th>\n",
       "      <td>2010-01-02</td>\n",
       "      <td>1061</td>\n",
       "      <td>0.006671</td>\n",
       "      <td>NaN</td>\n",
       "    </tr>\n",
       "    <tr>\n",
       "      <th>18</th>\n",
       "      <td>2010-01-02</td>\n",
       "      <td>1043</td>\n",
       "      <td>0.011074</td>\n",
       "      <td>NaN</td>\n",
       "    </tr>\n",
       "    <tr>\n",
       "      <th>28</th>\n",
       "      <td>2010-01-03</td>\n",
       "      <td>1033</td>\n",
       "      <td>0.015077</td>\n",
       "      <td>NaN</td>\n",
       "    </tr>\n",
       "    <tr>\n",
       "      <th>1</th>\n",
       "      <td>2010-01-03</td>\n",
       "      <td>1060</td>\n",
       "      <td>0.006872</td>\n",
       "      <td>NaN</td>\n",
       "    </tr>\n",
       "  </tbody>\n",
       "</table>\n",
       "</div>"
      ],
      "text/plain": [
       "    Timestamp  Stock-to-Flow Ratio/o/daysTillHalving  \\\n",
       "8  2010-01-01                                   1053   \n",
       "0  2010-01-02                                   1061   \n",
       "18 2010-01-02                                   1043   \n",
       "28 2010-01-03                                   1033   \n",
       "1  2010-01-03                                   1060   \n",
       "\n",
       "    Stock-to-Flow Ratio/o/ratio  Stock-to-Flow Ratio/o/price  \n",
       "8                      0.008259                          NaN  \n",
       "0                      0.006671                          NaN  \n",
       "18                     0.011074                          NaN  \n",
       "28                     0.015077                          NaN  \n",
       "1                      0.006872                          NaN  "
      ]
     },
     "execution_count": 2,
     "metadata": {},
     "output_type": "execute_result"
    }
   ],
   "source": [
    "#STOCK TO FLOW\n",
    "stock_to_flow = pd.read_csv(\"data/bitcoin-stock-to-flow-ratio-usd.csv\")\n",
    "\n",
    "stock_to_flow[\"Stock-to-Flow Ratio/t\"] = stock_to_flow[\"Stock-to-Flow Ratio/t\"].str.rstrip(\"T00:00:00.000Z\")\n",
    "stock_to_flow[\"Stock-to-Flow Ratio/t\"] = pd.to_datetime(stock_to_flow[\"Stock-to-Flow Ratio/t\"])\n",
    "stock_to_flow = stock_to_flow.sort_values(by='Stock-to-Flow Ratio/t')\n",
    "stock_to_flow = stock_to_flow.rename(columns={'Stock-to-Flow Ratio/t': 'Timestamp'})\n",
    "\n",
    "stock_to_flow.head()"
   ]
  },
  {
   "cell_type": "code",
   "execution_count": 3,
   "metadata": {},
   "outputs": [
    {
     "name": "stdout",
     "output_type": "stream",
     "text": [
      "\n",
      "Shape is: (6450, 4)\n",
      "\n",
      "Summary of the dataset:\n",
      "\n",
      "Are there null values?\n"
     ]
    },
    {
     "data": {
      "text/plain": [
       "Timestamp                                   0\n",
       "Stock-to-Flow Ratio/o/daysTillHalving       0\n",
       "Stock-to-Flow Ratio/o/ratio                 0\n",
       "Stock-to-Flow Ratio/o/price              2021\n",
       "dtype: int64"
      ]
     },
     "execution_count": 3,
     "metadata": {},
     "output_type": "execute_result"
    }
   ],
   "source": [
    "#Description\n",
    "print(\"\\nShape is:\", stock_to_flow.shape)\n",
    "print(\"\\nSummary of the dataset:\")\n",
    "stock_to_flow.describe()\n",
    "print(\"\\nAre there null values?\")\n",
    "stock_to_flow.isna().sum()"
   ]
  },
  {
   "cell_type": "markdown",
   "metadata": {},
   "source": [
    "# VISUALIZATION"
   ]
  },
  {
   "cell_type": "code",
   "execution_count": 4,
   "metadata": {},
   "outputs": [
    {
     "data": {
      "image/png": "[encoded data removed]",
      "text/plain": [
       "<Figure size 1152x576 with 1 Axes>"
      ]
     },
     "metadata": {
      "needs_background": "light"
     },
     "output_type": "display_data"
    }
   ],
   "source": [
    "plt.figure(figsize=(16,8))\n",
    "plt.plot(stock_to_flow[\"Timestamp\"], stock_to_flow[\"Stock-to-Flow Ratio/o/ratio\"])\n",
    "plt.gca().set(xlabel=\"Year\", ylabel=\"Value\")\n",
    "#scommentare riga giù per visualizzare in scala log\n",
    "#plt.yscale('log') \n",
    "plt.show()\n",
    "\n",
    "#E ANCHE QUI, CAPIRE QUEI \"PICCHI\" PERCHE' SPUNTANO (credo si vedano perchè il range y è troppo alto)"
   ]
  },
  {
   "cell_type": "code",
   "execution_count": 6,
   "metadata": {},
   "outputs": [
    {
     "data": {
      "image/png": "[encoded data removed]",
      "text/plain": [
       "<Figure size 1152x360 with 1 Axes>"
      ]
     },
     "metadata": {
      "needs_background": "light"
     },
     "output_type": "display_data"
    }
   ],
   "source": [
    "plt.figure(figsize=(16,5))\n",
    "sns.distplot(stock_to_flow[\"Stock-to-Flow Ratio/o/ratio\"], kde = False, bins = 60)\n",
    "plt.title('Distribution of the Stock to Flow', fontsize=16)\n",
    "plt.show()"
   ]
  },
  {
   "cell_type": "code",
   "execution_count": null,
   "metadata": {},
   "outputs": [],
   "source": []
  }
 ],
 "metadata": {
  "kernelspec": {
   "display_name": "Python 3",
   "language": "python",
   "name": "python3"
  },
  "language_info": {
   "codemirror_mode": {
    "name": "ipython",
    "version": 3
   },
   "file_extension": ".py",
   "mimetype": "text/x-python",
   "name": "python",
   "nbconvert_exporter": "python",
   "pygments_lexer": "ipython3",
   "version": "3.9.8"
  }
 },
 "nbformat": 4,
 "nbformat_minor": 4
}
