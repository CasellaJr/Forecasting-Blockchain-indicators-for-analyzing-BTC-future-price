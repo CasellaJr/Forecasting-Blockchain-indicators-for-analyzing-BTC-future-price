{
 "cells": [
  {
   "cell_type": "code",
   "execution_count": 12,
   "metadata": {},
   "outputs": [],
   "source": [
    "import pandas as pd\n",
    "import numpy as np\n",
    "import seaborn as sns\n",
    "import matplotlib.pyplot as plt"
   ]
  },
  {
   "cell_type": "markdown",
   "metadata": {},
   "source": [
    "# READ CSV"
   ]
  },
  {
   "cell_type": "code",
   "execution_count": 41,
   "metadata": {},
   "outputs": [],
   "source": [
    "block_height = pd.read_csv(\"data/bitcoin-block-height.csv\")\n",
    "difficulty_ribbon = pd.read_csv(\"data/bitcoin-difficulty-ribbon.csv\")\n",
    "market_cap_usd = pd.read_csv(\"data/bitcoin-market-cap-usd.csv\")\n",
    "hash_rate = pd.read_csv(\"data/bitcoin-mean-hash-rate.csv\")\n",
    "active_addresses = pd.read_csv(\"data/bitcoin-number-of-active-addresses.csv\")\n",
    "new_addresses = pd.read_csv(\"data/bitcoin-number-of-new-addresses.csv\")\n",
    "SOPR = pd.read_csv(\"data/bitcoin-spent-output-profit-ratio-sopr.csv\")\n",
    "stock_to_flow = pd.read_csv(\"data/bitcoin-stock-to-flow-ratio-usd.csv\")\n",
    "fees = pd.read_csv(\"data/bitcoin-total-transaction-fees-btc.csv\")"
   ]
  },
  {
   "cell_type": "code",
   "execution_count": 45,
   "metadata": {},
   "outputs": [
    {
     "data": {
      "text/html": [
       "<div>\n",
       "<style scoped>\n",
       "    .dataframe tbody tr th:only-of-type {\n",
       "        vertical-align: middle;\n",
       "    }\n",
       "\n",
       "    .dataframe tbody tr th {\n",
       "        vertical-align: top;\n",
       "    }\n",
       "\n",
       "    .dataframe thead th {\n",
       "        text-align: right;\n",
       "    }\n",
       "</style>\n",
       "<table border=\"1\" class=\"dataframe\">\n",
       "  <thead>\n",
       "    <tr style=\"text-align: right;\">\n",
       "      <th></th>\n",
       "      <th>Block Height/t</th>\n",
       "      <th>Block Height/v</th>\n",
       "    </tr>\n",
       "  </thead>\n",
       "  <tbody>\n",
       "    <tr>\n",
       "      <th>0</th>\n",
       "      <td>2009-01-09</td>\n",
       "      <td>14</td>\n",
       "    </tr>\n",
       "    <tr>\n",
       "      <th>1</th>\n",
       "      <td>2009-01-1</td>\n",
       "      <td>75</td>\n",
       "    </tr>\n",
       "    <tr>\n",
       "      <th>2</th>\n",
       "      <td>2009-01-11</td>\n",
       "      <td>168</td>\n",
       "    </tr>\n",
       "    <tr>\n",
       "      <th>3</th>\n",
       "      <td>2009-01-12</td>\n",
       "      <td>262</td>\n",
       "    </tr>\n",
       "    <tr>\n",
       "      <th>4</th>\n",
       "      <td>2009-01-13</td>\n",
       "      <td>385</td>\n",
       "    </tr>\n",
       "    <tr>\n",
       "      <th>...</th>\n",
       "      <td>...</td>\n",
       "      <td>...</td>\n",
       "    </tr>\n",
       "    <tr>\n",
       "      <th>4977</th>\n",
       "      <td>2022-08-26</td>\n",
       "      <td>751304</td>\n",
       "    </tr>\n",
       "    <tr>\n",
       "      <th>4978</th>\n",
       "      <td>2022-08-27</td>\n",
       "      <td>751449</td>\n",
       "    </tr>\n",
       "    <tr>\n",
       "      <th>4979</th>\n",
       "      <td>2022-08-28</td>\n",
       "      <td>751610</td>\n",
       "    </tr>\n",
       "    <tr>\n",
       "      <th>4980</th>\n",
       "      <td>2022-08-29</td>\n",
       "      <td>751767</td>\n",
       "    </tr>\n",
       "    <tr>\n",
       "      <th>4981</th>\n",
       "      <td>2022-08-3</td>\n",
       "      <td>751929</td>\n",
       "    </tr>\n",
       "  </tbody>\n",
       "</table>\n",
       "<p>4982 rows × 2 columns</p>\n",
       "</div>"
      ],
      "text/plain": [
       "     Block Height/t  Block Height/v\n",
       "0        2009-01-09              14\n",
       "1         2009-01-1              75\n",
       "2        2009-01-11             168\n",
       "3        2009-01-12             262\n",
       "4        2009-01-13             385\n",
       "...             ...             ...\n",
       "4977     2022-08-26          751304\n",
       "4978     2022-08-27          751449\n",
       "4979     2022-08-28          751610\n",
       "4980     2022-08-29          751767\n",
       "4981      2022-08-3          751929\n",
       "\n",
       "[4982 rows x 2 columns]"
      ]
     },
     "execution_count": 45,
     "metadata": {},
     "output_type": "execute_result"
    }
   ],
   "source": [
    "block_height\n",
    "block_height[\"Block Height/t\"] = block_height[\"Block Height/t\"].str.rstrip(\"T00:00:00.000Z\")\n",
    "block_height"
   ]
  },
  {
   "cell_type": "code",
   "execution_count": 4,
   "metadata": {},
   "outputs": [
    {
     "data": {
      "text/html": [
       "<div>\n",
       "<style scoped>\n",
       "    .dataframe tbody tr th:only-of-type {\n",
       "        vertical-align: middle;\n",
       "    }\n",
       "\n",
       "    .dataframe tbody tr th {\n",
       "        vertical-align: top;\n",
       "    }\n",
       "\n",
       "    .dataframe thead th {\n",
       "        text-align: right;\n",
       "    }\n",
       "</style>\n",
       "<table border=\"1\" class=\"dataframe\">\n",
       "  <thead>\n",
       "    <tr style=\"text-align: right;\">\n",
       "      <th></th>\n",
       "      <th>Difficulty Ribbon/t</th>\n",
       "      <th>Difficulty Ribbon/o/ma128</th>\n",
       "      <th>Difficulty Ribbon/o/ma14</th>\n",
       "      <th>Difficulty Ribbon/o/ma200</th>\n",
       "      <th>Difficulty Ribbon/o/ma25</th>\n",
       "      <th>Difficulty Ribbon/o/ma40</th>\n",
       "      <th>Difficulty Ribbon/o/ma60</th>\n",
       "      <th>Difficulty Ribbon/o/ma9</th>\n",
       "      <th>Difficulty Ribbon/o/ma90</th>\n",
       "    </tr>\n",
       "  </thead>\n",
       "  <tbody>\n",
       "    <tr>\n",
       "      <th>0</th>\n",
       "      <td>2009-07-28T00:00:00.000Z</td>\n",
       "      <td>4.294967e+09</td>\n",
       "      <td>4.294967e+09</td>\n",
       "      <td>4.294967e+09</td>\n",
       "      <td>4.294967e+09</td>\n",
       "      <td>4.294967e+09</td>\n",
       "      <td>4.294967e+09</td>\n",
       "      <td>4.294967e+09</td>\n",
       "      <td>4.294967e+09</td>\n",
       "    </tr>\n",
       "    <tr>\n",
       "      <th>1</th>\n",
       "      <td>2009-07-29T00:00:00.000Z</td>\n",
       "      <td>4.294967e+09</td>\n",
       "      <td>4.294967e+09</td>\n",
       "      <td>4.294967e+09</td>\n",
       "      <td>4.294967e+09</td>\n",
       "      <td>4.294967e+09</td>\n",
       "      <td>4.294967e+09</td>\n",
       "      <td>4.294967e+09</td>\n",
       "      <td>4.294967e+09</td>\n",
       "    </tr>\n",
       "    <tr>\n",
       "      <th>2</th>\n",
       "      <td>2009-07-30T00:00:00.000Z</td>\n",
       "      <td>4.294967e+09</td>\n",
       "      <td>4.294967e+09</td>\n",
       "      <td>4.294967e+09</td>\n",
       "      <td>4.294967e+09</td>\n",
       "      <td>4.294967e+09</td>\n",
       "      <td>4.294967e+09</td>\n",
       "      <td>4.294967e+09</td>\n",
       "      <td>4.294967e+09</td>\n",
       "    </tr>\n",
       "    <tr>\n",
       "      <th>3</th>\n",
       "      <td>2009-07-31T00:00:00.000Z</td>\n",
       "      <td>4.294967e+09</td>\n",
       "      <td>4.294967e+09</td>\n",
       "      <td>4.294967e+09</td>\n",
       "      <td>4.294967e+09</td>\n",
       "      <td>4.294967e+09</td>\n",
       "      <td>4.294967e+09</td>\n",
       "      <td>4.294967e+09</td>\n",
       "      <td>4.294967e+09</td>\n",
       "    </tr>\n",
       "    <tr>\n",
       "      <th>4</th>\n",
       "      <td>2009-08-01T00:00:00.000Z</td>\n",
       "      <td>4.294967e+09</td>\n",
       "      <td>4.294967e+09</td>\n",
       "      <td>4.294967e+09</td>\n",
       "      <td>4.294967e+09</td>\n",
       "      <td>4.294967e+09</td>\n",
       "      <td>4.294967e+09</td>\n",
       "      <td>4.294967e+09</td>\n",
       "      <td>4.294967e+09</td>\n",
       "    </tr>\n",
       "    <tr>\n",
       "      <th>...</th>\n",
       "      <td>...</td>\n",
       "      <td>...</td>\n",
       "      <td>...</td>\n",
       "      <td>...</td>\n",
       "      <td>...</td>\n",
       "      <td>...</td>\n",
       "      <td>...</td>\n",
       "      <td>...</td>\n",
       "      <td>...</td>\n",
       "    </tr>\n",
       "    <tr>\n",
       "      <th>4777</th>\n",
       "      <td>2022-08-26T00:00:00.000Z</td>\n",
       "      <td>1.260632e+23</td>\n",
       "      <td>1.214978e+23</td>\n",
       "      <td>1.236215e+23</td>\n",
       "      <td>1.211172e+23</td>\n",
       "      <td>1.207706e+23</td>\n",
       "      <td>1.225194e+23</td>\n",
       "      <td>1.217692e+23</td>\n",
       "      <td>1.246465e+23</td>\n",
       "    </tr>\n",
       "    <tr>\n",
       "      <th>4778</th>\n",
       "      <td>2022-08-27T00:00:00.000Z</td>\n",
       "      <td>1.260674e+23</td>\n",
       "      <td>1.215521e+23</td>\n",
       "      <td>1.236572e+23</td>\n",
       "      <td>1.212304e+23</td>\n",
       "      <td>1.206846e+23</td>\n",
       "      <td>1.224322e+23</td>\n",
       "      <td>1.217692e+23</td>\n",
       "      <td>1.245728e+23</td>\n",
       "    </tr>\n",
       "    <tr>\n",
       "      <th>4779</th>\n",
       "      <td>2022-08-28T00:00:00.000Z</td>\n",
       "      <td>1.260717e+23</td>\n",
       "      <td>1.216064e+23</td>\n",
       "      <td>1.236929e+23</td>\n",
       "      <td>1.213437e+23</td>\n",
       "      <td>1.205986e+23</td>\n",
       "      <td>1.223450e+23</td>\n",
       "      <td>1.217692e+23</td>\n",
       "      <td>1.244990e+23</td>\n",
       "    </tr>\n",
       "    <tr>\n",
       "      <th>4780</th>\n",
       "      <td>2022-08-29T00:00:00.000Z</td>\n",
       "      <td>1.260759e+23</td>\n",
       "      <td>1.216607e+23</td>\n",
       "      <td>1.237285e+23</td>\n",
       "      <td>1.213741e+23</td>\n",
       "      <td>1.205126e+23</td>\n",
       "      <td>1.222577e+23</td>\n",
       "      <td>1.217692e+23</td>\n",
       "      <td>1.244252e+23</td>\n",
       "    </tr>\n",
       "    <tr>\n",
       "      <th>4781</th>\n",
       "      <td>2022-08-30T00:00:00.000Z</td>\n",
       "      <td>1.260801e+23</td>\n",
       "      <td>1.217149e+23</td>\n",
       "      <td>1.237642e+23</td>\n",
       "      <td>1.214045e+23</td>\n",
       "      <td>1.205833e+23</td>\n",
       "      <td>1.221705e+23</td>\n",
       "      <td>1.217692e+23</td>\n",
       "      <td>1.243514e+23</td>\n",
       "    </tr>\n",
       "  </tbody>\n",
       "</table>\n",
       "<p>4782 rows × 9 columns</p>\n",
       "</div>"
      ],
      "text/plain": [
       "           Difficulty Ribbon/t  Difficulty Ribbon/o/ma128  \\\n",
       "0     2009-07-28T00:00:00.000Z               4.294967e+09   \n",
       "1     2009-07-29T00:00:00.000Z               4.294967e+09   \n",
       "2     2009-07-30T00:00:00.000Z               4.294967e+09   \n",
       "3     2009-07-31T00:00:00.000Z               4.294967e+09   \n",
       "4     2009-08-01T00:00:00.000Z               4.294967e+09   \n",
       "...                        ...                        ...   \n",
       "4777  2022-08-26T00:00:00.000Z               1.260632e+23   \n",
       "4778  2022-08-27T00:00:00.000Z               1.260674e+23   \n",
       "4779  2022-08-28T00:00:00.000Z               1.260717e+23   \n",
       "4780  2022-08-29T00:00:00.000Z               1.260759e+23   \n",
       "4781  2022-08-30T00:00:00.000Z               1.260801e+23   \n",
       "\n",
       "      Difficulty Ribbon/o/ma14  Difficulty Ribbon/o/ma200  \\\n",
       "0                 4.294967e+09               4.294967e+09   \n",
       "1                 4.294967e+09               4.294967e+09   \n",
       "2                 4.294967e+09               4.294967e+09   \n",
       "3                 4.294967e+09               4.294967e+09   \n",
       "4                 4.294967e+09               4.294967e+09   \n",
       "...                        ...                        ...   \n",
       "4777              1.214978e+23               1.236215e+23   \n",
       "4778              1.215521e+23               1.236572e+23   \n",
       "4779              1.216064e+23               1.236929e+23   \n",
       "4780              1.216607e+23               1.237285e+23   \n",
       "4781              1.217149e+23               1.237642e+23   \n",
       "\n",
       "      Difficulty Ribbon/o/ma25  Difficulty Ribbon/o/ma40  \\\n",
       "0                 4.294967e+09              4.294967e+09   \n",
       "1                 4.294967e+09              4.294967e+09   \n",
       "2                 4.294967e+09              4.294967e+09   \n",
       "3                 4.294967e+09              4.294967e+09   \n",
       "4                 4.294967e+09              4.294967e+09   \n",
       "...                        ...                       ...   \n",
       "4777              1.211172e+23              1.207706e+23   \n",
       "4778              1.212304e+23              1.206846e+23   \n",
       "4779              1.213437e+23              1.205986e+23   \n",
       "4780              1.213741e+23              1.205126e+23   \n",
       "4781              1.214045e+23              1.205833e+23   \n",
       "\n",
       "      Difficulty Ribbon/o/ma60  Difficulty Ribbon/o/ma9  \\\n",
       "0                 4.294967e+09             4.294967e+09   \n",
       "1                 4.294967e+09             4.294967e+09   \n",
       "2                 4.294967e+09             4.294967e+09   \n",
       "3                 4.294967e+09             4.294967e+09   \n",
       "4                 4.294967e+09             4.294967e+09   \n",
       "...                        ...                      ...   \n",
       "4777              1.225194e+23             1.217692e+23   \n",
       "4778              1.224322e+23             1.217692e+23   \n",
       "4779              1.223450e+23             1.217692e+23   \n",
       "4780              1.222577e+23             1.217692e+23   \n",
       "4781              1.221705e+23             1.217692e+23   \n",
       "\n",
       "      Difficulty Ribbon/o/ma90  \n",
       "0                 4.294967e+09  \n",
       "1                 4.294967e+09  \n",
       "2                 4.294967e+09  \n",
       "3                 4.294967e+09  \n",
       "4                 4.294967e+09  \n",
       "...                        ...  \n",
       "4777              1.246465e+23  \n",
       "4778              1.245728e+23  \n",
       "4779              1.244990e+23  \n",
       "4780              1.244252e+23  \n",
       "4781              1.243514e+23  \n",
       "\n",
       "[4782 rows x 9 columns]"
      ]
     },
     "execution_count": 4,
     "metadata": {},
     "output_type": "execute_result"
    }
   ],
   "source": [
    "difficulty_ribbon"
   ]
  },
  {
   "cell_type": "code",
   "execution_count": 5,
   "metadata": {},
   "outputs": [
    {
     "data": {
      "text/html": [
       "<div>\n",
       "<style scoped>\n",
       "    .dataframe tbody tr th:only-of-type {\n",
       "        vertical-align: middle;\n",
       "    }\n",
       "\n",
       "    .dataframe tbody tr th {\n",
       "        vertical-align: top;\n",
       "    }\n",
       "\n",
       "    .dataframe thead th {\n",
       "        text-align: right;\n",
       "    }\n",
       "</style>\n",
       "<table border=\"1\" class=\"dataframe\">\n",
       "  <thead>\n",
       "    <tr style=\"text-align: right;\">\n",
       "      <th></th>\n",
       "      <th>Market Cap/t</th>\n",
       "      <th>Market Cap/v</th>\n",
       "    </tr>\n",
       "  </thead>\n",
       "  <tbody>\n",
       "    <tr>\n",
       "      <th>0</th>\n",
       "      <td>2010-07-17T00:00:00.000Z</td>\n",
       "      <td>1.702649e+05</td>\n",
       "    </tr>\n",
       "    <tr>\n",
       "      <th>1</th>\n",
       "      <td>2010-07-18T00:00:00.000Z</td>\n",
       "      <td>2.959420e+05</td>\n",
       "    </tr>\n",
       "    <tr>\n",
       "      <th>2</th>\n",
       "      <td>2010-07-19T00:00:00.000Z</td>\n",
       "      <td>2.792690e+05</td>\n",
       "    </tr>\n",
       "    <tr>\n",
       "      <th>3</th>\n",
       "      <td>2010-07-20T00:00:00.000Z</td>\n",
       "      <td>2.589772e+05</td>\n",
       "    </tr>\n",
       "    <tr>\n",
       "      <th>4</th>\n",
       "      <td>2010-07-21T00:00:00.000Z</td>\n",
       "      <td>2.753102e+05</td>\n",
       "    </tr>\n",
       "    <tr>\n",
       "      <th>...</th>\n",
       "      <td>...</td>\n",
       "      <td>...</td>\n",
       "    </tr>\n",
       "    <tr>\n",
       "      <th>4423</th>\n",
       "      <td>2022-08-26T00:00:00.000Z</td>\n",
       "      <td>3.871251e+11</td>\n",
       "    </tr>\n",
       "    <tr>\n",
       "      <th>4424</th>\n",
       "      <td>2022-08-27T00:00:00.000Z</td>\n",
       "      <td>3.838172e+11</td>\n",
       "    </tr>\n",
       "    <tr>\n",
       "      <th>4425</th>\n",
       "      <td>2022-08-28T00:00:00.000Z</td>\n",
       "      <td>3.759987e+11</td>\n",
       "    </tr>\n",
       "    <tr>\n",
       "      <th>4426</th>\n",
       "      <td>2022-08-29T00:00:00.000Z</td>\n",
       "      <td>3.881729e+11</td>\n",
       "    </tr>\n",
       "    <tr>\n",
       "      <th>4427</th>\n",
       "      <td>2022-08-30T00:00:00.000Z</td>\n",
       "      <td>3.787287e+11</td>\n",
       "    </tr>\n",
       "  </tbody>\n",
       "</table>\n",
       "<p>4428 rows × 2 columns</p>\n",
       "</div>"
      ],
      "text/plain": [
       "                  Market Cap/t  Market Cap/v\n",
       "0     2010-07-17T00:00:00.000Z  1.702649e+05\n",
       "1     2010-07-18T00:00:00.000Z  2.959420e+05\n",
       "2     2010-07-19T00:00:00.000Z  2.792690e+05\n",
       "3     2010-07-20T00:00:00.000Z  2.589772e+05\n",
       "4     2010-07-21T00:00:00.000Z  2.753102e+05\n",
       "...                        ...           ...\n",
       "4423  2022-08-26T00:00:00.000Z  3.871251e+11\n",
       "4424  2022-08-27T00:00:00.000Z  3.838172e+11\n",
       "4425  2022-08-28T00:00:00.000Z  3.759987e+11\n",
       "4426  2022-08-29T00:00:00.000Z  3.881729e+11\n",
       "4427  2022-08-30T00:00:00.000Z  3.787287e+11\n",
       "\n",
       "[4428 rows x 2 columns]"
      ]
     },
     "execution_count": 5,
     "metadata": {},
     "output_type": "execute_result"
    }
   ],
   "source": [
    "market_cap_usd"
   ]
  },
  {
   "cell_type": "code",
   "execution_count": 6,
   "metadata": {},
   "outputs": [
    {
     "data": {
      "text/html": [
       "<div>\n",
       "<style scoped>\n",
       "    .dataframe tbody tr th:only-of-type {\n",
       "        vertical-align: middle;\n",
       "    }\n",
       "\n",
       "    .dataframe tbody tr th {\n",
       "        vertical-align: top;\n",
       "    }\n",
       "\n",
       "    .dataframe thead th {\n",
       "        text-align: right;\n",
       "    }\n",
       "</style>\n",
       "<table border=\"1\" class=\"dataframe\">\n",
       "  <thead>\n",
       "    <tr style=\"text-align: right;\">\n",
       "      <th></th>\n",
       "      <th>Hash Rate/t</th>\n",
       "      <th>Hash Rate/v</th>\n",
       "    </tr>\n",
       "  </thead>\n",
       "  <tbody>\n",
       "    <tr>\n",
       "      <th>0</th>\n",
       "      <td>2009-01-09T00:00:00.000Z</td>\n",
       "      <td>1.281850e+05</td>\n",
       "    </tr>\n",
       "    <tr>\n",
       "      <th>1</th>\n",
       "      <td>2009-01-10T00:00:00.000Z</td>\n",
       "      <td>1.676938e+06</td>\n",
       "    </tr>\n",
       "    <tr>\n",
       "      <th>2</th>\n",
       "      <td>2009-01-11T00:00:00.000Z</td>\n",
       "      <td>4.679436e+06</td>\n",
       "    </tr>\n",
       "    <tr>\n",
       "      <th>3</th>\n",
       "      <td>2009-01-12T00:00:00.000Z</td>\n",
       "      <td>4.653054e+06</td>\n",
       "    </tr>\n",
       "    <tr>\n",
       "      <th>4</th>\n",
       "      <td>2009-01-13T00:00:00.000Z</td>\n",
       "      <td>6.070590e+06</td>\n",
       "    </tr>\n",
       "    <tr>\n",
       "      <th>...</th>\n",
       "      <td>...</td>\n",
       "      <td>...</td>\n",
       "    </tr>\n",
       "    <tr>\n",
       "      <th>4977</th>\n",
       "      <td>2022-08-26T00:00:00.000Z</td>\n",
       "      <td>2.484308e+20</td>\n",
       "    </tr>\n",
       "    <tr>\n",
       "      <th>4978</th>\n",
       "      <td>2022-08-27T00:00:00.000Z</td>\n",
       "      <td>2.043652e+20</td>\n",
       "    </tr>\n",
       "    <tr>\n",
       "      <th>4979</th>\n",
       "      <td>2022-08-28T00:00:00.000Z</td>\n",
       "      <td>2.245404e+20</td>\n",
       "    </tr>\n",
       "    <tr>\n",
       "      <th>4980</th>\n",
       "      <td>2022-08-29T00:00:00.000Z</td>\n",
       "      <td>2.218379e+20</td>\n",
       "    </tr>\n",
       "    <tr>\n",
       "      <th>4981</th>\n",
       "      <td>2022-08-30T00:00:00.000Z</td>\n",
       "      <td>2.274486e+20</td>\n",
       "    </tr>\n",
       "  </tbody>\n",
       "</table>\n",
       "<p>4982 rows × 2 columns</p>\n",
       "</div>"
      ],
      "text/plain": [
       "                   Hash Rate/t   Hash Rate/v\n",
       "0     2009-01-09T00:00:00.000Z  1.281850e+05\n",
       "1     2009-01-10T00:00:00.000Z  1.676938e+06\n",
       "2     2009-01-11T00:00:00.000Z  4.679436e+06\n",
       "3     2009-01-12T00:00:00.000Z  4.653054e+06\n",
       "4     2009-01-13T00:00:00.000Z  6.070590e+06\n",
       "...                        ...           ...\n",
       "4977  2022-08-26T00:00:00.000Z  2.484308e+20\n",
       "4978  2022-08-27T00:00:00.000Z  2.043652e+20\n",
       "4979  2022-08-28T00:00:00.000Z  2.245404e+20\n",
       "4980  2022-08-29T00:00:00.000Z  2.218379e+20\n",
       "4981  2022-08-30T00:00:00.000Z  2.274486e+20\n",
       "\n",
       "[4982 rows x 2 columns]"
      ]
     },
     "execution_count": 6,
     "metadata": {},
     "output_type": "execute_result"
    }
   ],
   "source": [
    "hash_rate "
   ]
  },
  {
   "cell_type": "code",
   "execution_count": 7,
   "metadata": {},
   "outputs": [
    {
     "data": {
      "text/html": [
       "<div>\n",
       "<style scoped>\n",
       "    .dataframe tbody tr th:only-of-type {\n",
       "        vertical-align: middle;\n",
       "    }\n",
       "\n",
       "    .dataframe tbody tr th {\n",
       "        vertical-align: top;\n",
       "    }\n",
       "\n",
       "    .dataframe thead th {\n",
       "        text-align: right;\n",
       "    }\n",
       "</style>\n",
       "<table border=\"1\" class=\"dataframe\">\n",
       "  <thead>\n",
       "    <tr style=\"text-align: right;\">\n",
       "      <th></th>\n",
       "      <th>Active Addresses/t</th>\n",
       "      <th>Active Addresses/v</th>\n",
       "    </tr>\n",
       "  </thead>\n",
       "  <tbody>\n",
       "    <tr>\n",
       "      <th>0</th>\n",
       "      <td>2008-12-29T00:00:00.000Z</td>\n",
       "      <td>0</td>\n",
       "    </tr>\n",
       "    <tr>\n",
       "      <th>1</th>\n",
       "      <td>2009-01-05T00:00:00.000Z</td>\n",
       "      <td>0</td>\n",
       "    </tr>\n",
       "    <tr>\n",
       "      <th>2</th>\n",
       "      <td>2009-01-12T00:00:00.000Z</td>\n",
       "      <td>34</td>\n",
       "    </tr>\n",
       "    <tr>\n",
       "      <th>3</th>\n",
       "      <td>2009-01-19T00:00:00.000Z</td>\n",
       "      <td>63</td>\n",
       "    </tr>\n",
       "    <tr>\n",
       "      <th>4</th>\n",
       "      <td>2009-01-26T00:00:00.000Z</td>\n",
       "      <td>61</td>\n",
       "    </tr>\n",
       "    <tr>\n",
       "      <th>...</th>\n",
       "      <td>...</td>\n",
       "      <td>...</td>\n",
       "    </tr>\n",
       "    <tr>\n",
       "      <th>708</th>\n",
       "      <td>2022-07-25T00:00:00.000Z</td>\n",
       "      <td>4565989</td>\n",
       "    </tr>\n",
       "    <tr>\n",
       "      <th>709</th>\n",
       "      <td>2022-08-01T00:00:00.000Z</td>\n",
       "      <td>4505870</td>\n",
       "    </tr>\n",
       "    <tr>\n",
       "      <th>710</th>\n",
       "      <td>2022-08-08T00:00:00.000Z</td>\n",
       "      <td>4687324</td>\n",
       "    </tr>\n",
       "    <tr>\n",
       "      <th>711</th>\n",
       "      <td>2022-08-15T00:00:00.000Z</td>\n",
       "      <td>4662329</td>\n",
       "    </tr>\n",
       "    <tr>\n",
       "      <th>712</th>\n",
       "      <td>2022-08-22T00:00:00.000Z</td>\n",
       "      <td>4483301</td>\n",
       "    </tr>\n",
       "  </tbody>\n",
       "</table>\n",
       "<p>713 rows × 2 columns</p>\n",
       "</div>"
      ],
      "text/plain": [
       "           Active Addresses/t  Active Addresses/v\n",
       "0    2008-12-29T00:00:00.000Z                   0\n",
       "1    2009-01-05T00:00:00.000Z                   0\n",
       "2    2009-01-12T00:00:00.000Z                  34\n",
       "3    2009-01-19T00:00:00.000Z                  63\n",
       "4    2009-01-26T00:00:00.000Z                  61\n",
       "..                        ...                 ...\n",
       "708  2022-07-25T00:00:00.000Z             4565989\n",
       "709  2022-08-01T00:00:00.000Z             4505870\n",
       "710  2022-08-08T00:00:00.000Z             4687324\n",
       "711  2022-08-15T00:00:00.000Z             4662329\n",
       "712  2022-08-22T00:00:00.000Z             4483301\n",
       "\n",
       "[713 rows x 2 columns]"
      ]
     },
     "execution_count": 7,
     "metadata": {},
     "output_type": "execute_result"
    }
   ],
   "source": [
    "active_addresses "
   ]
  },
  {
   "cell_type": "code",
   "execution_count": 8,
   "metadata": {},
   "outputs": [
    {
     "data": {
      "text/html": [
       "<div>\n",
       "<style scoped>\n",
       "    .dataframe tbody tr th:only-of-type {\n",
       "        vertical-align: middle;\n",
       "    }\n",
       "\n",
       "    .dataframe tbody tr th {\n",
       "        vertical-align: top;\n",
       "    }\n",
       "\n",
       "    .dataframe thead th {\n",
       "        text-align: right;\n",
       "    }\n",
       "</style>\n",
       "<table border=\"1\" class=\"dataframe\">\n",
       "  <thead>\n",
       "    <tr style=\"text-align: right;\">\n",
       "      <th></th>\n",
       "      <th>Active Addresses/t</th>\n",
       "      <th>Active Addresses/v</th>\n",
       "    </tr>\n",
       "  </thead>\n",
       "  <tbody>\n",
       "    <tr>\n",
       "      <th>0</th>\n",
       "      <td>2008-12-29T00:00:00.000Z</td>\n",
       "      <td>0</td>\n",
       "    </tr>\n",
       "    <tr>\n",
       "      <th>1</th>\n",
       "      <td>2009-01-05T00:00:00.000Z</td>\n",
       "      <td>0</td>\n",
       "    </tr>\n",
       "    <tr>\n",
       "      <th>2</th>\n",
       "      <td>2009-01-12T00:00:00.000Z</td>\n",
       "      <td>34</td>\n",
       "    </tr>\n",
       "    <tr>\n",
       "      <th>3</th>\n",
       "      <td>2009-01-19T00:00:00.000Z</td>\n",
       "      <td>63</td>\n",
       "    </tr>\n",
       "    <tr>\n",
       "      <th>4</th>\n",
       "      <td>2009-01-26T00:00:00.000Z</td>\n",
       "      <td>61</td>\n",
       "    </tr>\n",
       "    <tr>\n",
       "      <th>...</th>\n",
       "      <td>...</td>\n",
       "      <td>...</td>\n",
       "    </tr>\n",
       "    <tr>\n",
       "      <th>708</th>\n",
       "      <td>2022-07-25T00:00:00.000Z</td>\n",
       "      <td>4565989</td>\n",
       "    </tr>\n",
       "    <tr>\n",
       "      <th>709</th>\n",
       "      <td>2022-08-01T00:00:00.000Z</td>\n",
       "      <td>4505870</td>\n",
       "    </tr>\n",
       "    <tr>\n",
       "      <th>710</th>\n",
       "      <td>2022-08-08T00:00:00.000Z</td>\n",
       "      <td>4687324</td>\n",
       "    </tr>\n",
       "    <tr>\n",
       "      <th>711</th>\n",
       "      <td>2022-08-15T00:00:00.000Z</td>\n",
       "      <td>4662329</td>\n",
       "    </tr>\n",
       "    <tr>\n",
       "      <th>712</th>\n",
       "      <td>2022-08-22T00:00:00.000Z</td>\n",
       "      <td>4483301</td>\n",
       "    </tr>\n",
       "  </tbody>\n",
       "</table>\n",
       "<p>713 rows × 2 columns</p>\n",
       "</div>"
      ],
      "text/plain": [
       "           Active Addresses/t  Active Addresses/v\n",
       "0    2008-12-29T00:00:00.000Z                   0\n",
       "1    2009-01-05T00:00:00.000Z                   0\n",
       "2    2009-01-12T00:00:00.000Z                  34\n",
       "3    2009-01-19T00:00:00.000Z                  63\n",
       "4    2009-01-26T00:00:00.000Z                  61\n",
       "..                        ...                 ...\n",
       "708  2022-07-25T00:00:00.000Z             4565989\n",
       "709  2022-08-01T00:00:00.000Z             4505870\n",
       "710  2022-08-08T00:00:00.000Z             4687324\n",
       "711  2022-08-15T00:00:00.000Z             4662329\n",
       "712  2022-08-22T00:00:00.000Z             4483301\n",
       "\n",
       "[713 rows x 2 columns]"
      ]
     },
     "execution_count": 8,
     "metadata": {},
     "output_type": "execute_result"
    }
   ],
   "source": [
    "new_addresses"
   ]
  },
  {
   "cell_type": "code",
   "execution_count": 9,
   "metadata": {},
   "outputs": [
    {
     "data": {
      "text/html": [
       "<div>\n",
       "<style scoped>\n",
       "    .dataframe tbody tr th:only-of-type {\n",
       "        vertical-align: middle;\n",
       "    }\n",
       "\n",
       "    .dataframe tbody tr th {\n",
       "        vertical-align: top;\n",
       "    }\n",
       "\n",
       "    .dataframe thead th {\n",
       "        text-align: right;\n",
       "    }\n",
       "</style>\n",
       "<table border=\"1\" class=\"dataframe\">\n",
       "  <thead>\n",
       "    <tr style=\"text-align: right;\">\n",
       "      <th></th>\n",
       "      <th>SOPR/t</th>\n",
       "      <th>SOPR/v</th>\n",
       "    </tr>\n",
       "  </thead>\n",
       "  <tbody>\n",
       "    <tr>\n",
       "      <th>0</th>\n",
       "      <td>2012-12-31T00:00:00.000Z</td>\n",
       "      <td>1.012306</td>\n",
       "    </tr>\n",
       "    <tr>\n",
       "      <th>1</th>\n",
       "      <td>2013-01-01T00:00:00.000Z</td>\n",
       "      <td>0.998396</td>\n",
       "    </tr>\n",
       "    <tr>\n",
       "      <th>2</th>\n",
       "      <td>2013-01-02T00:00:00.000Z</td>\n",
       "      <td>0.999711</td>\n",
       "    </tr>\n",
       "    <tr>\n",
       "      <th>3</th>\n",
       "      <td>2013-01-03T00:00:00.000Z</td>\n",
       "      <td>1.000494</td>\n",
       "    </tr>\n",
       "    <tr>\n",
       "      <th>4</th>\n",
       "      <td>2013-01-04T00:00:00.000Z</td>\n",
       "      <td>1.002167</td>\n",
       "    </tr>\n",
       "    <tr>\n",
       "      <th>...</th>\n",
       "      <td>...</td>\n",
       "      <td>...</td>\n",
       "    </tr>\n",
       "    <tr>\n",
       "      <th>3525</th>\n",
       "      <td>2022-08-26T00:00:00.000Z</td>\n",
       "      <td>0.996005</td>\n",
       "    </tr>\n",
       "    <tr>\n",
       "      <th>3526</th>\n",
       "      <td>2022-08-27T00:00:00.000Z</td>\n",
       "      <td>0.994730</td>\n",
       "    </tr>\n",
       "    <tr>\n",
       "      <th>3527</th>\n",
       "      <td>2022-08-28T00:00:00.000Z</td>\n",
       "      <td>0.999703</td>\n",
       "    </tr>\n",
       "    <tr>\n",
       "      <th>3528</th>\n",
       "      <td>2022-08-29T00:00:00.000Z</td>\n",
       "      <td>0.999248</td>\n",
       "    </tr>\n",
       "    <tr>\n",
       "      <th>3529</th>\n",
       "      <td>2022-08-30T00:00:00.000Z</td>\n",
       "      <td>0.992702</td>\n",
       "    </tr>\n",
       "  </tbody>\n",
       "</table>\n",
       "<p>3530 rows × 2 columns</p>\n",
       "</div>"
      ],
      "text/plain": [
       "                        SOPR/t    SOPR/v\n",
       "0     2012-12-31T00:00:00.000Z  1.012306\n",
       "1     2013-01-01T00:00:00.000Z  0.998396\n",
       "2     2013-01-02T00:00:00.000Z  0.999711\n",
       "3     2013-01-03T00:00:00.000Z  1.000494\n",
       "4     2013-01-04T00:00:00.000Z  1.002167\n",
       "...                        ...       ...\n",
       "3525  2022-08-26T00:00:00.000Z  0.996005\n",
       "3526  2022-08-27T00:00:00.000Z  0.994730\n",
       "3527  2022-08-28T00:00:00.000Z  0.999703\n",
       "3528  2022-08-29T00:00:00.000Z  0.999248\n",
       "3529  2022-08-30T00:00:00.000Z  0.992702\n",
       "\n",
       "[3530 rows x 2 columns]"
      ]
     },
     "execution_count": 9,
     "metadata": {},
     "output_type": "execute_result"
    }
   ],
   "source": [
    "SOPR"
   ]
  },
  {
   "cell_type": "code",
   "execution_count": 10,
   "metadata": {},
   "outputs": [
    {
     "data": {
      "text/html": [
       "<div>\n",
       "<style scoped>\n",
       "    .dataframe tbody tr th:only-of-type {\n",
       "        vertical-align: middle;\n",
       "    }\n",
       "\n",
       "    .dataframe tbody tr th {\n",
       "        vertical-align: top;\n",
       "    }\n",
       "\n",
       "    .dataframe thead th {\n",
       "        text-align: right;\n",
       "    }\n",
       "</style>\n",
       "<table border=\"1\" class=\"dataframe\">\n",
       "  <thead>\n",
       "    <tr style=\"text-align: right;\">\n",
       "      <th></th>\n",
       "      <th>Stock-to-Flow Ratio/t</th>\n",
       "      <th>Stock-to-Flow Ratio/o/daysTillHalving</th>\n",
       "      <th>Stock-to-Flow Ratio/o/ratio</th>\n",
       "      <th>Stock-to-Flow Ratio/o/price</th>\n",
       "    </tr>\n",
       "  </thead>\n",
       "  <tbody>\n",
       "    <tr>\n",
       "      <th>0</th>\n",
       "      <td>2010-01-02T00:00:00.000Z</td>\n",
       "      <td>1061</td>\n",
       "      <td>6.670565e-03</td>\n",
       "      <td>NaN</td>\n",
       "    </tr>\n",
       "    <tr>\n",
       "      <th>1</th>\n",
       "      <td>2010-01-03T00:00:00.000Z</td>\n",
       "      <td>1060</td>\n",
       "      <td>6.871941e-03</td>\n",
       "      <td>NaN</td>\n",
       "    </tr>\n",
       "    <tr>\n",
       "      <th>2</th>\n",
       "      <td>2010-01-04T00:00:00.000Z</td>\n",
       "      <td>1059</td>\n",
       "      <td>7.069041e-03</td>\n",
       "      <td>NaN</td>\n",
       "    </tr>\n",
       "    <tr>\n",
       "      <th>3</th>\n",
       "      <td>2010-01-05T00:00:00.000Z</td>\n",
       "      <td>1058</td>\n",
       "      <td>7.286633e-03</td>\n",
       "      <td>NaN</td>\n",
       "    </tr>\n",
       "    <tr>\n",
       "      <th>4</th>\n",
       "      <td>2010-01-06T00:00:00.000Z</td>\n",
       "      <td>1057</td>\n",
       "      <td>7.467272e-03</td>\n",
       "      <td>NaN</td>\n",
       "    </tr>\n",
       "    <tr>\n",
       "      <th>...</th>\n",
       "      <td>...</td>\n",
       "      <td>...</td>\n",
       "      <td>...</td>\n",
       "      <td>...</td>\n",
       "    </tr>\n",
       "    <tr>\n",
       "      <th>6445</th>\n",
       "      <td>2027-08-26T00:00:00.000Z</td>\n",
       "      <td>232</td>\n",
       "      <td>1.382379e+06</td>\n",
       "      <td>NaN</td>\n",
       "    </tr>\n",
       "    <tr>\n",
       "      <th>6446</th>\n",
       "      <td>2027-08-27T00:00:00.000Z</td>\n",
       "      <td>231</td>\n",
       "      <td>1.382488e+06</td>\n",
       "      <td>NaN</td>\n",
       "    </tr>\n",
       "    <tr>\n",
       "      <th>6447</th>\n",
       "      <td>2027-08-28T00:00:00.000Z</td>\n",
       "      <td>230</td>\n",
       "      <td>1.382598e+06</td>\n",
       "      <td>NaN</td>\n",
       "    </tr>\n",
       "    <tr>\n",
       "      <th>6448</th>\n",
       "      <td>2027-08-29T00:00:00.000Z</td>\n",
       "      <td>229</td>\n",
       "      <td>1.382707e+06</td>\n",
       "      <td>NaN</td>\n",
       "    </tr>\n",
       "    <tr>\n",
       "      <th>6449</th>\n",
       "      <td>2027-08-30T00:00:00.000Z</td>\n",
       "      <td>228</td>\n",
       "      <td>1.382817e+06</td>\n",
       "      <td>NaN</td>\n",
       "    </tr>\n",
       "  </tbody>\n",
       "</table>\n",
       "<p>6450 rows × 4 columns</p>\n",
       "</div>"
      ],
      "text/plain": [
       "         Stock-to-Flow Ratio/t  Stock-to-Flow Ratio/o/daysTillHalving  \\\n",
       "0     2010-01-02T00:00:00.000Z                                   1061   \n",
       "1     2010-01-03T00:00:00.000Z                                   1060   \n",
       "2     2010-01-04T00:00:00.000Z                                   1059   \n",
       "3     2010-01-05T00:00:00.000Z                                   1058   \n",
       "4     2010-01-06T00:00:00.000Z                                   1057   \n",
       "...                        ...                                    ...   \n",
       "6445  2027-08-26T00:00:00.000Z                                    232   \n",
       "6446  2027-08-27T00:00:00.000Z                                    231   \n",
       "6447  2027-08-28T00:00:00.000Z                                    230   \n",
       "6448  2027-08-29T00:00:00.000Z                                    229   \n",
       "6449  2027-08-30T00:00:00.000Z                                    228   \n",
       "\n",
       "      Stock-to-Flow Ratio/o/ratio  Stock-to-Flow Ratio/o/price  \n",
       "0                    6.670565e-03                          NaN  \n",
       "1                    6.871941e-03                          NaN  \n",
       "2                    7.069041e-03                          NaN  \n",
       "3                    7.286633e-03                          NaN  \n",
       "4                    7.467272e-03                          NaN  \n",
       "...                           ...                          ...  \n",
       "6445                 1.382379e+06                          NaN  \n",
       "6446                 1.382488e+06                          NaN  \n",
       "6447                 1.382598e+06                          NaN  \n",
       "6448                 1.382707e+06                          NaN  \n",
       "6449                 1.382817e+06                          NaN  \n",
       "\n",
       "[6450 rows x 4 columns]"
      ]
     },
     "execution_count": 10,
     "metadata": {},
     "output_type": "execute_result"
    }
   ],
   "source": [
    "stock_to_flow"
   ]
  },
  {
   "cell_type": "code",
   "execution_count": 11,
   "metadata": {},
   "outputs": [
    {
     "data": {
      "text/html": [
       "<div>\n",
       "<style scoped>\n",
       "    .dataframe tbody tr th:only-of-type {\n",
       "        vertical-align: middle;\n",
       "    }\n",
       "\n",
       "    .dataframe tbody tr th {\n",
       "        vertical-align: top;\n",
       "    }\n",
       "\n",
       "    .dataframe thead th {\n",
       "        text-align: right;\n",
       "    }\n",
       "</style>\n",
       "<table border=\"1\" class=\"dataframe\">\n",
       "  <thead>\n",
       "    <tr style=\"text-align: right;\">\n",
       "      <th></th>\n",
       "      <th>Fees (Total)/t</th>\n",
       "      <th>Fees (Total)/v</th>\n",
       "    </tr>\n",
       "  </thead>\n",
       "  <tbody>\n",
       "    <tr>\n",
       "      <th>0</th>\n",
       "      <td>2009-01-03T00:00:00.000Z</td>\n",
       "      <td>0.000000</td>\n",
       "    </tr>\n",
       "    <tr>\n",
       "      <th>1</th>\n",
       "      <td>2009-01-04T00:00:00.000Z</td>\n",
       "      <td>0.000000</td>\n",
       "    </tr>\n",
       "    <tr>\n",
       "      <th>2</th>\n",
       "      <td>2009-01-05T00:00:00.000Z</td>\n",
       "      <td>0.000000</td>\n",
       "    </tr>\n",
       "    <tr>\n",
       "      <th>3</th>\n",
       "      <td>2009-01-06T00:00:00.000Z</td>\n",
       "      <td>0.000000</td>\n",
       "    </tr>\n",
       "    <tr>\n",
       "      <th>4</th>\n",
       "      <td>2009-01-07T00:00:00.000Z</td>\n",
       "      <td>0.000000</td>\n",
       "    </tr>\n",
       "    <tr>\n",
       "      <th>...</th>\n",
       "      <td>...</td>\n",
       "      <td>...</td>\n",
       "    </tr>\n",
       "    <tr>\n",
       "      <th>4983</th>\n",
       "      <td>2022-08-26T00:00:00.000Z</td>\n",
       "      <td>11.316777</td>\n",
       "    </tr>\n",
       "    <tr>\n",
       "      <th>4984</th>\n",
       "      <td>2022-08-27T00:00:00.000Z</td>\n",
       "      <td>8.786083</td>\n",
       "    </tr>\n",
       "    <tr>\n",
       "      <th>4985</th>\n",
       "      <td>2022-08-28T00:00:00.000Z</td>\n",
       "      <td>7.495430</td>\n",
       "    </tr>\n",
       "    <tr>\n",
       "      <th>4986</th>\n",
       "      <td>2022-08-29T00:00:00.000Z</td>\n",
       "      <td>11.008258</td>\n",
       "    </tr>\n",
       "    <tr>\n",
       "      <th>4987</th>\n",
       "      <td>2022-08-30T00:00:00.000Z</td>\n",
       "      <td>12.100508</td>\n",
       "    </tr>\n",
       "  </tbody>\n",
       "</table>\n",
       "<p>4988 rows × 2 columns</p>\n",
       "</div>"
      ],
      "text/plain": [
       "                Fees (Total)/t  Fees (Total)/v\n",
       "0     2009-01-03T00:00:00.000Z        0.000000\n",
       "1     2009-01-04T00:00:00.000Z        0.000000\n",
       "2     2009-01-05T00:00:00.000Z        0.000000\n",
       "3     2009-01-06T00:00:00.000Z        0.000000\n",
       "4     2009-01-07T00:00:00.000Z        0.000000\n",
       "...                        ...             ...\n",
       "4983  2022-08-26T00:00:00.000Z       11.316777\n",
       "4984  2022-08-27T00:00:00.000Z        8.786083\n",
       "4985  2022-08-28T00:00:00.000Z        7.495430\n",
       "4986  2022-08-29T00:00:00.000Z       11.008258\n",
       "4987  2022-08-30T00:00:00.000Z       12.100508\n",
       "\n",
       "[4988 rows x 2 columns]"
      ]
     },
     "execution_count": 11,
     "metadata": {},
     "output_type": "execute_result"
    }
   ],
   "source": [
    "fees"
   ]
  },
  {
   "cell_type": "markdown",
   "metadata": {},
   "source": [
    "# VISUALIZATION"
   ]
  },
  {
   "cell_type": "code",
   "execution_count": 47,
   "metadata": {},
   "outputs": [
    {
     "data": {
      "text/plain": [
       "<AxesSubplot:>"
      ]
     },
     "execution_count": 47,
     "metadata": {},
     "output_type": "execute_result"
    },
    {
     "data": {
      "image/png": "[encoded data removed]",
      "text/plain": [
       "<Figure size 432x288 with 1 Axes>"
      ]
     },
     "metadata": {
      "needs_background": "light"
     },
     "output_type": "display_data"
    }
   ],
   "source": [
    "block_height[\"Block Height/v\"].plot()"
   ]
  },
  {
   "cell_type": "code",
   "execution_count": 52,
   "metadata": {},
   "outputs": [
    {
     "data": {
      "text/plain": [
       "<AxesSubplot:>"
      ]
     },
     "execution_count": 52,
     "metadata": {},
     "output_type": "execute_result"
    },
    {
     "data": {
      "image/png": "[encoded data removed]",
      "text/plain": [
       "<Figure size 432x288 with 1 Axes>"
      ]
     },
     "metadata": {
      "needs_background": "light"
     },
     "output_type": "display_data"
    }
   ],
   "source": [
    "new_addresses[\"Active Addresses/v\"].plot()"
   ]
  },
  {
   "cell_type": "code",
   "execution_count": 64,
   "metadata": {},
   "outputs": [
    {
     "data": {
      "text/plain": [
       "<AxesSubplot:>"
      ]
     },
     "execution_count": 64,
     "metadata": {},
     "output_type": "execute_result"
    },
    {
     "data": {
      "image/png": "[encoded data removed]",
      "text/plain": [
       "<Figure size 1152x576 with 1 Axes>"
      ]
     },
     "metadata": {
      "needs_background": "light"
     },
     "output_type": "display_data"
    }
   ],
   "source": [
    "plt.figure(figsize=(16,8))\n",
    "difficulty_ribbon[\"Difficulty Ribbon/o/ma9\"].plot()\n",
    "difficulty_ribbon[\"Difficulty Ribbon/o/ma14\"].plot()\n",
    "difficulty_ribbon[\"Difficulty Ribbon/o/ma25\"].plot()\n",
    "difficulty_ribbon[\"Difficulty Ribbon/o/ma40\"].plot()\n",
    "difficulty_ribbon[\"Difficulty Ribbon/o/ma60\"].plot()\n",
    "difficulty_ribbon[\"Difficulty Ribbon/o/ma90\"].plot()\n",
    "difficulty_ribbon[\"Difficulty Ribbon/o/ma128\"].plot()\n",
    "difficulty_ribbon[\"Difficulty Ribbon/o/ma200\"].plot()"
   ]
  },
  {
   "cell_type": "code",
   "execution_count": 69,
   "metadata": {},
   "outputs": [
    {
     "data": {
      "text/plain": [
       "<AxesSubplot:>"
      ]
     },
     "execution_count": 69,
     "metadata": {},
     "output_type": "execute_result"
    },
    {
     "data": {
      "image/png": "[encoded data removed]",
      "text/plain": [
       "<Figure size 576x360 with 1 Axes>"
      ]
     },
     "metadata": {
      "needs_background": "light"
     },
     "output_type": "display_data"
    }
   ],
   "source": [
    "plt.figure(figsize=(8,5))\n",
    "market_cap_usd[\"Market Cap/v\"].plot()"
   ]
  },
  {
   "cell_type": "code",
   "execution_count": 72,
   "metadata": {},
   "outputs": [
    {
     "data": {
      "text/plain": [
       "<AxesSubplot:>"
      ]
     },
     "execution_count": 72,
     "metadata": {},
     "output_type": "execute_result"
    },
    {
     "data": {
      "image/png": "[encoded data removed]",
      "text/plain": [
       "<Figure size 432x288 with 1 Axes>"
      ]
     },
     "metadata": {
      "needs_background": "light"
     },
     "output_type": "display_data"
    }
   ],
   "source": [
    "active_addresses[\"Active Addresses/v\"].plot()"
   ]
  },
  {
   "cell_type": "code",
   "execution_count": 79,
   "metadata": {},
   "outputs": [
    {
     "data": {
      "text/plain": [
       "<AxesSubplot:>"
      ]
     },
     "execution_count": 79,
     "metadata": {},
     "output_type": "execute_result"
    },
    {
     "data": {
      "image/png": "[encoded data removed]",
      "text/plain": [
       "<Figure size 1152x576 with 1 Axes>"
      ]
     },
     "metadata": {
      "needs_background": "light"
     },
     "output_type": "display_data"
    }
   ],
   "source": [
    "plt.figure(figsize=(16,8))\n",
    "hash_rate[\"Hash Rate/v\"].plot()"
   ]
  },
  {
   "cell_type": "code",
   "execution_count": 82,
   "metadata": {},
   "outputs": [
    {
     "data": {
      "text/plain": [
       "<AxesSubplot:>"
      ]
     },
     "execution_count": 82,
     "metadata": {},
     "output_type": "execute_result"
    },
    {
     "data": {
      "image/png": "[encoded data removed]",
      "text/plain": [
       "<Figure size 864x432 with 1 Axes>"
      ]
     },
     "metadata": {
      "needs_background": "light"
     },
     "output_type": "display_data"
    }
   ],
   "source": [
    "plt.figure(figsize=(12,6))\n",
    "SOPR[\"SOPR/v\"].plot()"
   ]
  },
  {
   "cell_type": "code",
   "execution_count": 87,
   "metadata": {},
   "outputs": [
    {
     "data": {
      "text/plain": [
       "<AxesSubplot:>"
      ]
     },
     "execution_count": 87,
     "metadata": {},
     "output_type": "execute_result"
    },
    {
     "data": {
      "image/png": "[encoded data removed]",
      "text/plain": [
       "<Figure size 720x432 with 1 Axes>"
      ]
     },
     "metadata": {
      "needs_background": "light"
     },
     "output_type": "display_data"
    }
   ],
   "source": [
    "plt.figure(figsize=(10,6))\n",
    "fees[\"Fees (Total)/v\"].plot()"
   ]
  },
  {
   "cell_type": "code",
   "execution_count": 91,
   "metadata": {},
   "outputs": [
    {
     "data": {
      "text/plain": [
       "<AxesSubplot:>"
      ]
     },
     "execution_count": 91,
     "metadata": {},
     "output_type": "execute_result"
    },
    {
     "data": {
      "image/png": "[encoded data removed]",
      "text/plain": [
       "<Figure size 1296x576 with 1 Axes>"
      ]
     },
     "metadata": {
      "needs_background": "light"
     },
     "output_type": "display_data"
    }
   ],
   "source": [
    "plt.figure(figsize=(18,8))\n",
    "stock_to_flow[\"Stock-to-Flow Ratio/o/ratio\"].plot()"
   ]
  },
  {
   "cell_type": "markdown",
   "metadata": {},
   "source": [
    "# TO DO\n",
    "MAKE VISUALIZATION AS IN THE WORD DOCUMENT"
   ]
  },
  {
   "cell_type": "code",
   "execution_count": null,
   "metadata": {},
   "outputs": [],
   "source": []
  }
 ],
 "metadata": {
  "kernelspec": {
   "display_name": "Python 3",
   "language": "python",
   "name": "python3"
  },
  "language_info": {
   "codemirror_mode": {
    "name": "ipython",
    "version": 3
   },
   "file_extension": ".py",
   "mimetype": "text/x-python",
   "name": "python",
   "nbconvert_exporter": "python",
   "pygments_lexer": "ipython3",
   "version": "3.9.8"
  }
 },
 "nbformat": 4,
 "nbformat_minor": 4
}
